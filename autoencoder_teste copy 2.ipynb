{
 "cells": [
  {
   "cell_type": "code",
   "execution_count": 1,
   "metadata": {},
   "outputs": [
    {
     "name": "stderr",
     "output_type": "stream",
     "text": [
      "2024-09-17 14:15:25.632043: E external/local_xla/xla/stream_executor/cuda/cuda_fft.cc:485] Unable to register cuFFT factory: Attempting to register factory for plugin cuFFT when one has already been registered\n",
      "2024-09-17 14:15:25.645410: E external/local_xla/xla/stream_executor/cuda/cuda_dnn.cc:8454] Unable to register cuDNN factory: Attempting to register factory for plugin cuDNN when one has already been registered\n",
      "2024-09-17 14:15:25.649458: E external/local_xla/xla/stream_executor/cuda/cuda_blas.cc:1452] Unable to register cuBLAS factory: Attempting to register factory for plugin cuBLAS when one has already been registered\n",
      "2024-09-17 14:15:25.658970: I tensorflow/core/platform/cpu_feature_guard.cc:210] This TensorFlow binary is optimized to use available CPU instructions in performance-critical operations.\n",
      "To enable the following instructions: AVX2 FMA, in other operations, rebuild TensorFlow with the appropriate compiler flags.\n",
      "2024-09-17 14:15:26.550814: W tensorflow/compiler/tf2tensorrt/utils/py_utils.cc:38] TF-TRT Warning: Could not find TensorRT\n"
     ]
    }
   ],
   "source": [
    "import keras\n",
    "import tensorflow as tf\n",
    "\n",
    "import os\n",
    "tf.config.optimizer.set_jit(False)  # Desativa XLA"
   ]
  },
  {
   "cell_type": "code",
   "execution_count": 2,
   "metadata": {},
   "outputs": [
    {
     "name": "stdout",
     "output_type": "stream",
     "text": [
      "DataFrame do local PUC salvo como: Datasets_csv/df_PUC.csv\n",
      "DataFrame do local PUC:\n",
      "                                      caminho_imagem    classe\n",
      "0  /home/lucas/Downloads/PKLot/PKLotSegmented/PUC...  Occupied\n",
      "1  /home/lucas/Downloads/PKLot/PKLotSegmented/PUC...     Empty\n",
      "2  /home/lucas/Downloads/PKLot/PKLotSegmented/PUC...     Empty\n",
      "3  /home/lucas/Downloads/PKLot/PKLotSegmented/PUC...  Occupied\n",
      "4  /home/lucas/Downloads/PKLot/PKLotSegmented/PUC...     Empty\n",
      "\n",
      "\n",
      "DataFrame do local UFPR04 salvo como: Datasets_csv/df_UFPR04.csv\n",
      "DataFrame do local UFPR04:\n",
      "                                      caminho_imagem    classe\n",
      "0  /home/lucas/Downloads/PKLot/PKLotSegmented/UFP...  Occupied\n",
      "1  /home/lucas/Downloads/PKLot/PKLotSegmented/UFP...     Empty\n",
      "2  /home/lucas/Downloads/PKLot/PKLotSegmented/UFP...  Occupied\n",
      "3  /home/lucas/Downloads/PKLot/PKLotSegmented/UFP...  Occupied\n",
      "4  /home/lucas/Downloads/PKLot/PKLotSegmented/UFP...  Occupied\n",
      "\n",
      "\n",
      "DataFrame do local UFPR05 salvo como: Datasets_csv/df_UFPR05.csv\n",
      "DataFrame do local UFPR05:\n",
      "                                      caminho_imagem    classe\n",
      "0  /home/lucas/Downloads/PKLot/PKLotSegmented/UFP...     Empty\n",
      "1  /home/lucas/Downloads/PKLot/PKLotSegmented/UFP...  Occupied\n",
      "2  /home/lucas/Downloads/PKLot/PKLotSegmented/UFP...  Occupied\n",
      "3  /home/lucas/Downloads/PKLot/PKLotSegmented/UFP...     Empty\n",
      "4  /home/lucas/Downloads/PKLot/PKLotSegmented/UFP...  Occupied\n",
      "\n",
      "\n",
      "DataFrame do local PUC salvo como: Datasets_csv/df_PUC.csv\n",
      "DataFrame do local PUC:\n",
      "                                      caminho_imagem    classe\n",
      "0  /home/lucas/Downloads/PKLot/PKLotSegmented/PUC...  Occupied\n",
      "1  /home/lucas/Downloads/PKLot/PKLotSegmented/PUC...     Empty\n",
      "2  /home/lucas/Downloads/PKLot/PKLotSegmented/PUC...     Empty\n",
      "3  /home/lucas/Downloads/PKLot/PKLotSegmented/PUC...     Empty\n",
      "4  /home/lucas/Downloads/PKLot/PKLotSegmented/PUC...  Occupied\n",
      "\n",
      "\n",
      "DataFrame do local UFPR04 salvo como: Datasets_csv/df_UFPR04.csv\n",
      "DataFrame do local UFPR04:\n",
      "                                      caminho_imagem    classe\n",
      "0  /home/lucas/Downloads/PKLot/PKLotSegmented/UFP...  Occupied\n",
      "1  /home/lucas/Downloads/PKLot/PKLotSegmented/UFP...     Empty\n",
      "2  /home/lucas/Downloads/PKLot/PKLotSegmented/UFP...     Empty\n",
      "3  /home/lucas/Downloads/PKLot/PKLotSegmented/UFP...  Occupied\n",
      "4  /home/lucas/Downloads/PKLot/PKLotSegmented/UFP...     Empty\n",
      "\n",
      "\n",
      "DataFrame do local UFPR05 salvo como: Datasets_csv/df_UFPR05.csv\n",
      "DataFrame do local UFPR05:\n",
      "                                      caminho_imagem    classe\n",
      "0  /home/lucas/Downloads/PKLot/PKLotSegmented/UFP...  Occupied\n",
      "1  /home/lucas/Downloads/PKLot/PKLotSegmented/UFP...  Occupied\n",
      "2  /home/lucas/Downloads/PKLot/PKLotSegmented/UFP...     Empty\n",
      "3  /home/lucas/Downloads/PKLot/PKLotSegmented/UFP...  Occupied\n",
      "4  /home/lucas/Downloads/PKLot/PKLotSegmented/UFP...  Occupied\n",
      "\n",
      "\n"
     ]
    }
   ],
   "source": [
    "from segmentandoDatasets import *\n",
    "\n",
    "segmentando_datasets()"
   ]
  },
  {
   "cell_type": "code",
   "execution_count": 3,
   "metadata": {},
   "outputs": [],
   "source": [
    "import pandas as pd\n",
    "import tensorflow as tf\n",
    "import numpy as np\n",
    "from tensorflow.keras.preprocessing.image import ImageDataGenerator\n",
    "from sklearn.model_selection import train_test_split\n",
    "import matplotlib.pyplot as plt\n",
    "from tensorflow.keras.preprocessing.image import load_img, img_to_array\n",
    "from typing import List, Tuple\n",
    "import os\n",
    "\n",
    "def preprocessamento(caminho: str, proporcao_treino: float = 0.6, proporcao_teste: float = 0.2, proporcao_validacao: float = 0.2, autoencoder: bool = False):\n",
    "    \"\"\"\n",
    "    Ao passar um dataFrame .csv, ele irá retornar geradores de dados para treino, teste e validação + os 3 .csv dividos igualmente os geradores.\n",
    "    \n",
    "    Parâmetros:\n",
    "        caminho (str): Caminho para o arquivo CSV.\n",
    "        proporcao_treino (float): Proporção de dados de treino.\n",
    "        proporcao_teste (float): Proporção de dados de teste.\n",
    "        proporcao_validacao (float): Proporção de dados de validação.\n",
    "        autoencoder (bool): Se True, prepara os dados para um autoencoder (class_mode='input').\n",
    "                            Se False, prepara os dados para classificação binária (class_mode='binary').\n",
    "    \n",
    "    Retorna:\n",
    "        treino_gerador, validacao_gerador, teste_gerador, treino, teste, validacao\n",
    "    \"\"\"\n",
    "    dataframe = pd.read_csv(caminho)\n",
    "\n",
    "    treino, teste = train_test_split(dataframe, test_size=proporcao_teste, random_state=42)\n",
    "    treino, validacao = train_test_split(treino, test_size=proporcao_validacao / (1 - proporcao_teste), random_state=42)\n",
    "\n",
    "    img_width, img_height = 64, 64\n",
    "    batch_size = 32\n",
    "\n",
    "    def normalize_image(img):\n",
    "        return img / 255.0\n",
    "\n",
    "    treino_datagen = ImageDataGenerator(preprocessing_function=normalize_image)\n",
    "    validacao_datagen = ImageDataGenerator(preprocessing_function=normalize_image)\n",
    "    teste_datagen = ImageDataGenerator(preprocessing_function=normalize_image)\n",
    "\n",
    "    class_mode = 'input' if autoencoder else 'binary'\n",
    "\n",
    "    treino_gerador = treino_datagen.flow_from_dataframe(\n",
    "        dataframe=treino,\n",
    "        x_col='caminho_imagem',\n",
    "        y_col='caminho_imagem' if autoencoder else 'classe', #Usar a imagem como saída se for autoencoder\n",
    "        target_size=(img_width, img_height),\n",
    "        batch_size=batch_size,\n",
    "        class_mode=class_mode,  #Class mode baseado no parâmetro autoencoder\n",
    "        shuffle=False\n",
    "    )\n",
    "\n",
    "    validacao_gerador = validacao_datagen.flow_from_dataframe(\n",
    "        dataframe=validacao,\n",
    "        x_col='caminho_imagem',\n",
    "        y_col='caminho_imagem' if autoencoder else 'classe',  \n",
    "        target_size=(img_width, img_height),\n",
    "        batch_size=batch_size,\n",
    "        class_mode=class_mode, \n",
    "        shuffle=False\n",
    "    )\n",
    "\n",
    "    teste_gerador = teste_datagen.flow_from_dataframe(\n",
    "        dataframe=teste,\n",
    "        x_col='caminho_imagem',\n",
    "        y_col='caminho_imagem' if autoencoder else 'classe',  \n",
    "        target_size=(img_width, img_height),\n",
    "        batch_size=batch_size,\n",
    "        class_mode=class_mode, \n",
    "        shuffle=False\n",
    "    )\n",
    "\n",
    "    return treino_gerador, validacao_gerador, teste_gerador, treino, teste, validacao"
   ]
  },
  {
   "cell_type": "code",
   "execution_count": 4,
   "metadata": {},
   "outputs": [
    {
     "name": "stdout",
     "output_type": "stream",
     "text": [
      "Found 254533 validated image filenames.\n",
      "Found 84845 validated image filenames.\n",
      "Found 84845 validated image filenames.\n"
     ]
    }
   ],
   "source": [
    "csv_file = 'Datasets_csv/df_PUC.csv'\n",
    "treino_gerador, validacao_gerador, teste_gerador, treino, teste, validacao = preprocessamento(csv_file, autoencoder=True)"
   ]
  },
  {
   "cell_type": "code",
   "execution_count": 5,
   "metadata": {},
   "outputs": [
    {
     "name": "stderr",
     "output_type": "stream",
     "text": [
      "WARNING: All log messages before absl::InitializeLog() is called are written to STDERR\n",
      "I0000 00:00:1726593337.427573   43824 cuda_executor.cc:1015] successful NUMA node read from SysFS had negative value (-1), but there must be at least one NUMA node, so returning NUMA node zero. See more at https://github.com/torvalds/linux/blob/v6.0/Documentation/ABI/testing/sysfs-bus-pci#L344-L355\n",
      "I0000 00:00:1726593337.462129   43824 cuda_executor.cc:1015] successful NUMA node read from SysFS had negative value (-1), but there must be at least one NUMA node, so returning NUMA node zero. See more at https://github.com/torvalds/linux/blob/v6.0/Documentation/ABI/testing/sysfs-bus-pci#L344-L355\n",
      "I0000 00:00:1726593337.462298   43824 cuda_executor.cc:1015] successful NUMA node read from SysFS had negative value (-1), but there must be at least one NUMA node, so returning NUMA node zero. See more at https://github.com/torvalds/linux/blob/v6.0/Documentation/ABI/testing/sysfs-bus-pci#L344-L355\n",
      "I0000 00:00:1726593337.463237   43824 cuda_executor.cc:1015] successful NUMA node read from SysFS had negative value (-1), but there must be at least one NUMA node, so returning NUMA node zero. See more at https://github.com/torvalds/linux/blob/v6.0/Documentation/ABI/testing/sysfs-bus-pci#L344-L355\n",
      "I0000 00:00:1726593337.463358   43824 cuda_executor.cc:1015] successful NUMA node read from SysFS had negative value (-1), but there must be at least one NUMA node, so returning NUMA node zero. See more at https://github.com/torvalds/linux/blob/v6.0/Documentation/ABI/testing/sysfs-bus-pci#L344-L355\n",
      "I0000 00:00:1726593337.463471   43824 cuda_executor.cc:1015] successful NUMA node read from SysFS had negative value (-1), but there must be at least one NUMA node, so returning NUMA node zero. See more at https://github.com/torvalds/linux/blob/v6.0/Documentation/ABI/testing/sysfs-bus-pci#L344-L355\n",
      "I0000 00:00:1726593337.525771   43824 cuda_executor.cc:1015] successful NUMA node read from SysFS had negative value (-1), but there must be at least one NUMA node, so returning NUMA node zero. See more at https://github.com/torvalds/linux/blob/v6.0/Documentation/ABI/testing/sysfs-bus-pci#L344-L355\n",
      "I0000 00:00:1726593337.525933   43824 cuda_executor.cc:1015] successful NUMA node read from SysFS had negative value (-1), but there must be at least one NUMA node, so returning NUMA node zero. See more at https://github.com/torvalds/linux/blob/v6.0/Documentation/ABI/testing/sysfs-bus-pci#L344-L355\n",
      "I0000 00:00:1726593337.526048   43824 cuda_executor.cc:1015] successful NUMA node read from SysFS had negative value (-1), but there must be at least one NUMA node, so returning NUMA node zero. See more at https://github.com/torvalds/linux/blob/v6.0/Documentation/ABI/testing/sysfs-bus-pci#L344-L355\n",
      "2024-09-17 14:15:37.526131: I tensorflow/core/common_runtime/gpu/gpu_device.cc:2021] Created device /job:localhost/replica:0/task:0/device:GPU:0 with 843 MB memory:  -> device: 0, name: NVIDIA GeForce GTX 1660, pci bus id: 0000:01:00.0, compute capability: 7.5\n"
     ]
    }
   ],
   "source": [
    "autoencoder = tf.keras.models.load_model('/home/lucas/PIBIC (copy)/Modelos_keras/Autoencoder.keras')\n",
    "autoencoder.load_weights('/home/lucas/PIBIC (copy)/weights_finais/Autoencoder.weights.h5')"
   ]
  },
  {
   "cell_type": "code",
   "execution_count": 6,
   "metadata": {},
   "outputs": [
    {
     "data": {
      "text/html": [
       "<pre style=\"white-space:pre;overflow-x:auto;line-height:normal;font-family:Menlo,'DejaVu Sans Mono',consolas,'Courier New',monospace\"><span style=\"font-weight: bold\">Model: \"sequential_2\"</span>\n",
       "</pre>\n"
      ],
      "text/plain": [
       "\u001b[1mModel: \"sequential_2\"\u001b[0m\n"
      ]
     },
     "metadata": {},
     "output_type": "display_data"
    },
    {
     "data": {
      "text/html": [
       "<pre style=\"white-space:pre;overflow-x:auto;line-height:normal;font-family:Menlo,'DejaVu Sans Mono',consolas,'Courier New',monospace\">┏━━━━━━━━━━━━━━━━━━━━━━━━━━━━━━━━━┳━━━━━━━━━━━━━━━━━━━━━━━━┳━━━━━━━━━━━━━━━┓\n",
       "┃<span style=\"font-weight: bold\"> Layer (type)                    </span>┃<span style=\"font-weight: bold\"> Output Shape           </span>┃<span style=\"font-weight: bold\">       Param # </span>┃\n",
       "┡━━━━━━━━━━━━━━━━━━━━━━━━━━━━━━━━━╇━━━━━━━━━━━━━━━━━━━━━━━━╇━━━━━━━━━━━━━━━┩\n",
       "│ sequential (<span style=\"color: #0087ff; text-decoration-color: #0087ff\">Sequential</span>)         │ (<span style=\"color: #00d7ff; text-decoration-color: #00d7ff\">None</span>, <span style=\"color: #00af00; text-decoration-color: #00af00\">4</span>, <span style=\"color: #00af00; text-decoration-color: #00af00\">4</span>, <span style=\"color: #00af00; text-decoration-color: #00af00\">128</span>)      │        <span style=\"color: #00af00; text-decoration-color: #00af00\">97,440</span> │\n",
       "├─────────────────────────────────┼────────────────────────┼───────────────┤\n",
       "│ sequential_1 (<span style=\"color: #0087ff; text-decoration-color: #0087ff\">Sequential</span>)       │ (<span style=\"color: #00d7ff; text-decoration-color: #00d7ff\">None</span>, <span style=\"color: #00af00; text-decoration-color: #00af00\">64</span>, <span style=\"color: #00af00; text-decoration-color: #00af00\">64</span>, <span style=\"color: #00af00; text-decoration-color: #00af00\">3</span>)      │       <span style=\"color: #00af00; text-decoration-color: #00af00\">244,899</span> │\n",
       "└─────────────────────────────────┴────────────────────────┴───────────────┘\n",
       "</pre>\n"
      ],
      "text/plain": [
       "┏━━━━━━━━━━━━━━━━━━━━━━━━━━━━━━━━━┳━━━━━━━━━━━━━━━━━━━━━━━━┳━━━━━━━━━━━━━━━┓\n",
       "┃\u001b[1m \u001b[0m\u001b[1mLayer (type)                   \u001b[0m\u001b[1m \u001b[0m┃\u001b[1m \u001b[0m\u001b[1mOutput Shape          \u001b[0m\u001b[1m \u001b[0m┃\u001b[1m \u001b[0m\u001b[1m      Param #\u001b[0m\u001b[1m \u001b[0m┃\n",
       "┡━━━━━━━━━━━━━━━━━━━━━━━━━━━━━━━━━╇━━━━━━━━━━━━━━━━━━━━━━━━╇━━━━━━━━━━━━━━━┩\n",
       "│ sequential (\u001b[38;5;33mSequential\u001b[0m)         │ (\u001b[38;5;45mNone\u001b[0m, \u001b[38;5;34m4\u001b[0m, \u001b[38;5;34m4\u001b[0m, \u001b[38;5;34m128\u001b[0m)      │        \u001b[38;5;34m97,440\u001b[0m │\n",
       "├─────────────────────────────────┼────────────────────────┼───────────────┤\n",
       "│ sequential_1 (\u001b[38;5;33mSequential\u001b[0m)       │ (\u001b[38;5;45mNone\u001b[0m, \u001b[38;5;34m64\u001b[0m, \u001b[38;5;34m64\u001b[0m, \u001b[38;5;34m3\u001b[0m)      │       \u001b[38;5;34m244,899\u001b[0m │\n",
       "└─────────────────────────────────┴────────────────────────┴───────────────┘\n"
      ]
     },
     "metadata": {},
     "output_type": "display_data"
    },
    {
     "data": {
      "text/html": [
       "<pre style=\"white-space:pre;overflow-x:auto;line-height:normal;font-family:Menlo,'DejaVu Sans Mono',consolas,'Courier New',monospace\"><span style=\"font-weight: bold\"> Total params: </span><span style=\"color: #00af00; text-decoration-color: #00af00\">1,027,019</span> (3.92 MB)\n",
       "</pre>\n"
      ],
      "text/plain": [
       "\u001b[1m Total params: \u001b[0m\u001b[38;5;34m1,027,019\u001b[0m (3.92 MB)\n"
      ]
     },
     "metadata": {},
     "output_type": "display_data"
    },
    {
     "data": {
      "text/html": [
       "<pre style=\"white-space:pre;overflow-x:auto;line-height:normal;font-family:Menlo,'DejaVu Sans Mono',consolas,'Courier New',monospace\"><span style=\"font-weight: bold\"> Trainable params: </span><span style=\"color: #00af00; text-decoration-color: #00af00\">342,339</span> (1.31 MB)\n",
       "</pre>\n"
      ],
      "text/plain": [
       "\u001b[1m Trainable params: \u001b[0m\u001b[38;5;34m342,339\u001b[0m (1.31 MB)\n"
      ]
     },
     "metadata": {},
     "output_type": "display_data"
    },
    {
     "data": {
      "text/html": [
       "<pre style=\"white-space:pre;overflow-x:auto;line-height:normal;font-family:Menlo,'DejaVu Sans Mono',consolas,'Courier New',monospace\"><span style=\"font-weight: bold\"> Non-trainable params: </span><span style=\"color: #00af00; text-decoration-color: #00af00\">0</span> (0.00 B)\n",
       "</pre>\n"
      ],
      "text/plain": [
       "\u001b[1m Non-trainable params: \u001b[0m\u001b[38;5;34m0\u001b[0m (0.00 B)\n"
      ]
     },
     "metadata": {},
     "output_type": "display_data"
    },
    {
     "data": {
      "text/html": [
       "<pre style=\"white-space:pre;overflow-x:auto;line-height:normal;font-family:Menlo,'DejaVu Sans Mono',consolas,'Courier New',monospace\"><span style=\"font-weight: bold\"> Optimizer params: </span><span style=\"color: #00af00; text-decoration-color: #00af00\">684,680</span> (2.61 MB)\n",
       "</pre>\n"
      ],
      "text/plain": [
       "\u001b[1m Optimizer params: \u001b[0m\u001b[38;5;34m684,680\u001b[0m (2.61 MB)\n"
      ]
     },
     "metadata": {},
     "output_type": "display_data"
    }
   ],
   "source": [
    "autoencoder.summary()"
   ]
  },
  {
   "cell_type": "code",
   "execution_count": 7,
   "metadata": {},
   "outputs": [],
   "source": [
    "decoder = autoencoder.get_layer('sequential')\n",
    "encoder = autoencoder.get_layer('sequential_1')"
   ]
  },
  {
   "cell_type": "code",
   "execution_count": 12,
   "metadata": {},
   "outputs": [
    {
     "name": "stdout",
     "output_type": "stream",
     "text": [
      "Forma do batch de dados: (32, 64, 64, 3)\n",
      "Forma das labels: (32, 64, 64, 3)\n"
     ]
    }
   ],
   "source": [
    "# Obtém o primeiro batch\n",
    "batch = next(iter(teste_gerador))\n",
    "\n",
    "# Verifica a forma dos dados e das labels\n",
    "print(f'Forma do batch de dados: {batch[0].shape}')\n",
    "print(f'Forma das labels: {batch[1].shape}')\n"
   ]
  },
  {
   "cell_type": "code",
   "execution_count": 9,
   "metadata": {},
   "outputs": [
    {
     "name": "stderr",
     "output_type": "stream",
     "text": [
      "/home/lucas/PIBIC (copy)/.venv/lib/python3.11/site-packages/keras/src/trainers/data_adapters/py_dataset_adapter.py:122: UserWarning: Your `PyDataset` class should call `super().__init__(**kwargs)` in its constructor. `**kwargs` can include `workers`, `use_multiprocessing`, `max_queue_size`. Do not pass these arguments to `fit()`, as they will be ignored.\n",
      "  self._warn_if_super_not_called()\n"
     ]
    },
    {
     "ename": "ValueError",
     "evalue": "Exception encountered when calling Sequential.call().\n\n\u001b[1mInput 0 of layer \"conv2d_transpose\" is incompatible with the layer: expected axis -1 of input shape to have value 128, but received input with shape (32, 64, 64, 3)\u001b[0m\n\nArguments received by Sequential.call():\n  • inputs=tf.Tensor(shape=(32, 64, 64, 3), dtype=float32)\n  • training=False\n  • mask=None",
     "output_type": "error",
     "traceback": [
      "\u001b[0;31m---------------------------------------------------------------------------\u001b[0m",
      "\u001b[0;31mValueError\u001b[0m                                Traceback (most recent call last)",
      "Cell \u001b[0;32mIn[9], line 1\u001b[0m\n\u001b[0;32m----> 1\u001b[0m imagens_codificadas \u001b[38;5;241m=\u001b[39m \u001b[43mencoder\u001b[49m\u001b[38;5;241;43m.\u001b[39;49m\u001b[43mpredict\u001b[49m\u001b[43m(\u001b[49m\u001b[43mteste_gerador\u001b[49m\u001b[43m,\u001b[49m\u001b[43m \u001b[49m\u001b[43mbatch_size\u001b[49m\u001b[38;5;241;43m=\u001b[39;49m\u001b[38;5;241;43m8\u001b[39;49m\u001b[43m)\u001b[49m\n\u001b[1;32m      3\u001b[0m \u001b[38;5;28mprint\u001b[39m(\u001b[38;5;124mf\u001b[39m\u001b[38;5;124m'\u001b[39m\u001b[38;5;124mForma de encoded_imgs: \u001b[39m\u001b[38;5;132;01m{\u001b[39;00mimagens_codificadas\u001b[38;5;241m.\u001b[39mshape\u001b[38;5;132;01m}\u001b[39;00m\u001b[38;5;124m'\u001b[39m)\n\u001b[1;32m      5\u001b[0m imagens_decodificadas \u001b[38;5;241m=\u001b[39m decoder\u001b[38;5;241m.\u001b[39mpredict(imagens_codificadas, batch_size\u001b[38;5;241m=\u001b[39m\u001b[38;5;241m8\u001b[39m)\n",
      "File \u001b[0;32m~/PIBIC (copy)/.venv/lib/python3.11/site-packages/keras/src/utils/traceback_utils.py:122\u001b[0m, in \u001b[0;36mfilter_traceback.<locals>.error_handler\u001b[0;34m(*args, **kwargs)\u001b[0m\n\u001b[1;32m    119\u001b[0m     filtered_tb \u001b[38;5;241m=\u001b[39m _process_traceback_frames(e\u001b[38;5;241m.\u001b[39m__traceback__)\n\u001b[1;32m    120\u001b[0m     \u001b[38;5;66;03m# To get the full stack trace, call:\u001b[39;00m\n\u001b[1;32m    121\u001b[0m     \u001b[38;5;66;03m# `keras.config.disable_traceback_filtering()`\u001b[39;00m\n\u001b[0;32m--> 122\u001b[0m     \u001b[38;5;28;01mraise\u001b[39;00m e\u001b[38;5;241m.\u001b[39mwith_traceback(filtered_tb) \u001b[38;5;28;01mfrom\u001b[39;00m \u001b[38;5;28;01mNone\u001b[39;00m\n\u001b[1;32m    123\u001b[0m \u001b[38;5;28;01mfinally\u001b[39;00m:\n\u001b[1;32m    124\u001b[0m     \u001b[38;5;28;01mdel\u001b[39;00m filtered_tb\n",
      "File \u001b[0;32m~/PIBIC (copy)/.venv/lib/python3.11/site-packages/keras/src/layers/input_spec.py:227\u001b[0m, in \u001b[0;36massert_input_compatibility\u001b[0;34m(input_spec, inputs, layer_name)\u001b[0m\n\u001b[1;32m    222\u001b[0m     \u001b[38;5;28;01mfor\u001b[39;00m axis, value \u001b[38;5;129;01min\u001b[39;00m spec\u001b[38;5;241m.\u001b[39maxes\u001b[38;5;241m.\u001b[39mitems():\n\u001b[1;32m    223\u001b[0m         \u001b[38;5;28;01mif\u001b[39;00m value \u001b[38;5;129;01mis\u001b[39;00m \u001b[38;5;129;01mnot\u001b[39;00m \u001b[38;5;28;01mNone\u001b[39;00m \u001b[38;5;129;01mand\u001b[39;00m shape[axis] \u001b[38;5;129;01mnot\u001b[39;00m \u001b[38;5;129;01min\u001b[39;00m {\n\u001b[1;32m    224\u001b[0m             value,\n\u001b[1;32m    225\u001b[0m             \u001b[38;5;28;01mNone\u001b[39;00m,\n\u001b[1;32m    226\u001b[0m         }:\n\u001b[0;32m--> 227\u001b[0m             \u001b[38;5;28;01mraise\u001b[39;00m \u001b[38;5;167;01mValueError\u001b[39;00m(\n\u001b[1;32m    228\u001b[0m                 \u001b[38;5;124mf\u001b[39m\u001b[38;5;124m'\u001b[39m\u001b[38;5;124mInput \u001b[39m\u001b[38;5;132;01m{\u001b[39;00minput_index\u001b[38;5;132;01m}\u001b[39;00m\u001b[38;5;124m of layer \u001b[39m\u001b[38;5;124m\"\u001b[39m\u001b[38;5;132;01m{\u001b[39;00mlayer_name\u001b[38;5;132;01m}\u001b[39;00m\u001b[38;5;124m\"\u001b[39m\u001b[38;5;124m is \u001b[39m\u001b[38;5;124m'\u001b[39m\n\u001b[1;32m    229\u001b[0m                 \u001b[38;5;124mf\u001b[39m\u001b[38;5;124m\"\u001b[39m\u001b[38;5;124mincompatible with the layer: expected axis \u001b[39m\u001b[38;5;132;01m{\u001b[39;00maxis\u001b[38;5;132;01m}\u001b[39;00m\u001b[38;5;124m \u001b[39m\u001b[38;5;124m\"\u001b[39m\n\u001b[1;32m    230\u001b[0m                 \u001b[38;5;124mf\u001b[39m\u001b[38;5;124m\"\u001b[39m\u001b[38;5;124mof input shape to have value \u001b[39m\u001b[38;5;132;01m{\u001b[39;00mvalue\u001b[38;5;132;01m}\u001b[39;00m\u001b[38;5;124m, \u001b[39m\u001b[38;5;124m\"\u001b[39m\n\u001b[1;32m    231\u001b[0m                 \u001b[38;5;124m\"\u001b[39m\u001b[38;5;124mbut received input with \u001b[39m\u001b[38;5;124m\"\u001b[39m\n\u001b[1;32m    232\u001b[0m                 \u001b[38;5;124mf\u001b[39m\u001b[38;5;124m\"\u001b[39m\u001b[38;5;124mshape \u001b[39m\u001b[38;5;132;01m{\u001b[39;00mshape\u001b[38;5;132;01m}\u001b[39;00m\u001b[38;5;124m\"\u001b[39m\n\u001b[1;32m    233\u001b[0m             )\n\u001b[1;32m    234\u001b[0m \u001b[38;5;66;03m# Check shape.\u001b[39;00m\n\u001b[1;32m    235\u001b[0m \u001b[38;5;28;01mif\u001b[39;00m spec\u001b[38;5;241m.\u001b[39mshape \u001b[38;5;129;01mis\u001b[39;00m \u001b[38;5;129;01mnot\u001b[39;00m \u001b[38;5;28;01mNone\u001b[39;00m:\n",
      "\u001b[0;31mValueError\u001b[0m: Exception encountered when calling Sequential.call().\n\n\u001b[1mInput 0 of layer \"conv2d_transpose\" is incompatible with the layer: expected axis -1 of input shape to have value 128, but received input with shape (32, 64, 64, 3)\u001b[0m\n\nArguments received by Sequential.call():\n  • inputs=tf.Tensor(shape=(32, 64, 64, 3), dtype=float32)\n  • training=False\n  • mask=None"
     ]
    }
   ],
   "source": [
    "imagens_codificadas = encoder.predict(teste_gerador, batch_size=8)\n",
    "\n",
    "print(f'Forma de encoded_imgs: {imagens_codificadas.shape}')\n",
    "\n",
    "imagens_decodificadas = decoder.predict(imagens_codificadas, batch_size=8)"
   ]
  },
  {
   "cell_type": "code",
   "execution_count": 28,
   "metadata": {},
   "outputs": [],
   "source": [
    "import matplotlib.pyplot as plt\n",
    "import numpy as np\n",
    "\n",
    "def plot_autoencoder(x_test, Autoencoder):\n",
    "    def normalize(image):\n",
    "        image = np.clip(image, 0, 1)  # Garante que a imagem esteja no intervalo [0, 1]\n",
    "        return (image - image.min()) / (image.max() - image.min()) if image.max() != image.min() else image\n",
    "\n",
    "    plt.figure(figsize=(16, 8))\n",
    "\n",
    "    for i in range(8):\n",
    "        # Imagem original\n",
    "        plt.subplot(2, 8, i + 1)\n",
    "        plt.imshow(x_test[i])\n",
    "        plt.title(\"Original\")\n",
    "        plt.axis(\"off\")\n",
    "\n",
    "        # Predição e normalização\n",
    "        pred = Autoencoder.predict(x_test[i].reshape((1, 64, 64, 3)))\n",
    "        pred_img = normalize(pred[0])\n",
    "\n",
    "        plt.subplot(2, 8, i + 8 + 1)\n",
    "        plt.imshow(pred_img)\n",
    "        plt.title(\"Reconstruída\")\n",
    "        plt.axis(\"off\")\n",
    "\n",
    "    plt.show()\n"
   ]
  },
  {
   "cell_type": "code",
   "execution_count": null,
   "metadata": {},
   "outputs": [],
   "source": [
    "\"\"\"_, _, _, x_train_UFPR04, y_train, x_test, y_test, x_val, y_val = preprocessamento(\"Datasets_csv/df_UFPR04.csv\", 0.6, 0.2, 0.2)\n",
    "_, _, _, x_train_UFPR05, y_train, x_test, y_test, x_val, y_val = preprocessamento(\"Datasets_csv/df_UFPR05.csv\", 0.6, 0.2, 0.2)\"\"\""
   ]
  },
  {
   "cell_type": "code",
   "execution_count": 30,
   "metadata": {},
   "outputs": [],
   "source": [
    "x_teste, _ = next(teste_gerador)"
   ]
  },
  {
   "cell_type": "code",
   "execution_count": null,
   "metadata": {},
   "outputs": [],
   "source": [
    "plot_autoencoder(x_teste, autoencoder)\n",
    "\"\"\"plot_autoencoder(x_train_UFPR04, autoencoder)\n",
    "plot_autoencoder(x_train_UFPR05, autoencoder)\"\"\""
   ]
  },
  {
   "cell_type": "code",
   "execution_count": null,
   "metadata": {},
   "outputs": [],
   "source": [
    "y_teste = teste['classe']\n",
    "class_mapping = {'Empty': 0, 'Occupied': 1}\n",
    "\n",
    "y_teste_numerico = y_teste.map(class_mapping)\n",
    "\n",
    "print(\"print y:\", y_teste_numerico)\n",
    "print(\"shape de y_teste:\", y_teste_numerico.shape)"
   ]
  },
  {
   "cell_type": "code",
   "execution_count": 33,
   "metadata": {},
   "outputs": [],
   "source": [
    "shape_imagem_codificada = imagens_codificadas.reshape((imagens_codificadas.shape[0], -1))"
   ]
  },
  {
   "cell_type": "code",
   "execution_count": null,
   "metadata": {},
   "outputs": [],
   "source": [
    "classificador = Sequential([\n",
    "    Dense(128, activation='relu', input_shape=(2048,)),  # Ajuste a entrada conforme o tamanho do vetor\n",
    "    Dense(64, activation='relu'),\n",
    "    Dense(1, activation='sigmoid')  # Saída para classificação binária\n",
    "])\n"
   ]
  },
  {
   "cell_type": "code",
   "execution_count": 35,
   "metadata": {},
   "outputs": [],
   "source": [
    "classificador.compile(optimizer='adam', loss='binary_crossentropy', metrics=['accuracy'])\n"
   ]
  },
  {
   "cell_type": "code",
   "execution_count": null,
   "metadata": {},
   "outputs": [],
   "source": [
    "classificador.fit(shape_imagem_codificada, y_teste_numerico, epochs=10, batch_size=16, validation_split=0.1)"
   ]
  },
  {
   "cell_type": "code",
   "execution_count": null,
   "metadata": {},
   "outputs": [],
   "source": [
    "classificador.save(\"Modelos_keras/classificador.h5\")\n",
    "classificador.save_weights(\"weights_finais/classificador.weights.h5\")"
   ]
  },
  {
   "cell_type": "code",
   "execution_count": null,
   "metadata": {},
   "outputs": [],
   "source": []
  },
  {
   "cell_type": "code",
   "execution_count": 38,
   "metadata": {},
   "outputs": [],
   "source": [
    "def preprocessamento_completo(caminho: str):\n",
    "    \"\"\"\n",
    "    Prepara e retorna geradores de dados e dados em formato de arrays numpy para o conjunto inteiro.\n",
    "    \"\"\"\n",
    "\n",
    "    nome_arquivo = os.path.basename(caminho)\n",
    "\n",
    "    # Removendo a extensão e pegando a parte desejada\n",
    "    nome_parte = os.path.splitext(nome_arquivo)[0].split('_')[1]\n",
    "\n",
    "    dataframe = pd.read_csv(caminho)\n",
    "    \n",
    "    dataframe['classe'] = dataframe['classe'].astype(str)\n",
    "\n",
    "    img_width, img_height = 256, 256\n",
    "    batch_size = 32\n",
    "\n",
    "    def normalize_image(img):\n",
    "        return img / 255.0\n",
    "\n",
    "    datagen = ImageDataGenerator(preprocessing_function=normalize_image)\n",
    "\n",
    "    gerador = datagen.flow_from_dataframe(\n",
    "        dataframe=dataframe,\n",
    "        x_col='caminho_imagem',\n",
    "        y_col='classe',\n",
    "        target_size=(img_width, img_height),\n",
    "        batch_size=batch_size,\n",
    "        class_mode='binary',\n",
    "        shuffle=False  # Não embaralhar para garantir a ordem dos dados\n",
    "    )\n",
    "\n",
    "    def extrair_dados(gerador):\n",
    "        x = []\n",
    "        y = []\n",
    "        for img_batch, label_batch in gerador:\n",
    "            x.append(img_batch)\n",
    "            y.append(label_batch)\n",
    "            if len(x) * gerador.batch_size >= gerador.samples:\n",
    "                break\n",
    "        return np.concatenate(x), np.concatenate(y)\n",
    "\n",
    "    x_dados, y_dados = extrair_dados(gerador)\n",
    "\n",
    "    return nome_parte, x_dados, y_dados\n",
    "\n",
    "def plot_predictions(images, predictions, true_labels, save_path:str, class_names, num=5):\n",
    "        plt.figure(figsize=(10, 10))\n",
    "        for i in range(num):\n",
    "            plt.subplot(1, num, i + 1)\n",
    "            plt.imshow(images[i])\n",
    "            \n",
    "            # Garantir que predictions e true_labels são inteiros\n",
    "            pred_class = int(predictions[i])\n",
    "            true_class = class_names.index(true_labels[i])\n",
    "            \n",
    "            plt.title(f'Pred: {class_names[pred_class]}\\nTrue: {class_names[true_class]}')\n",
    "            plt.axis('off')\n",
    "        plt.savefig(save_path)\n",
    "        plt.show()"
   ]
  },
  {
   "cell_type": "code",
   "execution_count": 39,
   "metadata": {},
   "outputs": [],
   "source": [
    "def carregar_e_preprocessar_imagens(caminho_imagens, tamanho=(64, 64)):\n",
    "    imagens = []\n",
    "    for caminho in caminho_imagens:\n",
    "        img = load_img(caminho, target_size=tamanho)\n",
    "        img_array = img_to_array(img) / 255.0\n",
    "        imagens.append(img_array)\n",
    "    return np.array(imagens)"
   ]
  },
  {
   "cell_type": "code",
   "execution_count": null,
   "metadata": {},
   "outputs": [],
   "source": [
    "import os\n",
    "import pandas as pd\n",
    "import numpy as np\n",
    "from tensorflow.keras.preprocessing.image import load_img, img_to_array\n",
    "from visualizacao import plot_confusion_matrix\n",
    "\n",
    "def carregar_e_preprocessar_imagens(caminho_imagens, tamanho=(64, 64)):\n",
    "    imagens = []\n",
    "    for caminho in caminho_imagens:\n",
    "        img = load_img(caminho, target_size=tamanho)\n",
    "        img_array = img_to_array(img) / 255.0  # Normalizar para intervalo [0,1]\n",
    "        imagens.append(img_array)\n",
    "    return np.array(imagens)\n",
    "\n",
    "def predizer_classes(classificador, encoder, caminho:str):\n",
    "    nome_arquivo = os.path.basename(caminho)\n",
    "    nome = os.path.splitext(nome_arquivo)[0].split('_')[1]\n",
    "\n",
    "    dataframe = pd.read_csv(caminho)\n",
    "    dataframe['classe'] = dataframe['classe'].astype(str)\n",
    "    y_dados = dataframe['classe']\n",
    "    class_mapping = {'Empty': 0, 'Occupied': 1}\n",
    "\n",
    "    y_num = y_dados.map(class_mapping)\n",
    "\n",
    "    x_dados = dataframe['caminho_imagem']\n",
    "\n",
    "    imagens = carregar_e_preprocessar_imagens(x_dados)\n",
    "    \n",
    "    imagem_codificada = encoder.predict(imagens)\n",
    "    flatten_imgs = imagem_codificada.reshape((imagem_codificada.shape[0], -1))\n",
    "\n",
    "    predicao = classificador.predict(flatten_imgs)\n",
    "    predicao_classes = predicao.argmax(axis=1)\n",
    "\n",
    "    # Passar as imagens reais para plotar as previsões\n",
    "    plot_predictions(imagens[:10], predicao_classes[:10], y_dados[:10], f\"Resultados/Predicoes/Autoencoder_{nome}\", class_names=['Empty', 'Occupied'])\n",
    "    plot_confusion_matrix(y_num, predicao_classes, ['Empty', 'Occupied'], f\"Resultados/Matriz_de_confusao/Autoencoder/Autoencoder_{nome}\", f\"Autoencoder {nome}\")\n",
    "\n",
    "predizer_classes(classificador, encoder, 'Datasets_csv/df_UFPR04.csv')\n",
    "predizer_classes(classificador, encoder, 'Datasets_csv/df_UFPR05.csv')\n",
    "predizer_classes(classificador, encoder, 'Datasets_csv/df_PUC.csv')\n"
   ]
  }
 ],
 "metadata": {
  "kernelspec": {
   "display_name": ".venv",
   "language": "python",
   "name": "python3"
  },
  "language_info": {
   "codemirror_mode": {
    "name": "ipython",
    "version": 3
   },
   "file_extension": ".py",
   "mimetype": "text/x-python",
   "name": "python",
   "nbconvert_exporter": "python",
   "pygments_lexer": "ipython3",
   "version": "3.11.0"
  }
 },
 "nbformat": 4,
 "nbformat_minor": 2
}

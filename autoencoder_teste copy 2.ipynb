{
 "cells": [
  {
   "cell_type": "code",
   "execution_count": null,
   "metadata": {},
   "outputs": [],
   "source": [
    "import keras\n",
    "import tensorflow as tf\n",
    "\n",
    "import os\n",
    "tf.config.optimizer.set_jit(False)  # Desativa XLA"
   ]
  },
  {
   "cell_type": "code",
   "execution_count": null,
   "metadata": {},
   "outputs": [],
   "source": [
    "from segmentandoDatasets import *\n",
    "\n",
    "segmentando_datasets()"
   ]
  },
  {
   "cell_type": "code",
   "execution_count": 3,
   "metadata": {},
   "outputs": [],
   "source": [
    "import pandas as pd\n",
    "import tensorflow as tf\n",
    "import numpy as np\n",
    "from tensorflow.keras.preprocessing.image import ImageDataGenerator\n",
    "from sklearn.model_selection import train_test_split\n",
    "import matplotlib.pyplot as plt\n",
    "from tensorflow.keras.preprocessing.image import load_img, img_to_array\n",
    "from typing import List, Tuple\n",
    "import os\n",
    "\n",
    "def preprocessamento(caminho: str, proporcao_treino: float = 0.6, proporcao_teste: float = 0.2, proporcao_validacao: float = 0.2, autoencoder: bool = False):\n",
    "    \"\"\"\n",
    "    Ao passar um dataFrame .csv, ele irá retornar geradores de dados para treino, teste e validação + os 3 .csv dividos igualmente os geradores.\n",
    "    \n",
    "    Parâmetros:\n",
    "        caminho (str): Caminho para o arquivo CSV.\n",
    "        proporcao_treino (float): Proporção de dados de treino.\n",
    "        proporcao_teste (float): Proporção de dados de teste.\n",
    "        proporcao_validacao (float): Proporção de dados de validação.\n",
    "        autoencoder (bool): Se True, prepara os dados para um autoencoder (class_mode='input').\n",
    "                            Se False, prepara os dados para classificação binária (class_mode='binary').\n",
    "    \n",
    "    Retorna:\n",
    "        treino_gerador, validacao_gerador, teste_gerador, treino, teste, validacao\n",
    "    \"\"\"\n",
    "    dataframe = pd.read_csv(caminho)\n",
    "\n",
    "    treino, teste = train_test_split(dataframe, test_size=proporcao_teste, random_state=42)\n",
    "    treino, validacao = train_test_split(treino, test_size=proporcao_validacao / (1 - proporcao_teste), random_state=42)\n",
    "\n",
    "    img_width, img_height = 64, 64\n",
    "    batch_size = 32\n",
    "\n",
    "    def normalize_image(img):\n",
    "        return img / 255.0\n",
    "\n",
    "    treino_datagen = ImageDataGenerator(preprocessing_function=normalize_image)\n",
    "    validacao_datagen = ImageDataGenerator(preprocessing_function=normalize_image)\n",
    "    teste_datagen = ImageDataGenerator(preprocessing_function=normalize_image)\n",
    "\n",
    "    class_mode = 'input' if autoencoder else 'binary'\n",
    "\n",
    "    treino_gerador = treino_datagen.flow_from_dataframe(\n",
    "        dataframe=treino,\n",
    "        x_col='caminho_imagem',\n",
    "        y_col='caminho_imagem' if autoencoder else 'classe', #Usar a imagem como saída se for autoencoder\n",
    "        target_size=(img_width, img_height),\n",
    "        batch_size=batch_size,\n",
    "        class_mode=class_mode,  #Class mode baseado no parâmetro autoencoder\n",
    "        shuffle=False\n",
    "    )\n",
    "\n",
    "    validacao_gerador = validacao_datagen.flow_from_dataframe(\n",
    "        dataframe=validacao,\n",
    "        x_col='caminho_imagem',\n",
    "        y_col='caminho_imagem' if autoencoder else 'classe',  \n",
    "        target_size=(img_width, img_height),\n",
    "        batch_size=batch_size,\n",
    "        class_mode=class_mode, \n",
    "        shuffle=False\n",
    "    )\n",
    "\n",
    "    teste_gerador = teste_datagen.flow_from_dataframe(\n",
    "        dataframe=teste,\n",
    "        x_col='caminho_imagem',\n",
    "        y_col='caminho_imagem' if autoencoder else 'classe',  \n",
    "        target_size=(img_width, img_height),\n",
    "        batch_size=batch_size,\n",
    "        class_mode=class_mode, \n",
    "        shuffle=False\n",
    "    )\n",
    "\n",
    "    return treino_gerador, validacao_gerador, teste_gerador, treino, teste, validacao"
   ]
  },
  {
   "cell_type": "code",
   "execution_count": null,
   "metadata": {},
   "outputs": [],
   "source": [
    "csv_file = 'Datasets_csv/df_PUC.csv'\n",
    "treino_gerador, validacao_gerador, teste_gerador, treino, teste, validacao = preprocessamento(csv_file, autoencoder=True)"
   ]
  },
  {
   "cell_type": "code",
   "execution_count": null,
   "metadata": {},
   "outputs": [],
   "source": [
    "autoencoder = tf.keras.models.load_model('/home/lucas/PIBIC (copy)/Modelos_keras/Autoencoder.keras')\n",
    "autoencoder.load_weights('/home/lucas/PIBIC (copy)/weights_finais/Autoencoder.weights.h5')"
   ]
  },
  {
   "cell_type": "code",
   "execution_count": null,
   "metadata": {},
   "outputs": [],
   "source": [
    "autoencoder.summary()"
   ]
  },
  {
   "cell_type": "code",
   "execution_count": 7,
   "metadata": {},
   "outputs": [],
   "source": [
    "decoder = autoencoder.get_layer('sequential')\n",
    "encoder = autoencoder.get_layer('sequential_1')"
   ]
  },
  {
   "cell_type": "code",
   "execution_count": null,
   "metadata": {},
   "outputs": [],
   "source": [
    "# Obtém o primeiro batch\n",
    "batch = next(iter(teste_gerador))\n",
    "\n",
    "# Verifica a forma dos dados e das labels\n",
    "print(f'Forma do batch de dados: {batch[0].shape}')\n",
    "print(f'Forma das labels: {batch[1].shape}')\n"
   ]
  },
  {
   "cell_type": "code",
   "execution_count": null,
   "metadata": {},
   "outputs": [],
   "source": [
    "imagens_codificadas = encoder.predict(teste_gerador, batch_size=8)\n",
    "\n",
    "print(f'Forma de encoded_imgs: {imagens_codificadas.shape}')\n",
    "\n",
    "imagens_decodificadas = decoder.predict(imagens_codificadas, batch_size=8)"
   ]
  },
  {
   "cell_type": "code",
   "execution_count": 28,
   "metadata": {},
   "outputs": [],
   "source": [
    "import matplotlib.pyplot as plt\n",
    "import numpy as np\n",
    "\n",
    "def plot_autoencoder(x_test, Autoencoder):\n",
    "    def normalize(image):\n",
    "        image = np.clip(image, 0, 1)  # Garante que a imagem esteja no intervalo [0, 1]\n",
    "        return (image - image.min()) / (image.max() - image.min()) if image.max() != image.min() else image\n",
    "\n",
    "    plt.figure(figsize=(16, 8))\n",
    "\n",
    "    for i in range(8):\n",
    "        # Imagem original\n",
    "        plt.subplot(2, 8, i + 1)\n",
    "        plt.imshow(x_test[i])\n",
    "        plt.title(\"Original\")\n",
    "        plt.axis(\"off\")\n",
    "\n",
    "        # Predição e normalização\n",
    "        pred = Autoencoder.predict(x_test[i].reshape((1, 64, 64, 3)))\n",
    "        pred_img = normalize(pred[0])\n",
    "\n",
    "        plt.subplot(2, 8, i + 8 + 1)\n",
    "        plt.imshow(pred_img)\n",
    "        plt.title(\"Reconstruída\")\n",
    "        plt.axis(\"off\")\n",
    "\n",
    "    plt.show()\n"
   ]
  },
  {
   "cell_type": "code",
   "execution_count": null,
   "metadata": {},
   "outputs": [],
   "source": [
    "\"\"\"_, _, _, x_train_UFPR04, y_train, x_test, y_test, x_val, y_val = preprocessamento(\"Datasets_csv/df_UFPR04.csv\", 0.6, 0.2, 0.2)\n",
    "_, _, _, x_train_UFPR05, y_train, x_test, y_test, x_val, y_val = preprocessamento(\"Datasets_csv/df_UFPR05.csv\", 0.6, 0.2, 0.2)\"\"\""
   ]
  },
  {
   "cell_type": "code",
   "execution_count": 30,
   "metadata": {},
   "outputs": [],
   "source": [
    "x_teste, _ = next(teste_gerador)"
   ]
  },
  {
   "cell_type": "code",
   "execution_count": null,
   "metadata": {},
   "outputs": [],
   "source": [
    "plot_autoencoder(x_teste, autoencoder)\n",
    "\"\"\"plot_autoencoder(x_train_UFPR04, autoencoder)\n",
    "plot_autoencoder(x_train_UFPR05, autoencoder)\"\"\""
   ]
  },
  {
   "cell_type": "code",
   "execution_count": null,
   "metadata": {},
   "outputs": [],
   "source": [
    "y_teste = teste['classe']\n",
    "class_mapping = {'Empty': 0, 'Occupied': 1}\n",
    "\n",
    "y_teste_numerico = y_teste.map(class_mapping)\n",
    "\n",
    "print(\"print y:\", y_teste_numerico)\n",
    "print(\"shape de y_teste:\", y_teste_numerico.shape)"
   ]
  },
  {
   "cell_type": "code",
   "execution_count": 33,
   "metadata": {},
   "outputs": [],
   "source": [
    "shape_imagem_codificada = imagens_codificadas.reshape((imagens_codificadas.shape[0], -1))"
   ]
  },
  {
   "cell_type": "code",
   "execution_count": null,
   "metadata": {},
   "outputs": [],
   "source": [
    "classificador = Sequential([\n",
    "    Dense(128, activation='relu', input_shape=(2048,)),  # Ajuste a entrada conforme o tamanho do vetor\n",
    "    Dense(64, activation='relu'),\n",
    "    Dense(1, activation='sigmoid')  # Saída para classificação binária\n",
    "])\n"
   ]
  },
  {
   "cell_type": "code",
   "execution_count": 35,
   "metadata": {},
   "outputs": [],
   "source": [
    "classificador.compile(optimizer='adam', loss='binary_crossentropy', metrics=['accuracy'])\n"
   ]
  },
  {
   "cell_type": "code",
   "execution_count": null,
   "metadata": {},
   "outputs": [],
   "source": [
    "classificador.fit(shape_imagem_codificada, y_teste_numerico, epochs=10, batch_size=16, validation_split=0.1)"
   ]
  },
  {
   "cell_type": "code",
   "execution_count": null,
   "metadata": {},
   "outputs": [],
   "source": [
    "classificador.save(\"Modelos_keras/classificador.h5\")\n",
    "classificador.save_weights(\"weights_finais/classificador.weights.h5\")"
   ]
  },
  {
   "cell_type": "code",
   "execution_count": null,
   "metadata": {},
   "outputs": [],
   "source": []
  },
  {
   "cell_type": "code",
   "execution_count": 38,
   "metadata": {},
   "outputs": [],
   "source": [
    "def preprocessamento_completo(caminho: str):\n",
    "    \"\"\"\n",
    "    Prepara e retorna geradores de dados e dados em formato de arrays numpy para o conjunto inteiro.\n",
    "    \"\"\"\n",
    "\n",
    "    nome_arquivo = os.path.basename(caminho)\n",
    "\n",
    "    # Removendo a extensão e pegando a parte desejada\n",
    "    nome_parte = os.path.splitext(nome_arquivo)[0].split('_')[1]\n",
    "\n",
    "    dataframe = pd.read_csv(caminho)\n",
    "    \n",
    "    dataframe['classe'] = dataframe['classe'].astype(str)\n",
    "\n",
    "    img_width, img_height = 256, 256\n",
    "    batch_size = 32\n",
    "\n",
    "    def normalize_image(img):\n",
    "        return img / 255.0\n",
    "\n",
    "    datagen = ImageDataGenerator(preprocessing_function=normalize_image)\n",
    "\n",
    "    gerador = datagen.flow_from_dataframe(\n",
    "        dataframe=dataframe,\n",
    "        x_col='caminho_imagem',\n",
    "        y_col='classe',\n",
    "        target_size=(img_width, img_height),\n",
    "        batch_size=batch_size,\n",
    "        class_mode='binary',\n",
    "        shuffle=False  # Não embaralhar para garantir a ordem dos dados\n",
    "    )\n",
    "\n",
    "    def extrair_dados(gerador):\n",
    "        x = []\n",
    "        y = []\n",
    "        for img_batch, label_batch in gerador:\n",
    "            x.append(img_batch)\n",
    "            y.append(label_batch)\n",
    "            if len(x) * gerador.batch_size >= gerador.samples:\n",
    "                break\n",
    "        return np.concatenate(x), np.concatenate(y)\n",
    "\n",
    "    x_dados, y_dados = extrair_dados(gerador)\n",
    "\n",
    "    return nome_parte, x_dados, y_dados\n",
    "\n",
    "def plot_predictions(images, predictions, true_labels, save_path:str, class_names, num=5):\n",
    "        plt.figure(figsize=(10, 10))\n",
    "        for i in range(num):\n",
    "            plt.subplot(1, num, i + 1)\n",
    "            plt.imshow(images[i])\n",
    "            \n",
    "            # Garantir que predictions e true_labels são inteiros\n",
    "            pred_class = int(predictions[i])\n",
    "            true_class = class_names.index(true_labels[i])\n",
    "            \n",
    "            plt.title(f'Pred: {class_names[pred_class]}\\nTrue: {class_names[true_class]}')\n",
    "            plt.axis('off')\n",
    "        plt.savefig(save_path)\n",
    "        plt.show()"
   ]
  },
  {
   "cell_type": "code",
   "execution_count": 39,
   "metadata": {},
   "outputs": [],
   "source": [
    "def carregar_e_preprocessar_imagens(caminho_imagens, tamanho=(64, 64)):\n",
    "    imagens = []\n",
    "    for caminho in caminho_imagens:\n",
    "        img = load_img(caminho, target_size=tamanho)\n",
    "        img_array = img_to_array(img) / 255.0\n",
    "        imagens.append(img_array)\n",
    "    return np.array(imagens)"
   ]
  },
  {
   "cell_type": "code",
   "execution_count": null,
   "metadata": {},
   "outputs": [],
   "source": [
    "import os\n",
    "import pandas as pd\n",
    "import numpy as np\n",
    "from tensorflow.keras.preprocessing.image import load_img, img_to_array\n",
    "from visualizacao import plot_confusion_matrix\n",
    "\n",
    "def carregar_e_preprocessar_imagens(caminho_imagens, tamanho=(64, 64)):\n",
    "    imagens = []\n",
    "    for caminho in caminho_imagens:\n",
    "        img = load_img(caminho, target_size=tamanho)\n",
    "        img_array = img_to_array(img) / 255.0  # Normalizar para intervalo [0,1]\n",
    "        imagens.append(img_array)\n",
    "    return np.array(imagens)\n",
    "\n",
    "def predizer_classes(classificador, encoder, caminho:str):\n",
    "    nome_arquivo = os.path.basename(caminho)\n",
    "    nome = os.path.splitext(nome_arquivo)[0].split('_')[1]\n",
    "\n",
    "    dataframe = pd.read_csv(caminho)\n",
    "    dataframe['classe'] = dataframe['classe'].astype(str)\n",
    "    y_dados = dataframe['classe']\n",
    "    class_mapping = {'Empty': 0, 'Occupied': 1}\n",
    "\n",
    "    y_num = y_dados.map(class_mapping)\n",
    "\n",
    "    x_dados = dataframe['caminho_imagem']\n",
    "\n",
    "    imagens = carregar_e_preprocessar_imagens(x_dados)\n",
    "    \n",
    "    imagem_codificada = encoder.predict(imagens)\n",
    "    flatten_imgs = imagem_codificada.reshape((imagem_codificada.shape[0], -1))\n",
    "\n",
    "    predicao = classificador.predict(flatten_imgs)\n",
    "    predicao_classes = predicao.argmax(axis=1)\n",
    "\n",
    "    # Passar as imagens reais para plotar as previsões\n",
    "    plot_predictions(imagens[:10], predicao_classes[:10], y_dados[:10], f\"Resultados/Predicoes/Autoencoder_{nome}\", class_names=['Empty', 'Occupied'])\n",
    "    plot_confusion_matrix(y_num, predicao_classes, ['Empty', 'Occupied'], f\"Resultados/Matriz_de_confusao/Autoencoder/Autoencoder_{nome}\", f\"Autoencoder {nome}\")\n",
    "\n",
    "predizer_classes(classificador, encoder, 'Datasets_csv/df_UFPR04.csv')\n",
    "predizer_classes(classificador, encoder, 'Datasets_csv/df_UFPR05.csv')\n",
    "predizer_classes(classificador, encoder, 'Datasets_csv/df_PUC.csv')\n"
   ]
  }
 ],
 "metadata": {
  "kernelspec": {
   "display_name": ".venv",
   "language": "python",
   "name": "python3"
  },
  "language_info": {
   "codemirror_mode": {
    "name": "ipython",
    "version": 3
   },
   "file_extension": ".py",
   "mimetype": "text/x-python",
   "name": "python",
   "nbconvert_exporter": "python",
   "pygments_lexer": "ipython3",
   "version": "3.11.0"
  }
 },
 "nbformat": 4,
 "nbformat_minor": 2
}

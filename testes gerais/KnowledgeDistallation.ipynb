{
 "cells": [
  {
   "cell_type": "code",
   "execution_count": 1,
   "metadata": {},
   "outputs": [
    {
     "name": "stderr",
     "output_type": "stream",
     "text": [
      "2024-08-22 15:25:21.732994: I tensorflow/core/platform/cpu_feature_guard.cc:182] This TensorFlow binary is optimized to use available CPU instructions in performance-critical operations.\n",
      "To enable the following instructions: AVX2 FMA, in other operations, rebuild TensorFlow with the appropriate compiler flags.\n",
      "2024-08-22 15:25:22.488752: W tensorflow/compiler/tf2tensorrt/utils/py_utils.cc:38] TF-TRT Warning: Could not find TensorRT\n"
     ]
    }
   ],
   "source": [
    "import os\n",
    "import tensorflow as tf\n",
    "from tensorflow.keras import layers, activations\n",
    "from tensorflow.keras.callbacks import ModelCheckpoint\n",
    "import keras\n",
    "from preprocessamento import *\n",
    "from visualizacao import *\n",
    "\n",
    "\n",
    "class Distiller(keras.Model):\n",
    "    def __init__(self, student, teacher):\n",
    "        super().__init__()\n",
    "        self.teacher = teacher\n",
    "        self.student = student\n",
    "\n",
    "    def compile(\n",
    "        self,\n",
    "        optimizer,\n",
    "        metrics,\n",
    "        student_loss_fn,\n",
    "        distillation_loss_fn,\n",
    "        alpha=0.1,\n",
    "        temperature=3,\n",
    "    ):\n",
    "        super().compile(optimizer=optimizer, metrics=metrics)\n",
    "        self.student_loss_fn = student_loss_fn\n",
    "        self.distillation_loss_fn = distillation_loss_fn\n",
    "        self.alpha = alpha\n",
    "        self.temperature = temperature\n",
    "\n",
    "    def compute_loss(\n",
    "        self, x=None, y=None, y_pred=None, sample_weight=None, allow_empty=False\n",
    "    ):\n",
    "        teacher_pred = self.teacher(x, training=False)\n",
    "        student_loss = self.student_loss_fn(y, y_pred)\n",
    "\n",
    "        distillation_loss = self.distillation_loss_fn(\n",
    "            activations.softmax(teacher_pred / self.temperature, axis=1),\n",
    "            activations.softmax(y_pred / self.temperature, axis=1),\n",
    "        ) * (self.temperature**2)\n",
    "\n",
    "        loss = self.alpha * student_loss + (1 - self.alpha) * distillation_loss\n",
    "        return loss\n",
    "\n",
    "    def call(self, x):\n",
    "        return self.student(x)\n",
    "\n"
   ]
  },
  {
   "cell_type": "code",
   "execution_count": 2,
   "metadata": {},
   "outputs": [
    {
     "name": "stdout",
     "output_type": "stream",
     "text": [
      "Found 600 validated image filenames belonging to 2 classes.\n",
      "Found 200 validated image filenames belonging to 2 classes.\n",
      "Found 200 validated image filenames belonging to 2 classes.\n"
     ]
    }
   ],
   "source": [
    "# Carregar e preparar os dados\n",
    "treino_gerador, validacao_gerador, teste_gerador, treino_df, teste_df, validacao_df = preprocessamento(\n",
    "    \"Datasets_csv/df_PUC.csv\",\n",
    "    proporcao_treino=0.6,\n",
    "    proporcao_teste=0.2,\n",
    "    proporcao_validacao=0.2,\n",
    "    autoencoder=False\n",
    ")"
   ]
  },
  {
   "cell_type": "code",
   "execution_count": 3,
   "metadata": {},
   "outputs": [
    {
     "name": "stderr",
     "output_type": "stream",
     "text": [
      "2024-08-22 15:25:23.939397: I tensorflow/compiler/xla/stream_executor/cuda/cuda_gpu_executor.cc:996] successful NUMA node read from SysFS had negative value (-1), but there must be at least one NUMA node, so returning NUMA node zero. See more at https://github.com/torvalds/linux/blob/v6.0/Documentation/ABI/testing/sysfs-bus-pci#L344-L355\n",
      "2024-08-22 15:25:24.000442: I tensorflow/compiler/xla/stream_executor/cuda/cuda_gpu_executor.cc:996] successful NUMA node read from SysFS had negative value (-1), but there must be at least one NUMA node, so returning NUMA node zero. See more at https://github.com/torvalds/linux/blob/v6.0/Documentation/ABI/testing/sysfs-bus-pci#L344-L355\n",
      "2024-08-22 15:25:24.000650: I tensorflow/compiler/xla/stream_executor/cuda/cuda_gpu_executor.cc:996] successful NUMA node read from SysFS had negative value (-1), but there must be at least one NUMA node, so returning NUMA node zero. See more at https://github.com/torvalds/linux/blob/v6.0/Documentation/ABI/testing/sysfs-bus-pci#L344-L355\n",
      "2024-08-22 15:25:24.001918: I tensorflow/compiler/xla/stream_executor/cuda/cuda_gpu_executor.cc:996] successful NUMA node read from SysFS had negative value (-1), but there must be at least one NUMA node, so returning NUMA node zero. See more at https://github.com/torvalds/linux/blob/v6.0/Documentation/ABI/testing/sysfs-bus-pci#L344-L355\n",
      "2024-08-22 15:25:24.002063: I tensorflow/compiler/xla/stream_executor/cuda/cuda_gpu_executor.cc:996] successful NUMA node read from SysFS had negative value (-1), but there must be at least one NUMA node, so returning NUMA node zero. See more at https://github.com/torvalds/linux/blob/v6.0/Documentation/ABI/testing/sysfs-bus-pci#L344-L355\n",
      "2024-08-22 15:25:24.002172: I tensorflow/compiler/xla/stream_executor/cuda/cuda_gpu_executor.cc:996] successful NUMA node read from SysFS had negative value (-1), but there must be at least one NUMA node, so returning NUMA node zero. See more at https://github.com/torvalds/linux/blob/v6.0/Documentation/ABI/testing/sysfs-bus-pci#L344-L355\n",
      "2024-08-22 15:25:24.404040: I tensorflow/compiler/xla/stream_executor/cuda/cuda_gpu_executor.cc:996] successful NUMA node read from SysFS had negative value (-1), but there must be at least one NUMA node, so returning NUMA node zero. See more at https://github.com/torvalds/linux/blob/v6.0/Documentation/ABI/testing/sysfs-bus-pci#L344-L355\n",
      "2024-08-22 15:25:24.404222: I tensorflow/compiler/xla/stream_executor/cuda/cuda_gpu_executor.cc:996] successful NUMA node read from SysFS had negative value (-1), but there must be at least one NUMA node, so returning NUMA node zero. See more at https://github.com/torvalds/linux/blob/v6.0/Documentation/ABI/testing/sysfs-bus-pci#L344-L355\n",
      "2024-08-22 15:25:24.404339: I tensorflow/compiler/xla/stream_executor/cuda/cuda_gpu_executor.cc:996] successful NUMA node read from SysFS had negative value (-1), but there must be at least one NUMA node, so returning NUMA node zero. See more at https://github.com/torvalds/linux/blob/v6.0/Documentation/ABI/testing/sysfs-bus-pci#L344-L355\n",
      "2024-08-22 15:25:24.404427: I tensorflow/core/common_runtime/gpu/gpu_device.cc:1635] Created device /job:localhost/replica:0/task:0/device:GPU:0 with 4286 MB memory:  -> device: 0, name: NVIDIA GeForce GTX 1660, pci bus id: 0000:01:00.0, compute capability: 7.5\n"
     ]
    }
   ],
   "source": [
    "teacher = keras.Sequential(\n",
    "    [\n",
    "        keras.Input(shape=(256, 256, 3)),\n",
    "        layers.Conv2D(128tfm.vision.configs.backbones.Transformer(\n",
    "\n",
    "    name=\"teacher\",\n",
    ")\n",
    "\n"
   ]
  },
  {
   "cell_type": "code",
   "execution_count": 4,
   "metadata": {},
   "outputs": [
    {
     "name": "stdout",
     "output_type": "stream",
     "text": [
      "Model: \"teacher\"\n",
      "_________________________________________________________________\n",
      " Layer (type)                Output Shape              Param #   \n",
      "=================================================================\n",
      " conv2d (Conv2D)             (None, 128, 128, 128)     3584      \n",
      "                                                                 \n",
      " max_pooling2d (MaxPooling2D  (None, 128, 128, 128)    0         \n",
      " )                                                               \n",
      "                                                                 \n",
      " conv2d_1 (Conv2D)           (None, 64, 64, 256)       295168    \n",
      "                                                                 \n",
      " flatten (Flatten)           (None, 1048576)           0         \n",
      "                                                                 \n",
      " dense (Dense)               (None, 2)                 2097154   \n",
      "                                                                 \n",
      "=================================================================\n",
      "Total params: 2,395,906\n",
      "Trainable params: 2,395,906\n",
      "Non-trainable params: 0\n",
      "_________________________________________________________________\n"
     ]
    }
   ],
   "source": [
    "teacher.summary()"
   ]
  },
  {
   "cell_type": "code",
   "execution_count": 5,
   "metadata": {},
   "outputs": [],
   "source": [
    "student = keras.Sequential(\n",
    "    [\n",
    "        keras.Input(shape=(256, 256, 3)),\n",
    "        layers.Conv2D(64, (3, 3), strides=(2, 2), padding=\"same\"),\n",
    "        layers.MaxPooling2D(pool_size=(2, 2), strides=(1, 1), padding=\"same\"),\n",
    "        layers.Conv2D(128, (3, 3), strides=(2, 2), padding=\"same\"),\n",
    "        layers.Flatten(),\n",
    "        layers.Dense(2, activation='softmax')  \n",
    "    ],\n",
    "    name=\"student\",\n",
    ")\n",
    "\n"
   ]
  },
  {
   "cell_type": "code",
   "execution_count": 6,
   "metadata": {},
   "outputs": [],
   "source": [
    "# Compilar e treinar o modelo teacher\n",
    "teacher.compile(\n",
    "    optimizer=keras.optimizers.Adam(),\n",
    "    loss=tf.keras.losses.SparseCategoricalCrossentropy(from_logits=False),\n",
    "    metrics=['accuracy']\n",
    ")\n"
   ]
  },
  {
   "cell_type": "code",
   "execution_count": 7,
   "metadata": {},
   "outputs": [],
   "source": [
    "checkpoint_path = 'weights_parciais/weights-improvement-{epoch:02d}-{val_accuracy:.2f}.weights.h5'\n",
    "cp_callback = ModelCheckpoint(filepath=checkpoint_path, \n",
    "                                  save_weights_only=True, \n",
    "                                  monitor='val_accuracy', \n",
    "                                  mode='max', \n",
    "                                  save_best_only=True, \n",
    "                                  verbose=1)"
   ]
  },
  {
   "cell_type": "code",
   "execution_count": 8,
   "metadata": {},
   "outputs": [
    {
     "name": "stdout",
     "output_type": "stream",
     "text": [
      "Epoch 1/30\n"
     ]
    },
    {
     "name": "stderr",
     "output_type": "stream",
     "text": [
      "2024-08-22 15:25:24.721441: I tensorflow/core/common_runtime/executor.cc:1197] [/device:CPU:0] (DEBUG INFO) Executor start aborting (this does not indicate an error and you can ignore this message): INVALID_ARGUMENT: You must feed a value for placeholder tensor 'Placeholder/_0' with dtype int32\n",
      "\t [[{{node Placeholder/_0}}]]\n",
      "2024-08-22 15:25:25.185195: I tensorflow/compiler/xla/stream_executor/cuda/cuda_dnn.cc:424] Loaded cuDNN version 8907\n"
     ]
    },
    {
     "name": "stdout",
     "output_type": "stream",
     "text": [
      "19/19 [==============================] - ETA: 0s - loss: 3718.2788 - accuracy: 0.5450"
     ]
    },
    {
     "name": "stderr",
     "output_type": "stream",
     "text": [
      "2024-08-22 15:25:30.668076: I tensorflow/core/common_runtime/executor.cc:1197] [/device:CPU:0] (DEBUG INFO) Executor start aborting (this does not indicate an error and you can ignore this message): INVALID_ARGUMENT: You must feed a value for placeholder tensor 'Placeholder/_0' with dtype int32\n",
      "\t [[{{node Placeholder/_0}}]]\n"
     ]
    },
    {
     "name": "stdout",
     "output_type": "stream",
     "text": [
      "\n",
      "Epoch 1: val_accuracy improved from -inf to 0.72500, saving model to weights_parciais/weights-improvement-01-0.73.weights.h5\n",
      "19/19 [==============================] - 7s 221ms/step - loss: 3718.2788 - accuracy: 0.5450 - val_loss: 372.3802 - val_accuracy: 0.7250\n",
      "Epoch 2/30\n",
      "19/19 [==============================] - ETA: 0s - loss: 172.0247 - accuracy: 0.8017\n",
      "Epoch 2: val_accuracy improved from 0.72500 to 0.95000, saving model to weights_parciais/weights-improvement-02-0.95.weights.h5\n",
      "19/19 [==============================] - 3s 145ms/step - loss: 172.0247 - accuracy: 0.8017 - val_loss: 53.3143 - val_accuracy: 0.9500\n",
      "Epoch 3/30\n",
      "19/19 [==============================] - ETA: 0s - loss: 22.8825 - accuracy: 0.9450\n",
      "Epoch 3: val_accuracy improved from 0.95000 to 0.98500, saving model to weights_parciais/weights-improvement-03-0.99.weights.h5\n",
      "19/19 [==============================] - 3s 146ms/step - loss: 22.8825 - accuracy: 0.9450 - val_loss: 10.3602 - val_accuracy: 0.9850\n",
      "Epoch 4/30\n",
      "19/19 [==============================] - ETA: 0s - loss: 4.4427 - accuracy: 0.9800\n",
      "Epoch 4: val_accuracy improved from 0.98500 to 0.99500, saving model to weights_parciais/weights-improvement-04-1.00.weights.h5\n",
      "19/19 [==============================] - 3s 146ms/step - loss: 4.4427 - accuracy: 0.9800 - val_loss: 0.6476 - val_accuracy: 0.9950\n",
      "Epoch 5/30\n",
      "19/19 [==============================] - ETA: 0s - loss: 2.7634 - accuracy: 0.9833\n",
      "Epoch 5: val_accuracy improved from 0.99500 to 1.00000, saving model to weights_parciais/weights-improvement-05-1.00.weights.h5\n",
      "19/19 [==============================] - 3s 145ms/step - loss: 2.7634 - accuracy: 0.9833 - val_loss: 0.0000e+00 - val_accuracy: 1.0000\n",
      "Epoch 6/30\n",
      "19/19 [==============================] - ETA: 0s - loss: 1.5492 - accuracy: 0.9867\n",
      "Epoch 6: val_accuracy did not improve from 1.00000\n",
      "19/19 [==============================] - 3s 144ms/step - loss: 1.5492 - accuracy: 0.9867 - val_loss: 0.0000e+00 - val_accuracy: 1.0000\n",
      "Epoch 7/30\n",
      "19/19 [==============================] - ETA: 0s - loss: 1.3897 - accuracy: 0.9833\n",
      "Epoch 7: val_accuracy did not improve from 1.00000\n",
      "19/19 [==============================] - 3s 143ms/step - loss: 1.3897 - accuracy: 0.9833 - val_loss: 8.8334 - val_accuracy: 0.9800\n",
      "Epoch 8/30\n",
      "19/19 [==============================] - ETA: 0s - loss: 1.3071 - accuracy: 0.9900\n",
      "Epoch 8: val_accuracy did not improve from 1.00000\n",
      "19/19 [==============================] - 3s 143ms/step - loss: 1.3071 - accuracy: 0.9900 - val_loss: 0.0000e+00 - val_accuracy: 1.0000\n",
      "Epoch 9/30\n",
      "19/19 [==============================] - ETA: 0s - loss: 1.4198 - accuracy: 0.9917\n",
      "Epoch 9: val_accuracy did not improve from 1.00000\n",
      "19/19 [==============================] - 3s 143ms/step - loss: 1.4198 - accuracy: 0.9917 - val_loss: 0.6482 - val_accuracy: 0.9950\n",
      "Epoch 10/30\n",
      "19/19 [==============================] - ETA: 0s - loss: 0.1486 - accuracy: 0.9983\n",
      "Epoch 10: val_accuracy did not improve from 1.00000\n",
      "19/19 [==============================] - 3s 141ms/step - loss: 0.1486 - accuracy: 0.9983 - val_loss: 0.0000e+00 - val_accuracy: 1.0000\n",
      "Epoch 11/30\n",
      "19/19 [==============================] - ETA: 0s - loss: 0.4675 - accuracy: 0.9917\n",
      "Epoch 11: val_accuracy did not improve from 1.00000\n",
      "19/19 [==============================] - 3s 143ms/step - loss: 0.4675 - accuracy: 0.9917 - val_loss: 0.0000e+00 - val_accuracy: 1.0000\n",
      "Epoch 12/30\n",
      "19/19 [==============================] - ETA: 0s - loss: 0.6241 - accuracy: 0.9917\n",
      "Epoch 12: val_accuracy did not improve from 1.00000\n",
      "19/19 [==============================] - 3s 142ms/step - loss: 0.6241 - accuracy: 0.9917 - val_loss: 0.7017 - val_accuracy: 0.9950\n",
      "Epoch 13/30\n",
      "19/19 [==============================] - ETA: 0s - loss: 0.3181 - accuracy: 0.9983\n",
      "Epoch 13: val_accuracy did not improve from 1.00000\n",
      "19/19 [==============================] - 3s 142ms/step - loss: 0.3181 - accuracy: 0.9983 - val_loss: 0.5755 - val_accuracy: 0.9950\n",
      "Epoch 14/30\n",
      "19/19 [==============================] - ETA: 0s - loss: 0.4222 - accuracy: 0.9967\n",
      "Epoch 14: val_accuracy did not improve from 1.00000\n",
      "19/19 [==============================] - 3s 142ms/step - loss: 0.4222 - accuracy: 0.9967 - val_loss: 0.0000e+00 - val_accuracy: 1.0000\n",
      "Epoch 15/30\n",
      "19/19 [==============================] - ETA: 0s - loss: 0.0951 - accuracy: 0.9983\n",
      "Epoch 15: val_accuracy did not improve from 1.00000\n",
      "19/19 [==============================] - 3s 141ms/step - loss: 0.0951 - accuracy: 0.9983 - val_loss: 0.0000e+00 - val_accuracy: 1.0000\n",
      "Epoch 16/30\n",
      "19/19 [==============================] - ETA: 0s - loss: 0.0019 - accuracy: 0.9983\n",
      "Epoch 16: val_accuracy did not improve from 1.00000\n",
      "19/19 [==============================] - 3s 144ms/step - loss: 0.0019 - accuracy: 0.9983 - val_loss: 0.0000e+00 - val_accuracy: 1.0000\n",
      "Epoch 17/30\n",
      "19/19 [==============================] - ETA: 0s - loss: 0.0000e+00 - accuracy: 1.0000\n",
      "Epoch 17: val_accuracy did not improve from 1.00000\n",
      "19/19 [==============================] - 3s 144ms/step - loss: 0.0000e+00 - accuracy: 1.0000 - val_loss: 0.2445 - val_accuracy: 0.9950\n",
      "Epoch 18/30\n",
      "19/19 [==============================] - ETA: 0s - loss: 0.0000e+00 - accuracy: 1.0000\n",
      "Epoch 18: val_accuracy did not improve from 1.00000\n",
      "19/19 [==============================] - 3s 145ms/step - loss: 0.0000e+00 - accuracy: 1.0000 - val_loss: 0.3310 - val_accuracy: 0.9950\n",
      "Epoch 19/30\n",
      "19/19 [==============================] - ETA: 0s - loss: 0.0000e+00 - accuracy: 1.0000\n",
      "Epoch 19: val_accuracy did not improve from 1.00000\n",
      "19/19 [==============================] - 3s 142ms/step - loss: 0.0000e+00 - accuracy: 1.0000 - val_loss: 0.3432 - val_accuracy: 0.9950\n",
      "Epoch 20/30\n",
      "19/19 [==============================] - ETA: 0s - loss: 0.0000e+00 - accuracy: 1.0000\n",
      "Epoch 20: val_accuracy did not improve from 1.00000\n",
      "19/19 [==============================] - 3s 143ms/step - loss: 0.0000e+00 - accuracy: 1.0000 - val_loss: 0.3448 - val_accuracy: 0.9950\n",
      "Epoch 21/30\n",
      "19/19 [==============================] - ETA: 0s - loss: 0.0000e+00 - accuracy: 1.0000\n",
      "Epoch 21: val_accuracy did not improve from 1.00000\n",
      "19/19 [==============================] - 3s 142ms/step - loss: 0.0000e+00 - accuracy: 1.0000 - val_loss: 0.3450 - val_accuracy: 0.9950\n",
      "Epoch 22/30\n",
      "19/19 [==============================] - ETA: 0s - loss: 0.0000e+00 - accuracy: 1.0000\n",
      "Epoch 22: val_accuracy did not improve from 1.00000\n",
      "19/19 [==============================] - 3s 142ms/step - loss: 0.0000e+00 - accuracy: 1.0000 - val_loss: 0.3450 - val_accuracy: 0.9950\n",
      "Epoch 23/30\n",
      "19/19 [==============================] - ETA: 0s - loss: 0.0000e+00 - accuracy: 1.0000\n",
      "Epoch 23: val_accuracy did not improve from 1.00000\n",
      "19/19 [==============================] - 3s 143ms/step - loss: 0.0000e+00 - accuracy: 1.0000 - val_loss: 0.3450 - val_accuracy: 0.9950\n",
      "Epoch 24/30\n",
      "19/19 [==============================] - ETA: 0s - loss: 0.0000e+00 - accuracy: 1.0000\n",
      "Epoch 24: val_accuracy did not improve from 1.00000\n",
      "19/19 [==============================] - 3s 143ms/step - loss: 0.0000e+00 - accuracy: 1.0000 - val_loss: 0.3450 - val_accuracy: 0.9950\n",
      "Epoch 25/30\n",
      "19/19 [==============================] - ETA: 0s - loss: 0.0000e+00 - accuracy: 1.0000\n",
      "Epoch 25: val_accuracy did not improve from 1.00000\n",
      "19/19 [==============================] - 3s 145ms/step - loss: 0.0000e+00 - accuracy: 1.0000 - val_loss: 0.3450 - val_accuracy: 0.9950\n",
      "Epoch 26/30\n",
      "19/19 [==============================] - ETA: 0s - loss: 0.0000e+00 - accuracy: 1.0000\n",
      "Epoch 26: val_accuracy did not improve from 1.00000\n",
      "19/19 [==============================] - 3s 144ms/step - loss: 0.0000e+00 - accuracy: 1.0000 - val_loss: 0.3450 - val_accuracy: 0.9950\n",
      "Epoch 27/30\n",
      "19/19 [==============================] - ETA: 0s - loss: 0.0000e+00 - accuracy: 1.0000\n",
      "Epoch 27: val_accuracy did not improve from 1.00000\n",
      "19/19 [==============================] - 3s 145ms/step - loss: 0.0000e+00 - accuracy: 1.0000 - val_loss: 0.3450 - val_accuracy: 0.9950\n",
      "Epoch 28/30\n",
      "19/19 [==============================] - ETA: 0s - loss: 0.0000e+00 - accuracy: 1.0000\n",
      "Epoch 28: val_accuracy did not improve from 1.00000\n",
      "19/19 [==============================] - 3s 144ms/step - loss: 0.0000e+00 - accuracy: 1.0000 - val_loss: 0.3450 - val_accuracy: 0.9950\n",
      "Epoch 29/30\n",
      "19/19 [==============================] - ETA: 0s - loss: 0.0000e+00 - accuracy: 1.0000\n",
      "Epoch 29: val_accuracy did not improve from 1.00000\n",
      "19/19 [==============================] - 3s 143ms/step - loss: 0.0000e+00 - accuracy: 1.0000 - val_loss: 0.3450 - val_accuracy: 0.9950\n",
      "Epoch 30/30\n",
      "19/19 [==============================] - ETA: 0s - loss: 0.0000e+00 - accuracy: 1.0000\n",
      "Epoch 30: val_accuracy did not improve from 1.00000\n",
      "19/19 [==============================] - 3s 144ms/step - loss: 0.0000e+00 - accuracy: 1.0000 - val_loss: 0.3450 - val_accuracy: 0.9950\n"
     ]
    }
   ],
   "source": [
    "history = teacher.fit(\n",
    "    treino_gerador,\n",
    "    callbacks=[cp_callback],\n",
    "    validation_data=validacao_gerador,\n",
    "    epochs=30\n",
    ")"
   ]
  },
  {
   "cell_type": "code",
   "execution_count": 9,
   "metadata": {},
   "outputs": [
    {
     "name": "stdout",
     "output_type": "stream",
     "text": [
      "3/7 [===========>..................] - ETA: 0s - loss: 0.0000e+00 - accuracy: 1.0000"
     ]
    },
    {
     "name": "stderr",
     "output_type": "stream",
     "text": [
      "2024-08-22 15:26:50.861593: I tensorflow/core/common_runtime/executor.cc:1197] [/device:CPU:0] (DEBUG INFO) Executor start aborting (this does not indicate an error and you can ignore this message): INVALID_ARGUMENT: You must feed a value for placeholder tensor 'Placeholder/_0' with dtype int32\n",
      "\t [[{{node Placeholder/_0}}]]\n"
     ]
    },
    {
     "name": "stdout",
     "output_type": "stream",
     "text": [
      "7/7 [==============================] - 0s 41ms/step - loss: 2.7121 - accuracy: 0.9850\n"
     ]
    }
   ],
   "source": [
    "teacher.evaluate(teste_gerador)\n",
    "\n",
    "teacher.save(\"Modelos_keras/Modelo_Teacher.keras\")\n",
    "teacher.save_weights(\"weights_finais/Teacher.weights.h5\")\n"
   ]
  },
  {
   "cell_type": "code",
   "execution_count": 10,
   "metadata": {},
   "outputs": [
    {
     "name": "stderr",
     "output_type": "stream",
     "text": [
      "2024-08-22 15:26:51.424686: I tensorflow/core/common_runtime/executor.cc:1197] [/device:CPU:0] (DEBUG INFO) Executor start aborting (this does not indicate an error and you can ignore this message): INVALID_ARGUMENT: You must feed a value for placeholder tensor 'Placeholder/_0' with dtype int32\n",
      "\t [[{{node Placeholder/_0}}]]\n"
     ]
    },
    {
     "name": "stdout",
     "output_type": "stream",
     "text": [
      "7/7 - 0s - loss: 2.7121 - accuracy: 0.9850 - 328ms/epoch - 47ms/step\n"
     ]
    },
    {
     "data": {
      "image/png": "[encoded data removed]",
      "text/plain": [
       "<Figure size 640x480 with 1 Axes>"
      ]
     },
     "metadata": {},
     "output_type": "display_data"
    }
   ],
   "source": [
    "plt.plot(history.history['accuracy'], label='accuracy')\n",
    "plt.plot(history.history['val_accuracy'], label = 'val_accuracy')\n",
    "plt.xlabel('Epoch')\n",
    "plt.ylabel('Accuracy')\n",
    "plt.ylim([0.5, 1])\n",
    "plt.legend(loc='lower right')\n",
    "\n",
    "test_loss, test_acc = teacher.evaluate(teste_gerador, verbose=2)"
   ]
  },
  {
   "cell_type": "code",
   "execution_count": 11,
   "metadata": {},
   "outputs": [
    {
     "name": "stdout",
     "output_type": "stream",
     "text": [
      "3/7 [===========>..................] - ETA: 0s"
     ]
    },
    {
     "name": "stderr",
     "output_type": "stream",
     "text": [
      "2024-08-22 15:26:51.922327: I tensorflow/core/common_runtime/executor.cc:1197] [/device:CPU:0] (DEBUG INFO) Executor start aborting (this does not indicate an error and you can ignore this message): INVALID_ARGUMENT: You must feed a value for placeholder tensor 'Placeholder/_0' with dtype int32\n",
      "\t [[{{node Placeholder/_0}}]]\n"
     ]
    },
    {
     "name": "stdout",
     "output_type": "stream",
     "text": [
      "7/7 [==============================] - 0s 44ms/step\n"
     ]
    }
   ],
   "source": [
    "predict = teacher.predict(teste_gerador)"
   ]
  },
  {
   "cell_type": "code",
   "execution_count": 12,
   "metadata": {},
   "outputs": [
    {
     "name": "stdout",
     "output_type": "stream",
     "text": [
      "7/7 [==============================] - 0s 42ms/step\n",
      "[0 1 1 0 0 0 1 1 1 1 1 0 0 0 1 1 1 0 1 0 0 0 0 0 0 1 1 1 0 1 1 1 0 1 0 0 1\n",
      " 0 0 1 0 0 1 0 1 1 0 0 0 0 0 1 0 0 1 0 1 1 1 0 1 0 1 0 0 1 0 0 1 1 1 0 1 0\n",
      " 1 0 1 0 0 0 0 0 0 0 0 1 1 1 1 0 0 1 1 1 1 1 1 1 0 0 1 0 0 0 0 0 1 0 1 1 0\n",
      " 1 0 1 1 0 0 0 1 1 0 0 0 0 0 1 0 1 0 0 1 0 0 1 0 0 1 0 0 1 1 0 0 0 0 1 0 1\n",
      " 0 1 1 1 1 0 0 0 0 1 0 0 1 0 0 1 0 1 0 1 1 0 0 1 0 0 0 1 0 1 1 0 1 0 0 1 1\n",
      " 0 1 1 0 0 0 1 1 1 1 1 1 1 1 1]\n",
      "[0 1 1 0 0 0 1 1 1 1 1 0 0 0 1 1 1 0 1 0 0 0 0 0 0 1 1 1 0 1 1 1 0 1 0 0 1\n",
      " 0 0 1 0 0 1 0 1 1 0 0 0 0 0 1 0 0 1 0 1 1 1 0 1 0 1 0 0 1 0 0 1 1 1 0 1 0\n",
      " 1 0 1 0 0 0 0 0 0 0 0 1 1 1 1 0 0 1 1 1 1 1 1 1 0 0 1 0 0 0 0 0 1 0 1 1 0\n",
      " 1 0 1 1 0 0 0 1 1 0 0 0 0 0 1 0 1 0 0 1 0 0 1 0 0 0 0 0 1 1 0 1 0 0 1 0 1\n",
      " 0 1 1 1 1 0 1 0 0 1 0 0 1 0 0 1 0 1 0 1 1 0 0 1 0 0 0 1 0 1 1 0 1 0 0 1 1\n",
      " 0 1 1 0 0 0 1 1 1 1 1 1 1 1 1]\n"
     ]
    }
   ],
   "source": [
    "y_verdadeiro = teste_df['classe'].values\n",
    "y_binario = mapear_rotulos_binarios(y_verdadeiro) \n",
    "\n",
    "caminhos_imagens = teste_df['caminho_imagem'].tolist() \n",
    "imagens = carregar_e_preprocessar_imagens(caminhos_imagens)\n",
    "y_predicao = teacher.predict(imagens).argmax(axis=1)\n",
    "\n",
    "dataset = \"Teste\"\n",
    "\n",
    "print(y_binario)\n",
    "print(y_predicao)\n",
    "\n"
   ]
  },
  {
   "cell_type": "code",
   "execution_count": 13,
   "metadata": {},
   "outputs": [],
   "source": [
    "plot_imagens_incorretas(y_binario, y_predicao, caminhos_imagens, teacher.name, dataset, 3) #-> Teste"
   ]
  },
  {
   "cell_type": "code",
   "execution_count": 14,
   "metadata": {},
   "outputs": [
    {
     "name": "stdout",
     "output_type": "stream",
     "text": [
      "Found 1000 validated image filenames belonging to 2 classes.\n",
      "Found 1000 validated image filenames belonging to 2 classes.\n",
      "Found 1000 validated image filenames belonging to 2 classes.\n"
     ]
    }
   ],
   "source": [
    "# Carregar datasets adicionais\n",
    "PUC, PUC_df = preprocessamento_dataframe_unico('Datasets_csv/df_PUC.csv')\n",
    "UFPR04, UFPR04_df = preprocessamento_dataframe_unico('Datasets_csv/df_UFPR04.csv')\n",
    "UFPR05, UFPR05_df = preprocessamento_dataframe_unico('Datasets_csv/df_UFPR05.csv')\n",
    "\n",
    "# Organizar a lista de datasets\n",
    "datasets = [\n",
    "    ('PUC', PUC, PUC_df),\n",
    "    ('UFPR04', UFPR04, UFPR04_df),\n",
    "    ('UFPR05', UFPR05, UFPR05_df)\n",
    "]"
   ]
  },
  {
   "cell_type": "code",
   "execution_count": 15,
   "metadata": {},
   "outputs": [
    {
     "name": "stderr",
     "output_type": "stream",
     "text": [
      "2024-08-22 15:26:54.027394: W tensorflow/tsl/framework/cpu_allocator_impl.cc:83] Allocation of 786432000 exceeds 10% of free system memory.\n",
      "2024-08-22 15:26:54.495224: W tensorflow/tsl/framework/cpu_allocator_impl.cc:83] Allocation of 786432000 exceeds 10% of free system memory.\n"
     ]
    },
    {
     "name": "stdout",
     "output_type": "stream",
     "text": [
      "32/32 [==============================] - 1s 44ms/step\n"
     ]
    },
    {
     "name": "stderr",
     "output_type": "stream",
     "text": [
      "2024-08-22 15:26:57.273120: W tensorflow/tsl/framework/cpu_allocator_impl.cc:83] Allocation of 786432000 exceeds 10% of free system memory.\n",
      "2024-08-22 15:26:57.752417: W tensorflow/tsl/framework/cpu_allocator_impl.cc:83] Allocation of 786432000 exceeds 10% of free system memory.\n"
     ]
    },
    {
     "name": "stdout",
     "output_type": "stream",
     "text": [
      "32/32 [==============================] - 1s 44ms/step\n"
     ]
    },
    {
     "name": "stderr",
     "output_type": "stream",
     "text": [
      "2024-08-22 15:27:00.609050: W tensorflow/tsl/framework/cpu_allocator_impl.cc:83] Allocation of 786432000 exceeds 10% of free system memory.\n"
     ]
    },
    {
     "name": "stdout",
     "output_type": "stream",
     "text": [
      "32/32 [==============================] - 1s 44ms/step\n"
     ]
    }
   ],
   "source": [
    "for nome, gerador, csv in datasets:\n",
    "    y = csv['classe'].values\n",
    "    y = mapear_rotulos_binarios(y)\n",
    "\n",
    "    caminhos = csv['caminho_imagem'].tolist()\n",
    "    imagens = carregar_e_preprocessar_imagens(caminhos)\n",
    "\n",
    "    predicao = teacher.predict(imagens).argmax(axis=1)\n",
    "\n",
    "    plot_imagens_incorretas(y, predicao, caminhos, teacher.name, nome, 3)\n",
    "    plot_confusion_matrix(y, predicao, ['Empty', 'Occupied'], f\"Resultados/Matriz_de_confusao/{teacher.name}/{teacher.name}_vs_{nome}\", f\"{teacher.name} vs {nome}\" )"
   ]
  },
  {
   "cell_type": "code",
   "execution_count": 16,
   "metadata": {},
   "outputs": [],
   "source": [
    "# Compilar e treinar o modelo distiller\n",
    "distiller = Distiller(student=student, teacher=teacher)\n",
    "distiller.compile(\n",
    "    optimizer=keras.optimizers.Adam(),\n",
    "    metrics=[keras.metrics.SparseCategoricalAccuracy()],\n",
    "    student_loss_fn=keras.losses.SparseCategoricalCrossentropy(from_logits=True),\n",
    "    distillation_loss_fn=keras.losses.KLDivergence(),\n",
    "    alpha=0.1,\n",
    "    temperature=10,\n",
    ")\n",
    "\n"
   ]
  },
  {
   "cell_type": "code",
   "execution_count": 21,
   "metadata": {},
   "outputs": [
    {
     "name": "stdout",
     "output_type": "stream",
     "text": [
      "Epoch 1/10\n"
     ]
    },
    {
     "name": "stderr",
     "output_type": "stream",
     "text": [
      "2024-08-22 15:30:30.680678: I tensorflow/core/common_runtime/executor.cc:1197] [/device:CPU:0] (DEBUG INFO) Executor start aborting (this does not indicate an error and you can ignore this message): INVALID_ARGUMENT: You must feed a value for placeholder tensor 'Placeholder/_0' with dtype int32\n",
      "\t [[{{node Placeholder/_0}}]]\n"
     ]
    },
    {
     "name": "stdout",
     "output_type": "stream",
     "text": [
      "19/19 [==============================] - ETA: 0s - sparse_categorical_accuracy: 0.9850"
     ]
    },
    {
     "name": "stderr",
     "output_type": "stream",
     "text": [
      "2024-08-22 15:30:34.124516: I tensorflow/core/common_runtime/executor.cc:1197] [/device:CPU:0] (DEBUG INFO) Executor start aborting (this does not indicate an error and you can ignore this message): INVALID_ARGUMENT: You must feed a value for placeholder tensor 'Placeholder/_0' with dtype int32\n",
      "\t [[{{node Placeholder/_0}}]]\n"
     ]
    },
    {
     "name": "stdout",
     "output_type": "stream",
     "text": [
      "19/19 [==============================] - 4s 190ms/step - sparse_categorical_accuracy: 0.9850 - val_sparse_categorical_accuracy: 0.9950\n",
      "Epoch 2/10\n",
      "19/19 [==============================] - 3s 183ms/step - sparse_categorical_accuracy: 0.9933 - val_sparse_categorical_accuracy: 1.0000\n",
      "Epoch 3/10\n",
      "19/19 [==============================] - 4s 183ms/step - sparse_categorical_accuracy: 0.9950 - val_sparse_categorical_accuracy: 0.9900\n",
      "Epoch 4/10\n",
      "19/19 [==============================] - 4s 185ms/step - sparse_categorical_accuracy: 0.9933 - val_sparse_categorical_accuracy: 0.9750\n",
      "Epoch 5/10\n",
      "19/19 [==============================] - 4s 185ms/step - sparse_categorical_accuracy: 0.9933 - val_sparse_categorical_accuracy: 0.9800\n",
      "Epoch 6/10\n",
      "19/19 [==============================] - 4s 185ms/step - sparse_categorical_accuracy: 0.9950 - val_sparse_categorical_accuracy: 0.9850\n",
      "Epoch 7/10\n",
      "19/19 [==============================] - 3s 183ms/step - sparse_categorical_accuracy: 0.9983 - val_sparse_categorical_accuracy: 1.0000\n",
      "Epoch 8/10\n",
      "19/19 [==============================] - 4s 187ms/step - sparse_categorical_accuracy: 0.9967 - val_sparse_categorical_accuracy: 0.9950\n",
      "Epoch 9/10\n",
      "19/19 [==============================] - 4s 185ms/step - sparse_categorical_accuracy: 0.9967 - val_sparse_categorical_accuracy: 1.0000\n",
      "Epoch 10/10\n",
      "19/19 [==============================] - 3s 177ms/step - sparse_categorical_accuracy: 1.0000 - val_sparse_categorical_accuracy: 1.0000\n"
     ]
    },
    {
     "data": {
      "text/plain": [
       "<keras.callbacks.History at 0x72415c95e0d0>"
      ]
     },
     "execution_count": 21,
     "metadata": {},
     "output_type": "execute_result"
    }
   ],
   "source": [
    "distiller.fit(\n",
    "    treino_gerador,\n",
    "    validation_data=validacao_gerador,\n",
    "    epochs=10\n",
    ")\n"
   ]
  },
  {
   "cell_type": "code",
   "execution_count": 24,
   "metadata": {},
   "outputs": [
    {
     "name": "stdout",
     "output_type": "stream",
     "text": [
      "5/7 [====================>.........] - ETA: 0s - sparse_categorical_accuracy: 0.9875"
     ]
    },
    {
     "name": "stderr",
     "output_type": "stream",
     "text": [
      "2024-08-22 15:31:42.204140: I tensorflow/core/common_runtime/executor.cc:1197] [/device:CPU:0] (DEBUG INFO) Executor start aborting (this does not indicate an error and you can ignore this message): INVALID_ARGUMENT: You must feed a value for placeholder tensor 'Placeholder/_0' with dtype int32\n",
      "\t [[{{node Placeholder/_0}}]]\n"
     ]
    },
    {
     "name": "stdout",
     "output_type": "stream",
     "text": [
      "7/7 [==============================] - 0s 27ms/step - sparse_categorical_accuracy: 0.9900\n"
     ]
    },
    {
     "data": {
      "text/plain": [
       "0.9900000095367432"
      ]
     },
     "execution_count": 24,
     "metadata": {},
     "output_type": "execute_result"
    }
   ],
   "source": [
    "distiller.evaluate(teste_gerador)\n"
   ]
  },
  {
   "cell_type": "code",
   "execution_count": 25,
   "metadata": {},
   "outputs": [],
   "source": [
    "# Acessar o modelo aluno da instância do Distiller\n",
    "modelo_aluno = distiller.student"
   ]
  },
  {
   "cell_type": "code",
   "execution_count": 26,
   "metadata": {},
   "outputs": [
    {
     "name": "stdout",
     "output_type": "stream",
     "text": [
      "32/32 [==============================] - 1s 17ms/step\n",
      "32/32 [==============================] - 1s 17ms/step\n",
      "32/32 [==============================] - 1s 17ms/step\n"
     ]
    }
   ],
   "source": [
    "for nome, gerador, csv in datasets:\n",
    "    y = csv['classe'].values\n",
    "    y = mapear_rotulos_binarios(y)\n",
    "\n",
    "    caminhos = csv['caminho_imagem'].tolist()\n",
    "    imagens = carregar_e_preprocessar_imagens(caminhos)\n",
    "\n",
    "    predicao = modelo_aluno.predict(imagens).argmax(axis=1)\n",
    "\n",
    "    plot_imagens_incorretas(y, predicao, caminhos, modelo_aluno.name, nome, 3)\n",
    "    plot_confusion_matrix(y, predicao, ['Empty', 'Occupied'], f\"Resultados/Matriz_de_confusao/{modelo_aluno.name}/{modelo_aluno.name}_vs_{nome}\", f\"{modelo_aluno.name} vs {nome}\" )"
   ]
  }
 ],
 "metadata": {
  "kernelspec": {
   "display_name": "Python 3",
   "language": "python",
   "name": "python3"
  },
  "language_info": {
   "codemirror_mode": {
    "name": "ipython",
    "version": 3
   },
   "file_extension": ".py",
   "mimetype": "text/x-python",
   "name": "python",
   "nbconvert_exporter": "python",
   "pygments_lexer": "ipython3",
   "version": "3.11.0"
  }
 },
 "nbformat": 4,
 "nbformat_minor": 2
}

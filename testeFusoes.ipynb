{
 "cells": [
  {
   "cell_type": "code",
   "execution_count": null,
   "metadata": {},
   "outputs": [],
   "source": [
    "import numpy as np\n",
    "from visualizacao import *\n",
    "from Preprocessamento import *"
   ]
  },
  {
   "cell_type": "code",
   "execution_count": null,
   "metadata": {},
   "outputs": [],
   "source": [
    "np.load(f'Modelos/Modelo_Kyoto-0/Classificador/Resultados/Modelo_Kyoto-0-PUC-batchs-16.npy')"
   ]
  },
  {
   "cell_type": "code",
   "execution_count": null,
   "metadata": {},
   "outputs": [],
   "source": [
    "df = pd.read_csv('CSV/PUC/PUC_Segmentado_Teste.csv')\n",
    "print(df)"
   ]
  },
  {
   "cell_type": "code",
   "execution_count": null,
   "metadata": {},
   "outputs": [],
   "source": [
    "def mapear(classes):\n",
    "    return np.array([1 if classe == 1 else 0 for classe in classes])\n",
    "\n",
    "    \n",
    "df = mapear(df['classe'])"
   ]
  },
  {
   "cell_type": "code",
   "execution_count": null,
   "metadata": {},
   "outputs": [],
   "source": [
    "def soma(nome_modelo, nome_base, batch):\n",
    "    base = np.load(f'Modelos/{nome_modelo}-0/Classificador/Resultados/{nome_modelo}-0-{nome_base}-batchs-{batch}.npy')\n",
    "    resultado = np.zeros_like(base)\n",
    "    for i in range(10):\n",
    "        array = np.load(f'Modelos/Modelo_Kyoto-{i}/Classificador/Resultados/Modelo_Kyoto-{i}-PUC-batchs-{batch}.npy')\n",
    "        resultado = resultado + array \n",
    "    #print(\"Somatória: \", resultado)\n",
    "    resultado = np.argmax(resultado, axis=1)\n",
    "\n",
    "    #print(\"Resultado: \", resultado)\n",
    "    return resultado\n"
   ]
  },
  {
   "cell_type": "code",
   "execution_count": null,
   "metadata": {},
   "outputs": [],
   "source": [
    "soma = soma('Modelo_Kyoto', 'PUC', 16)\n",
    "plot_confusion_matrix(df, soma, title='Teste')"
   ]
  },
  {
   "cell_type": "code",
   "execution_count": null,
   "metadata": {},
   "outputs": [],
   "source": [
    "def multiplicacao(nome_modelo, nome_base, batch):\n",
    "    base = np.load(f'Modelos/{nome_modelo}-0/Classificador/Resultados/{nome_modelo}-0-{nome_base}-batchs-{batch}.npy')\n",
    "    resultado = np.ones_like(base)\n",
    "    for i in range(10):\n",
    "        array = np.load(f'Modelos/Modelo_Kyoto-{i}/Classificador/Resultados/Modelo_Kyoto-{i}-PUC-batchs-{batch}.npy')\n",
    "        resultado = resultado * array \n",
    "    #print(\"Multiplicação: \", resultado)\n",
    "    resultado = np.argmax(resultado, axis=1)\n",
    "    #print(\"Resultado: \", resultado)\n",
    "    \n",
    "    return resultado"
   ]
  },
  {
   "cell_type": "code",
   "execution_count": null,
   "metadata": {},
   "outputs": [],
   "source": [
    "mult = multiplicacao('Modelo_Kyoto', 'PUC', 16)\n",
    "plot_confusion_matrix(df, mult, title='Teste')"
   ]
  },
  {
   "cell_type": "code",
   "execution_count": null,
   "metadata": {},
   "outputs": [],
   "source": [
    "def votacao(nome_modelo, nome_base, batch):\n",
    "    base = np.load(f'Modelos/{nome_modelo}-0/Classificador/Resultados/{nome_modelo}-0-{nome_base}-batchs-{batch}.npy')\n",
    "    resultado = np.zeros_like(base)\n",
    "    for i in range(10):\n",
    "        array = np.load(f'Modelos/Modelo_Kyoto-{i}/Classificador/Resultados/Modelo_Kyoto-{i}-PUC-batchs-{batch}.npy')\n",
    "        for j in range(len(array)):\n",
    "            valor = array[j][0]\n",
    "            if valor > 0.5:\n",
    "                array[j] = [1 , 0]\n",
    "            else:\n",
    "                array[j] = [0 , 1]\n",
    "\n",
    "        resultado = resultado + array\n",
    "    \n",
    "    #print(\"Votação: \", resultado)\n",
    "    resultado = np.argmax(resultado, axis=1)\n",
    "    #print(\"Resultado: \", resultado)\n",
    "\n",
    "    return resultado\n",
    "    \n",
    "voto = votacao('Modelo_Kyoto', 'PUC', 15)\n",
    "plot_confusion_matrix(df, voto, title='Teste')"
   ]
  }
 ],
 "metadata": {
  "kernelspec": {
   "display_name": ".venv",
   "language": "python",
   "name": "python3"
  },
  "language_info": {
   "codemirror_mode": {
    "name": "ipython",
    "version": 3
   },
   "file_extension": ".py",
   "mimetype": "text/x-python",
   "name": "python",
   "nbconvert_exporter": "python",
   "pygments_lexer": "ipython3",
   "version": "3.11.0rc1"
  }
 },
 "nbformat": 4,
 "nbformat_minor": 2
}

{
 "cells": [
  {
   "cell_type": "markdown",
   "metadata": {},
   "source": [
    "Importações"
   ]
  },
  {
   "cell_type": "code",
   "execution_count": 1,
   "metadata": {},
   "outputs": [
    {
     "name": "stderr",
     "output_type": "stream",
     "text": [
      "2024-11-14 11:35:49.510708: E external/local_xla/xla/stream_executor/cuda/cuda_fft.cc:485] Unable to register cuFFT factory: Attempting to register factory for plugin cuFFT when one has already been registered\n",
      "2024-11-14 11:35:49.523791: E external/local_xla/xla/stream_executor/cuda/cuda_dnn.cc:8454] Unable to register cuDNN factory: Attempting to register factory for plugin cuDNN when one has already been registered\n",
      "2024-11-14 11:35:49.527910: E external/local_xla/xla/stream_executor/cuda/cuda_blas.cc:1452] Unable to register cuBLAS factory: Attempting to register factory for plugin cuBLAS when one has already been registered\n",
      "2024-11-14 11:35:49.537225: I tensorflow/core/platform/cpu_feature_guard.cc:210] This TensorFlow binary is optimized to use available CPU instructions in performance-critical operations.\n",
      "To enable the following instructions: AVX2 FMA, in other operations, rebuild TensorFlow with the appropriate compiler flags.\n",
      "2024-11-14 11:35:50.424867: W tensorflow/compiler/tf2tensorrt/utils/py_utils.cc:38] TF-TRT Warning: Could not find TensorRT\n"
     ]
    }
   ],
   "source": [
    "from Modelos import *   \n",
    "from segmentandoDatasets import *\n",
    "from Preprocessamento import preprocessamento_dataframe\n",
    "from segmentandoDatasets import * \n",
    "\n",
    "import tensorflow as tf\n",
    "from keras.layers import Conv2D"
   ]
  },
  {
   "cell_type": "markdown",
   "metadata": {},
   "source": [
    "Base PKLOT Completa"
   ]
  },
  {
   "cell_type": "code",
   "execution_count": 2,
   "metadata": {},
   "outputs": [],
   "source": [
    "#segmentacao_PKLot(imagens_treino=500, dias_treino=5, imagens_validacao=100, dias_validaco=1, imagens_teste=200, dias_teste=2)\n",
    "#preprocessamento_dataframe(caminho_csv='CSV/PKLot_S.csv', autoencoder=False)"
   ]
  },
  {
   "cell_type": "code",
   "execution_count": 3,
   "metadata": {},
   "outputs": [
    {
     "name": "stdout",
     "output_type": "stream",
     "text": [
      "Começando Segmentação do PKLot\n",
      "Contagem de imagens em todo diretório: {'PUC': {'Cloudy': {'2012-11-08': {'Empty': 1632, 'Occupied': 3945}, '2012-10-14': {'Empty': 5117, 'Occupied': 52}, '2012-10-12': {'Empty': 5332}, '2012-10-28': {'Empty': 5388, 'Occupied': 22}, '2012-10-13': {'Empty': 5201, 'Occupied': 161}, '2012-09-12': {'Empty': 649, 'Occupied': 1112}, '2012-09-28': {'Empty': 1386, 'Occupied': 3165}, '2012-10-16': {'Empty': 1873, 'Occupied': 3168}, '2012-10-05': {'Empty': 33, 'Occupied': 315}, '2012-10-31': {'Empty': 1887, 'Occupied': 2712}, '2012-11-11': {'Empty': 2720, 'Occupied': 10}}, 'Rainy': {'2012-10-23': {'Empty': 29, 'Occupied': 356}, '2012-11-10': {'Empty': 1063, 'Occupied': 1024}, '2012-11-09': {'Empty': 1787, 'Occupied': 3826}, '2012-09-16': {'Empty': 811, 'Occupied': 20}, '2012-10-25': {'Empty': 1002, 'Occupied': 3687}, '2012-10-26': {'Empty': 1650, 'Occupied': 3873}, '2012-09-21': {'Empty': 1259, 'Occupied': 2006}, '2012-10-11': {'Empty': 2060, 'Occupied': 4323}}, 'Sunny': {'2012-10-29': {'Empty': 1741, 'Occupied': 3859}, '2012-09-17': {'Empty': 1668, 'Occupied': 3413}, '2012-10-15': {'Empty': 5292, 'Occupied': 162}, '2012-09-18': {'Empty': 1934, 'Occupied': 3192}, '2012-11-10': {'Empty': 2545, 'Occupied': 880}, '2012-10-17': {'Empty': 989, 'Occupied': 1369}, '2012-10-27': {'Empty': 4427, 'Occupied': 988}, '2012-09-27': {'Empty': 1, 'Occupied': 646}, '2012-09-16': {'Empty': 3983, 'Occupied': 142}, '2012-09-12': {'Empty': 1111, 'Occupied': 1981}, '2012-09-28': {'Empty': 593, 'Occupied': 17}, '2012-11-06': {'Occupied': 44}, '2012-11-07': {'Occupied': 62}, '2012-09-11': {'Empty': 324, 'Occupied': 905}, '2012-11-20': {'Empty': 350, 'Occupied': 1180}, '2012-09-19': {'Empty': 1714, 'Occupied': 3041}, '2012-09-29': {'Empty': 696}, '2012-09-20': {'Empty': 1799, 'Occupied': 3371}, '2012-09-21': {'Empty': 363, 'Occupied': 732}, '2012-10-30': {'Occupied': 57}, '2012-10-09': {'Empty': 37, 'Occupied': 471}, '2012-09-13': {'Empty': 1916, 'Occupied': 2396}, '2012-11-11': {'Empty': 2635, 'Occupied': 166}, '2012-09-14': {'Empty': 1097, 'Occupied': 2704}, '2012-09-15': {'Empty': 3466, 'Occupied': 1703}}}, 'UFPR04': {'Cloudy': {'2012-12-22': {'Empty': 1238, 'Occupied': 19}, '2012-12-28': {'Empty': 1312, 'Occupied': 14}, '2013-01-19': {'Empty': 1463, 'Occupied': 2}, '2013-01-20': {'Empty': 1544}, '2013-01-15': {'Empty': 567, 'Occupied': 243}, '2013-01-29': {'Empty': 18, 'Occupied': 553}, '2012-12-16': {'Empty': 70, 'Occupied': 2}, '2012-12-29': {'Empty': 992}, '2013-01-16': {'Empty': 938, 'Occupied': 368}, '2012-12-15': {'Empty': 708, 'Occupied': 71}, '2013-01-22': {'Empty': 77, 'Occupied': 971}, '2012-12-17': {'Empty': 7, 'Occupied': 313}, '2012-12-14': {'Empty': 154, 'Occupied': 1219}, '2012-12-12': {'Empty': 1, 'Occupied': 242}, '2012-12-27': {'Empty': 519, 'Occupied': 42}}, 'Rainy': {'2012-12-07': {'Empty': 1, 'Occupied': 59}, '2012-12-11': {'Empty': 3, 'Occupied': 189}, '2012-12-28': {'Empty': 170}, '2012-12-08': {'Empty': 192}, '2012-12-21': {'Empty': 24, 'Occupied': 15}, '2013-01-21': {'Empty': 81, 'Occupied': 254}, '2012-12-19': {'Empty': 5, 'Occupied': 39}, '2012-12-29': {'Empty': 180}, '2013-01-16': {'Empty': 25, 'Occupied': 51}, '2012-12-15': {'Empty': 71}, '2012-12-26': {'Empty': 481, 'Occupied': 10}, '2012-12-14': {'Empty': 83, 'Occupied': 98}, '2013-01-17': {'Empty': 282, 'Occupied': 42}, '2013-01-18': {'Empty': 326, 'Occupied': 66}}, 'Sunny': {'2012-12-07': {'Empty': 110, 'Occupied': 328}, '2012-12-23': {'Empty': 1492}, '2012-12-11': {'Empty': 32, 'Occupied': 443}, '2012-12-08': {'Empty': 1138, 'Occupied': 40}, '2012-12-20': {'Empty': 59, 'Occupied': 1196}, '2012-12-18': {'Empty': 50, 'Occupied': 1259}, '2012-12-24': {'Empty': 1520}, '2012-12-21': {'Empty': 309, 'Occupied': 739}, '2013-01-29': {'Empty': 10, 'Occupied': 245}, '2013-01-21': {'Empty': 101, 'Occupied': 1164}, '2012-12-16': {'Empty': 229, 'Occupied': 711}, '2012-12-19': {'Empty': 57, 'Occupied': 925}, '2012-12-13': {'Empty': 39, 'Occupied': 1324}, '2013-01-22': {'Empty': 87, 'Occupied': 454}, '2012-12-17': {'Empty': 64, 'Occupied': 878}, '2012-12-26': {'Empty': 810, 'Occupied': 21}, '2012-12-12': {'Empty': 48, 'Occupied': 867}, '2013-01-17': {'Empty': 776, 'Occupied': 405}, '2012-12-25': {'Empty': 1301}, '2013-01-18': {'Empty': 861, 'Occupied': 172}}}, 'UFPR05': {'Cloudy': {'2013-03-13': {'Empty': 157, 'Occupied': 994}, '2013-03-05': {'Empty': 95, 'Occupied': 479}, '2013-03-19': {'Empty': 110, 'Occupied': 1678}, '2013-04-12': {'Empty': 3, 'Occupied': 246}, '2013-02-26': {'Empty': 11, 'Occupied': 866}, '2013-04-14': {'Empty': 645, 'Occupied': 127}, '2013-03-15': {'Empty': 328, 'Occupied': 1709}, '2013-03-20': {'Empty': 221, 'Occupied': 1092}, '2013-03-03': {'Empty': 122}, '2013-02-22': {'Empty': 99, 'Occupied': 182}, '2013-03-16': {'Empty': 568, 'Occupied': 181}, '2013-03-18': {'Empty': 217, 'Occupied': 476}, '2013-03-14': {'Empty': 187, 'Occupied': 1854}, '2013-03-17': {'Empty': 2008, 'Occupied': 1}, '2013-03-09': {'Empty': 1814, 'Occupied': 227}, '2013-03-02': {'Empty': 118}, '2013-04-13': {'Empty': 1112, 'Occupied': 346}, '2013-04-08': {'Empty': 18, 'Occupied': 36}, '2013-03-12': {'Empty': 195, 'Occupied': 1235}}, 'Rainy': {'2013-03-13': {'Empty': 21, 'Occupied': 658}, '2013-03-05': {'Empty': 4, 'Occupied': 474}, '2013-03-19': {'Empty': 124, 'Occupied': 72}, '2013-04-12': {'Empty': 70, 'Occupied': 278}, '2013-02-26': {'Occupied': 29}, '2013-03-20': {'Empty': 51, 'Occupied': 597}, '2013-03-16': {'Empty': 277, 'Occupied': 30}, '2013-04-13': {'Empty': 425, 'Occupied': 6}}, 'Sunny': {'2013-04-11': {'Empty': 390, 'Occupied': 1621}, '2013-03-13': {'Empty': 3, 'Occupied': 180}, '2013-03-05': {'Empty': 202, 'Occupied': 715}, '2013-03-22': {'Empty': 328, 'Occupied': 905}, '2013-02-23': {'Empty': 1789, 'Occupied': 340}, '2013-04-12': {'Empty': 446, 'Occupied': 807}, '2013-02-26': {'Empty': 3, 'Occupied': 40}, '2013-04-14': {'Empty': 443, 'Occupied': 670}, '2013-04-09': {'Empty': 368, 'Occupied': 1590}, '2013-03-06': {'Empty': 209, 'Occupied': 1846}, '2013-03-21': {'Empty': 329, 'Occupied': 1725}, '2013-04-15': {'Empty': 274, 'Occupied': 1643}, '2013-03-03': {'Empty': 1975}, '2013-02-22': {'Empty': 299, 'Occupied': 1535}, '2013-03-16': {'Empty': 771, 'Occupied': 190}, '2013-03-10': {'Empty': 2048}, '2013-04-16': {'Empty': 130, 'Occupied': 620}, '2013-03-18': {'Empty': 36, 'Occupied': 1246}, '2013-02-24': {'Empty': 2109}, '2013-02-28': {'Empty': 4, 'Occupied': 131}, '2013-03-02': {'Empty': 1691, 'Occupied': 305}, '2013-03-11': {'Empty': 309, 'Occupied': 1704}, '2013-04-10': {'Empty': 414, 'Occupied': 1589}, '2013-03-01': {'Empty': 84, 'Occupied': 106}, '2013-03-12': {'Empty': 6, 'Occupied': 566}}}} \n",
      "\n",
      "\n",
      "Distribuição de imagens para : {'PUC': {'Cloudy': {'Empty': 27, 'Occupied': 29}, 'Rainy': {'Empty': 27, 'Occupied': 29}, 'Sunny': {'Empty': 28, 'Occupied': 27}}, 'UFPR04': {'Cloudy': {'Empty': 28, 'Occupied': 28}, 'Rainy': {'Empty': 28, 'Occupied': 28}, 'Sunny': {'Empty': 28, 'Occupied': 27}}, 'UFPR05': {'Cloudy': {'Empty': 28, 'Occupied': 28}, 'Rainy': {'Empty': 28, 'Occupied': 27}, 'Sunny': {'Empty': 28, 'Occupied': 27}}}\n",
      "Total por classe: {'Empty': 250, 'Occupied': 250} \n",
      "\n"
     ]
    },
    {
     "name": "stderr",
     "output_type": "stream",
     "text": [
      "/home/lucas/PIBIC (copy)/segmentandoDatasets.py:285: FutureWarning: Downcasting behavior in `replace` is deprecated and will be removed in a future version. To retain the old behavior, explicitly call `result.infer_objects(copy=False)`. To opt-in to the future behavior, set `pd.set_option('future.no_silent_downcasting', True)`\n",
      "  df_final['classe'] = df_final['classe'].replace({'Empty': 1, 'Occupied': 0})\n"
     ]
    },
    {
     "name": "stdout",
     "output_type": "stream",
     "text": [
      "Distribuição de imagens para : {'PUC': {'Cloudy': {'Empty': 5, 'Occupied': 7}, 'Rainy': {'Empty': 5, 'Occupied': 6}, 'Sunny': {'Empty': 5, 'Occupied': 6}}, 'UFPR04': {'Cloudy': {'Empty': 5, 'Occupied': 6}, 'Rainy': {'Empty': 6, 'Occupied': 5}, 'Sunny': {'Empty': 6, 'Occupied': 5}}, 'UFPR05': {'Cloudy': {'Empty': 6, 'Occupied': 5}, 'Rainy': {'Empty': 6, 'Occupied': 5}, 'Sunny': {'Empty': 6, 'Occupied': 5}}}\n",
      "Total por classe: {'Empty': 50, 'Occupied': 50} \n",
      "\n"
     ]
    },
    {
     "name": "stderr",
     "output_type": "stream",
     "text": [
      "/home/lucas/PIBIC (copy)/segmentandoDatasets.py:285: FutureWarning: Downcasting behavior in `replace` is deprecated and will be removed in a future version. To retain the old behavior, explicitly call `result.infer_objects(copy=False)`. To opt-in to the future behavior, set `pd.set_option('future.no_silent_downcasting', True)`\n",
      "  df_final['classe'] = df_final['classe'].replace({'Empty': 1, 'Occupied': 0})\n"
     ]
    },
    {
     "name": "stdout",
     "output_type": "stream",
     "text": [
      "Distribuição de imagens para : {'PUC': {'Cloudy': {'Empty': 11, 'Occupied': 12}, 'Rainy': {'Empty': 11, 'Occupied': 11}, 'Sunny': {'Empty': 11, 'Occupied': 11}}, 'UFPR04': {'Cloudy': {'Empty': 12, 'Occupied': 11}, 'Rainy': {'Empty': 11, 'Occupied': 11}, 'Sunny': {'Empty': 11, 'Occupied': 11}}, 'UFPR05': {'Cloudy': {'Empty': 11, 'Occupied': 11}, 'Rainy': {'Empty': 11, 'Occupied': 11}, 'Sunny': {'Empty': 11, 'Occupied': 11}}}\n",
      "Total por classe: {'Empty': 100, 'Occupied': 100} \n",
      "\n"
     ]
    },
    {
     "name": "stderr",
     "output_type": "stream",
     "text": [
      "/home/lucas/PIBIC (copy)/segmentandoDatasets.py:285: FutureWarning: Downcasting behavior in `replace` is deprecated and will be removed in a future version. To retain the old behavior, explicitly call `result.infer_objects(copy=False)`. To opt-in to the future behavior, set `pd.set_option('future.no_silent_downcasting', True)`\n",
      "  df_final['classe'] = df_final['classe'].replace({'Empty': 1, 'Occupied': 0})\n"
     ]
    },
    {
     "name": "stdout",
     "output_type": "stream",
     "text": [
      "Distribuição de imagens para : {'OVERCAST': {'camera1': {'Empty': 9, 'Occupied': 10}, 'camera2': {'Empty': 9, 'Occupied': 10}, 'camera3': {'Empty': 9, 'Occupied': 10}, 'camera4': {'Empty': 9, 'Occupied': 10}, 'camera5': {'Empty': 9, 'Occupied': 10}, 'camera6': {'Empty': 8, 'Occupied': 10}, 'camera7': {'Empty': 8, 'Occupied': 10}, 'camera8': {'Empty': 9, 'Occupied': 9}, 'camera9': {'Empty': 9, 'Occupied': 9}}, 'RAINY': {'camera1': {'Empty': 10, 'Occupied': 9}, 'camera2': {'Empty': 10, 'Occupied': 9}, 'camera3': {'Empty': 10, 'Occupied': 9}, 'camera4': {'Empty': 10, 'Occupied': 9}, 'camera5': {'Empty': 10, 'Occupied': 9}, 'camera6': {'Empty': 9, 'Occupied': 9}, 'camera7': {'Empty': 9, 'Occupied': 9}, 'camera8': {'Empty': 9, 'Occupied': 9}, 'camera9': {'Empty': 9, 'Occupied': 9}}, 'SUNNY': {'camera1': {'Empty': 10, 'Occupied': 9}, 'camera2': {'Empty': 10, 'Occupied': 9}, 'camera3': {'Empty': 10, 'Occupied': 9}, 'camera4': {'Empty': 10, 'Occupied': 9}, 'camera5': {'Empty': 9, 'Occupied': 9}, 'camera6': {'Empty': 9, 'Occupied': 9}, 'camera7': {'Empty': 9, 'Occupied': 9}, 'camera8': {'Empty': 9, 'Occupied': 9}, 'camera9': {'Empty': 9, 'Occupied': 9}}}\n",
      "Total por classe: {'Empty': 250, 'Occupied': 250} \n",
      "\n",
      "Treino\n",
      "Distribuição de imagens para : {'OVERCAST': {'camera1': {'Empty': 5, 'Occupied': 7}, 'camera2': {'Empty': 5, 'Occupied': 6}, 'camera3': {'Empty': 5, 'Occupied': 6}, 'camera4': {'Empty': 5, 'Occupied': 6}, 'camera5': {'Empty': 5, 'Occupied': 6}, 'camera6': {'Empty': 5, 'Occupied': 6}, 'camera7': {'Empty': 5, 'Occupied': 6}, 'camera8': {'Empty': 5, 'Occupied': 6}, 'camera9': {'Empty': 5, 'Occupied': 6}}, 'RAINY': {'camera1': {'Empty': 5, 'Occupied': 7}, 'camera2': {'Empty': 5, 'Occupied': 6}, 'camera3': {'Empty': 5, 'Occupied': 6}, 'camera4': {'Empty': 6, 'Occupied': 5}, 'camera5': {'Empty': 6, 'Occupied': 5}, 'camera6': {'Empty': 6, 'Occupied': 5}, 'camera7': {'Empty': 6, 'Occupied': 5}, 'camera8': {'Empty': 6, 'Occupied': 5}, 'camera9': {'Empty': 6, 'Occupied': 5}}, 'SUNNY': {'camera1': {'Empty': 6, 'Occupied': 6}, 'camera2': {'Empty': 6, 'Occupied': 5}, 'camera3': {'Empty': 6, 'Occupied': 5}, 'camera4': {'Empty': 6, 'Occupied': 5}, 'camera5': {'Empty': 6, 'Occupied': 5}, 'camera6': {'Empty': 6, 'Occupied': 5}, 'camera7': {'Empty': 6, 'Occupied': 5}, 'camera8': {'Empty': 6, 'Occupied': 5}, 'camera9': {'Empty': 6, 'Occupied': 5}}}\n",
      "Total por classe: {'Empty': 150, 'Occupied': 150} \n",
      "\n",
      "Validacao\n",
      "Distribuição de imagens para : {'OVERCAST': {'camera1': {'Empty': 18, 'Occupied': 20}, 'camera2': {'Empty': 18, 'Occupied': 19}, 'camera3': {'Empty': 18, 'Occupied': 19}, 'camera4': {'Empty': 18, 'Occupied': 19}, 'camera5': {'Empty': 18, 'Occupied': 19}, 'camera6': {'Empty': 18, 'Occupied': 19}, 'camera7': {'Empty': 18, 'Occupied': 19}, 'camera8': {'Empty': 18, 'Occupied': 19}, 'camera9': {'Empty': 18, 'Occupied': 19}}, 'RAINY': {'camera1': {'Empty': 18, 'Occupied': 19}, 'camera2': {'Empty': 18, 'Occupied': 19}, 'camera3': {'Empty': 18, 'Occupied': 19}, 'camera4': {'Empty': 18, 'Occupied': 19}, 'camera5': {'Empty': 19, 'Occupied': 18}, 'camera6': {'Empty': 19, 'Occupied': 18}, 'camera7': {'Empty': 19, 'Occupied': 18}, 'camera8': {'Empty': 19, 'Occupied': 18}, 'camera9': {'Empty': 19, 'Occupied': 18}}, 'SUNNY': {'camera1': {'Empty': 19, 'Occupied': 18}, 'camera2': {'Empty': 19, 'Occupied': 18}, 'camera3': {'Empty': 19, 'Occupied': 18}, 'camera4': {'Empty': 19, 'Occupied': 18}, 'camera5': {'Empty': 19, 'Occupied': 18}, 'camera6': {'Empty': 19, 'Occupied': 18}, 'camera7': {'Empty': 19, 'Occupied': 18}, 'camera8': {'Empty': 19, 'Occupied': 18}, 'camera9': {'Empty': 19, 'Occupied': 18}}}\n",
      "Total por classe: {'Empty': 500, 'Occupied': 500} \n",
      "\n",
      "Teste\n",
      "Começando Segmentação do PKLot\n",
      "Contagem de imagens em todo diretório: {'PUC': {'Cloudy': {'2012-11-08': {'Empty': 1632, 'Occupied': 3945}, '2012-10-14': {'Empty': 5117, 'Occupied': 52}, '2012-10-12': {'Empty': 5332}, '2012-10-28': {'Empty': 5388, 'Occupied': 22}, '2012-10-13': {'Empty': 5201, 'Occupied': 161}, '2012-09-12': {'Empty': 649, 'Occupied': 1112}, '2012-09-28': {'Empty': 1386, 'Occupied': 3165}, '2012-10-16': {'Empty': 1873, 'Occupied': 3168}, '2012-10-05': {'Empty': 33, 'Occupied': 315}, '2012-10-31': {'Empty': 1887, 'Occupied': 2712}, '2012-11-11': {'Empty': 2720, 'Occupied': 10}}, 'Rainy': {'2012-10-23': {'Empty': 29, 'Occupied': 356}, '2012-11-10': {'Empty': 1063, 'Occupied': 1024}, '2012-11-09': {'Empty': 1787, 'Occupied': 3826}, '2012-09-16': {'Empty': 811, 'Occupied': 20}, '2012-10-25': {'Empty': 1002, 'Occupied': 3687}, '2012-10-26': {'Empty': 1650, 'Occupied': 3873}, '2012-09-21': {'Empty': 1259, 'Occupied': 2006}, '2012-10-11': {'Empty': 2060, 'Occupied': 4323}}, 'Sunny': {'2012-10-29': {'Empty': 1741, 'Occupied': 3859}, '2012-09-17': {'Empty': 1668, 'Occupied': 3413}, '2012-10-15': {'Empty': 5292, 'Occupied': 162}, '2012-09-18': {'Empty': 1934, 'Occupied': 3192}, '2012-11-10': {'Empty': 2545, 'Occupied': 880}, '2012-10-17': {'Empty': 989, 'Occupied': 1369}, '2012-10-27': {'Empty': 4427, 'Occupied': 988}, '2012-09-27': {'Empty': 1, 'Occupied': 646}, '2012-09-16': {'Empty': 3983, 'Occupied': 142}, '2012-09-12': {'Empty': 1111, 'Occupied': 1981}, '2012-09-28': {'Empty': 593, 'Occupied': 17}, '2012-11-06': {'Occupied': 44}, '2012-11-07': {'Occupied': 62}, '2012-09-11': {'Empty': 324, 'Occupied': 905}, '2012-11-20': {'Empty': 350, 'Occupied': 1180}, '2012-09-19': {'Empty': 1714, 'Occupied': 3041}, '2012-09-29': {'Empty': 696}, '2012-09-20': {'Empty': 1799, 'Occupied': 3371}, '2012-09-21': {'Empty': 363, 'Occupied': 732}, '2012-10-30': {'Occupied': 57}, '2012-10-09': {'Empty': 37, 'Occupied': 471}, '2012-09-13': {'Empty': 1916, 'Occupied': 2396}, '2012-11-11': {'Empty': 2635, 'Occupied': 166}, '2012-09-14': {'Empty': 1097, 'Occupied': 2704}, '2012-09-15': {'Empty': 3466, 'Occupied': 1703}}}} \n",
      "\n",
      "\n",
      "Distribuição de imagens para : {'PUC': {'Cloudy': {'Empty': 83, 'Occupied': 84}, 'Rainy': {'Empty': 84, 'Occupied': 83}, 'Sunny': {'Empty': 83, 'Occupied': 83}}}\n",
      "Total por classe: {'Empty': 250, 'Occupied': 250} \n",
      "\n"
     ]
    },
    {
     "name": "stderr",
     "output_type": "stream",
     "text": [
      "/home/lucas/PIBIC (copy)/segmentandoDatasets.py:285: FutureWarning: Downcasting behavior in `replace` is deprecated and will be removed in a future version. To retain the old behavior, explicitly call `result.infer_objects(copy=False)`. To opt-in to the future behavior, set `pd.set_option('future.no_silent_downcasting', True)`\n",
      "  df_final['classe'] = df_final['classe'].replace({'Empty': 1, 'Occupied': 0})\n"
     ]
    },
    {
     "name": "stdout",
     "output_type": "stream",
     "text": [
      "Distribuição de imagens para : {'PUC': {'Cloudy': {'Empty': 16, 'Occupied': 18}, 'Rainy': {'Empty': 17, 'Occupied': 16}, 'Sunny': {'Empty': 17, 'Occupied': 16}}}\n",
      "Total por classe: {'Empty': 50, 'Occupied': 50} \n",
      "\n"
     ]
    },
    {
     "name": "stderr",
     "output_type": "stream",
     "text": [
      "/home/lucas/PIBIC (copy)/segmentandoDatasets.py:285: FutureWarning: Downcasting behavior in `replace` is deprecated and will be removed in a future version. To retain the old behavior, explicitly call `result.infer_objects(copy=False)`. To opt-in to the future behavior, set `pd.set_option('future.no_silent_downcasting', True)`\n",
      "  df_final['classe'] = df_final['classe'].replace({'Empty': 1, 'Occupied': 0})\n"
     ]
    },
    {
     "name": "stdout",
     "output_type": "stream",
     "text": [
      "Distribuição de imagens para : {'PUC': {'Cloudy': {'Empty': 33, 'Occupied': 34}, 'Rainy': {'Empty': 34, 'Occupied': 33}, 'Sunny': {'Empty': 33, 'Occupied': 33}}}\n",
      "Total por classe: {'Empty': 100, 'Occupied': 100} \n",
      "\n"
     ]
    },
    {
     "name": "stderr",
     "output_type": "stream",
     "text": [
      "/home/lucas/PIBIC (copy)/segmentandoDatasets.py:285: FutureWarning: Downcasting behavior in `replace` is deprecated and will be removed in a future version. To retain the old behavior, explicitly call `result.infer_objects(copy=False)`. To opt-in to the future behavior, set `pd.set_option('future.no_silent_downcasting', True)`\n",
      "  df_final['classe'] = df_final['classe'].replace({'Empty': 1, 'Occupied': 0})\n"
     ]
    },
    {
     "name": "stdout",
     "output_type": "stream",
     "text": [
      "Começando Segmentação do PKLot\n",
      "Contagem de imagens em todo diretório: {'UFPR04': {'Cloudy': {'2012-12-22': {'Empty': 1238, 'Occupied': 19}, '2012-12-28': {'Empty': 1312, 'Occupied': 14}, '2013-01-19': {'Empty': 1463, 'Occupied': 2}, '2013-01-20': {'Empty': 1544}, '2013-01-15': {'Empty': 567, 'Occupied': 243}, '2013-01-29': {'Empty': 18, 'Occupied': 553}, '2012-12-16': {'Empty': 70, 'Occupied': 2}, '2012-12-29': {'Empty': 992}, '2013-01-16': {'Empty': 938, 'Occupied': 368}, '2012-12-15': {'Empty': 708, 'Occupied': 71}, '2013-01-22': {'Empty': 77, 'Occupied': 971}, '2012-12-17': {'Empty': 7, 'Occupied': 313}, '2012-12-14': {'Empty': 154, 'Occupied': 1219}, '2012-12-12': {'Empty': 1, 'Occupied': 242}, '2012-12-27': {'Empty': 519, 'Occupied': 42}}, 'Rainy': {'2012-12-07': {'Empty': 1, 'Occupied': 59}, '2012-12-11': {'Empty': 3, 'Occupied': 189}, '2012-12-28': {'Empty': 170}, '2012-12-08': {'Empty': 192}, '2012-12-21': {'Empty': 24, 'Occupied': 15}, '2013-01-21': {'Empty': 81, 'Occupied': 254}, '2012-12-19': {'Empty': 5, 'Occupied': 39}, '2012-12-29': {'Empty': 180}, '2013-01-16': {'Empty': 25, 'Occupied': 51}, '2012-12-15': {'Empty': 71}, '2012-12-26': {'Empty': 481, 'Occupied': 10}, '2012-12-14': {'Empty': 83, 'Occupied': 98}, '2013-01-17': {'Empty': 282, 'Occupied': 42}, '2013-01-18': {'Empty': 326, 'Occupied': 66}}, 'Sunny': {'2012-12-07': {'Empty': 110, 'Occupied': 328}, '2012-12-23': {'Empty': 1492}, '2012-12-11': {'Empty': 32, 'Occupied': 443}, '2012-12-08': {'Empty': 1138, 'Occupied': 40}, '2012-12-20': {'Empty': 59, 'Occupied': 1196}, '2012-12-18': {'Empty': 50, 'Occupied': 1259}, '2012-12-24': {'Empty': 1520}, '2012-12-21': {'Empty': 309, 'Occupied': 739}, '2013-01-29': {'Empty': 10, 'Occupied': 245}, '2013-01-21': {'Empty': 101, 'Occupied': 1164}, '2012-12-16': {'Empty': 229, 'Occupied': 711}, '2012-12-19': {'Empty': 57, 'Occupied': 925}, '2012-12-13': {'Empty': 39, 'Occupied': 1324}, '2013-01-22': {'Empty': 87, 'Occupied': 454}, '2012-12-17': {'Empty': 64, 'Occupied': 878}, '2012-12-26': {'Empty': 810, 'Occupied': 21}, '2012-12-12': {'Empty': 48, 'Occupied': 867}, '2013-01-17': {'Empty': 776, 'Occupied': 405}, '2012-12-25': {'Empty': 1301}, '2013-01-18': {'Empty': 861, 'Occupied': 172}}}} \n",
      "\n",
      "\n",
      "Distribuição de imagens para : {'UFPR04': {'Cloudy': {'Empty': 83, 'Occupied': 84}, 'Rainy': {'Empty': 84, 'Occupied': 83}, 'Sunny': {'Empty': 83, 'Occupied': 83}}}\n",
      "Total por classe: {'Empty': 250, 'Occupied': 250} \n",
      "\n"
     ]
    },
    {
     "name": "stderr",
     "output_type": "stream",
     "text": [
      "/home/lucas/PIBIC (copy)/segmentandoDatasets.py:285: FutureWarning: Downcasting behavior in `replace` is deprecated and will be removed in a future version. To retain the old behavior, explicitly call `result.infer_objects(copy=False)`. To opt-in to the future behavior, set `pd.set_option('future.no_silent_downcasting', True)`\n",
      "  df_final['classe'] = df_final['classe'].replace({'Empty': 1, 'Occupied': 0})\n"
     ]
    },
    {
     "name": "stdout",
     "output_type": "stream",
     "text": [
      "Distribuição de imagens para : {'UFPR04': {'Cloudy': {'Empty': 16, 'Occupied': 18}, 'Rainy': {'Empty': 17, 'Occupied': 16}, 'Sunny': {'Empty': 17, 'Occupied': 16}}}\n",
      "Total por classe: {'Empty': 50, 'Occupied': 50} \n",
      "\n"
     ]
    },
    {
     "name": "stderr",
     "output_type": "stream",
     "text": [
      "/home/lucas/PIBIC (copy)/segmentandoDatasets.py:285: FutureWarning: Downcasting behavior in `replace` is deprecated and will be removed in a future version. To retain the old behavior, explicitly call `result.infer_objects(copy=False)`. To opt-in to the future behavior, set `pd.set_option('future.no_silent_downcasting', True)`\n",
      "  df_final['classe'] = df_final['classe'].replace({'Empty': 1, 'Occupied': 0})\n"
     ]
    },
    {
     "name": "stdout",
     "output_type": "stream",
     "text": [
      "Distribuição de imagens para : {'UFPR04': {'Cloudy': {'Empty': 33, 'Occupied': 34}, 'Rainy': {'Empty': 34, 'Occupied': 33}, 'Sunny': {'Empty': 33, 'Occupied': 33}}}\n",
      "Total por classe: {'Empty': 100, 'Occupied': 100} \n",
      "\n"
     ]
    },
    {
     "name": "stderr",
     "output_type": "stream",
     "text": [
      "/home/lucas/PIBIC (copy)/segmentandoDatasets.py:285: FutureWarning: Downcasting behavior in `replace` is deprecated and will be removed in a future version. To retain the old behavior, explicitly call `result.infer_objects(copy=False)`. To opt-in to the future behavior, set `pd.set_option('future.no_silent_downcasting', True)`\n",
      "  df_final['classe'] = df_final['classe'].replace({'Empty': 1, 'Occupied': 0})\n"
     ]
    },
    {
     "name": "stdout",
     "output_type": "stream",
     "text": [
      "Começando Segmentação do PKLot\n",
      "Contagem de imagens em todo diretório: {'UFPR05': {'Cloudy': {'2013-03-13': {'Empty': 157, 'Occupied': 994}, '2013-03-05': {'Empty': 95, 'Occupied': 479}, '2013-03-19': {'Empty': 110, 'Occupied': 1678}, '2013-04-12': {'Empty': 3, 'Occupied': 246}, '2013-02-26': {'Empty': 11, 'Occupied': 866}, '2013-04-14': {'Empty': 645, 'Occupied': 127}, '2013-03-15': {'Empty': 328, 'Occupied': 1709}, '2013-03-20': {'Empty': 221, 'Occupied': 1092}, '2013-03-03': {'Empty': 122}, '2013-02-22': {'Empty': 99, 'Occupied': 182}, '2013-03-16': {'Empty': 568, 'Occupied': 181}, '2013-03-18': {'Empty': 217, 'Occupied': 476}, '2013-03-14': {'Empty': 187, 'Occupied': 1854}, '2013-03-17': {'Empty': 2008, 'Occupied': 1}, '2013-03-09': {'Empty': 1814, 'Occupied': 227}, '2013-03-02': {'Empty': 118}, '2013-04-13': {'Empty': 1112, 'Occupied': 346}, '2013-04-08': {'Empty': 18, 'Occupied': 36}, '2013-03-12': {'Empty': 195, 'Occupied': 1235}}, 'Rainy': {'2013-03-13': {'Empty': 21, 'Occupied': 658}, '2013-03-05': {'Empty': 4, 'Occupied': 474}, '2013-03-19': {'Empty': 124, 'Occupied': 72}, '2013-04-12': {'Empty': 70, 'Occupied': 278}, '2013-02-26': {'Occupied': 29}, '2013-03-20': {'Empty': 51, 'Occupied': 597}, '2013-03-16': {'Empty': 277, 'Occupied': 30}, '2013-04-13': {'Empty': 425, 'Occupied': 6}}, 'Sunny': {'2013-04-11': {'Empty': 390, 'Occupied': 1621}, '2013-03-13': {'Empty': 3, 'Occupied': 180}, '2013-03-05': {'Empty': 202, 'Occupied': 715}, '2013-03-22': {'Empty': 328, 'Occupied': 905}, '2013-02-23': {'Empty': 1789, 'Occupied': 340}, '2013-04-12': {'Empty': 446, 'Occupied': 807}, '2013-02-26': {'Empty': 3, 'Occupied': 40}, '2013-04-14': {'Empty': 443, 'Occupied': 670}, '2013-04-09': {'Empty': 368, 'Occupied': 1590}, '2013-03-06': {'Empty': 209, 'Occupied': 1846}, '2013-03-21': {'Empty': 329, 'Occupied': 1725}, '2013-04-15': {'Empty': 274, 'Occupied': 1643}, '2013-03-03': {'Empty': 1975}, '2013-02-22': {'Empty': 299, 'Occupied': 1535}, '2013-03-16': {'Empty': 771, 'Occupied': 190}, '2013-03-10': {'Empty': 2048}, '2013-04-16': {'Empty': 130, 'Occupied': 620}, '2013-03-18': {'Empty': 36, 'Occupied': 1246}, '2013-02-24': {'Empty': 2109}, '2013-02-28': {'Empty': 4, 'Occupied': 131}, '2013-03-02': {'Empty': 1691, 'Occupied': 305}, '2013-03-11': {'Empty': 309, 'Occupied': 1704}, '2013-04-10': {'Empty': 414, 'Occupied': 1589}, '2013-03-01': {'Empty': 84, 'Occupied': 106}, '2013-03-12': {'Empty': 6, 'Occupied': 566}}}} \n",
      "\n",
      "\n",
      "Distribuição de imagens para : {'UFPR05': {'Cloudy': {'Empty': 83, 'Occupied': 84}, 'Rainy': {'Empty': 84, 'Occupied': 83}, 'Sunny': {'Empty': 83, 'Occupied': 83}}}\n",
      "Total por classe: {'Empty': 250, 'Occupied': 250} \n",
      "\n"
     ]
    },
    {
     "name": "stderr",
     "output_type": "stream",
     "text": [
      "/home/lucas/PIBIC (copy)/segmentandoDatasets.py:285: FutureWarning: Downcasting behavior in `replace` is deprecated and will be removed in a future version. To retain the old behavior, explicitly call `result.infer_objects(copy=False)`. To opt-in to the future behavior, set `pd.set_option('future.no_silent_downcasting', True)`\n",
      "  df_final['classe'] = df_final['classe'].replace({'Empty': 1, 'Occupied': 0})\n"
     ]
    },
    {
     "name": "stdout",
     "output_type": "stream",
     "text": [
      "Distribuição de imagens para : {'UFPR05': {'Cloudy': {'Empty': 16, 'Occupied': 18}, 'Rainy': {'Empty': 17, 'Occupied': 16}, 'Sunny': {'Empty': 17, 'Occupied': 16}}}\n",
      "Total por classe: {'Empty': 50, 'Occupied': 50} \n",
      "\n"
     ]
    },
    {
     "name": "stderr",
     "output_type": "stream",
     "text": [
      "/home/lucas/PIBIC (copy)/segmentandoDatasets.py:285: FutureWarning: Downcasting behavior in `replace` is deprecated and will be removed in a future version. To retain the old behavior, explicitly call `result.infer_objects(copy=False)`. To opt-in to the future behavior, set `pd.set_option('future.no_silent_downcasting', True)`\n",
      "  df_final['classe'] = df_final['classe'].replace({'Empty': 1, 'Occupied': 0})\n"
     ]
    },
    {
     "name": "stdout",
     "output_type": "stream",
     "text": [
      "Distribuição de imagens para : {'UFPR05': {'Cloudy': {'Empty': 33, 'Occupied': 34}, 'Rainy': {'Empty': 34, 'Occupied': 33}, 'Sunny': {'Empty': 33, 'Occupied': 33}}}\n",
      "Total por classe: {'Empty': 100, 'Occupied': 100} \n",
      "\n",
      "   caminho_imagem\n",
      "0     kyoto/1.jpg\n",
      "1    kyoto/10.jpg\n",
      "2    kyoto/11.jpg\n",
      "3    kyoto/12.jpg\n",
      "4    kyoto/13.jpg\n",
      "..            ...\n",
      "57   kyoto/61.jpg\n",
      "58   kyoto/62.jpg\n",
      "59    kyoto/7.jpg\n",
      "60    kyoto/8.jpg\n",
      "61    kyoto/9.jpg\n",
      "\n",
      "[62 rows x 1 columns]\n"
     ]
    },
    {
     "name": "stderr",
     "output_type": "stream",
     "text": [
      "/home/lucas/PIBIC (copy)/segmentandoDatasets.py:285: FutureWarning: Downcasting behavior in `replace` is deprecated and will be removed in a future version. To retain the old behavior, explicitly call `result.infer_objects(copy=False)`. To opt-in to the future behavior, set `pd.set_option('future.no_silent_downcasting', True)`\n",
      "  df_final['classe'] = df_final['classe'].replace({'Empty': 1, 'Occupied': 0})\n"
     ]
    }
   ],
   "source": [
    "segmentacao_PKLot(imagens_treino=500, dias_treino=5, imagens_validacao=100, dias_validaco=1, imagens_teste=200, dias_teste=2)\n",
    "segmentacao_CNR(imagens_treino=500, dias_treino=5, imagens_validacao=300, dias_validaco=1, imagens_teste=1000, dias_teste=2)\n",
    "segmentacao_PKLot(imagens_treino=500, dias_treino=5, imagens_validacao=100, dias_validaco=1, imagens_teste=200, dias_teste=2, faculdades=[\"PUC\"])\n",
    "segmentacao_PKLot(imagens_treino=500, dias_treino=5, imagens_validacao=100, dias_validaco=1, imagens_teste=200, dias_teste=2, faculdades=[\"UFPR04\"])\n",
    "segmentacao_PKLot(imagens_treino=500, dias_treino=5, imagens_validacao=100, dias_validaco=1, imagens_teste=200, dias_teste=2, faculdades=[\"UFPR05\"])\n",
    "segmentacao_Kyoto()"
   ]
  },
  {
   "cell_type": "markdown",
   "metadata": {},
   "source": []
  }
 ],
 "metadata": {
  "kernelspec": {
   "display_name": ".venv",
   "language": "python",
   "name": "python3"
  },
  "language_info": {
   "codemirror_mode": {
    "name": "ipython",
    "version": 3
   },
   "file_extension": ".py",
   "mimetype": "text/x-python",
   "name": "python",
   "nbconvert_exporter": "python",
   "pygments_lexer": "ipython3",
   "version": "3.11.0rc1"
  }
 },
 "nbformat": 4,
 "nbformat_minor": 2
}

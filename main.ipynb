{
 "cells": [
  {
   "cell_type": "markdown",
   "metadata": {},
   "source": [
    "Importações"
   ]
  },
  {
   "cell_type": "code",
   "execution_count": 1,
   "metadata": {},
   "outputs": [
    {
     "name": "stderr",
     "output_type": "stream",
     "text": [
      "2024-11-12 14:32:34.476551: E external/local_xla/xla/stream_executor/cuda/cuda_fft.cc:485] Unable to register cuFFT factory: Attempting to register factory for plugin cuFFT when one has already been registered\n",
      "2024-11-12 14:32:34.489686: E external/local_xla/xla/stream_executor/cuda/cuda_dnn.cc:8454] Unable to register cuDNN factory: Attempting to register factory for plugin cuDNN when one has already been registered\n",
      "2024-11-12 14:32:34.493651: E external/local_xla/xla/stream_executor/cuda/cuda_blas.cc:1452] Unable to register cuBLAS factory: Attempting to register factory for plugin cuBLAS when one has already been registered\n",
      "2024-11-12 14:32:34.503268: I tensorflow/core/platform/cpu_feature_guard.cc:210] This TensorFlow binary is optimized to use available CPU instructions in performance-critical operations.\n",
      "To enable the following instructions: AVX2 FMA, in other operations, rebuild TensorFlow with the appropriate compiler flags.\n",
      "2024-11-12 14:32:35.405752: W tensorflow/compiler/tf2tensorrt/utils/py_utils.cc:38] TF-TRT Warning: Could not find TensorRT\n"
     ]
    }
   ],
   "source": [
    "from Modelos import *   \n",
    "from segmentandoDatasets import *\n",
    "from Preprocessamento import preprocessamento_dataframe\n",
    "from segmentandoDatasets import * \n",
    "\n",
    "import tensorflow as tf\n",
    "from keras.layers import Conv2D"
   ]
  },
  {
   "cell_type": "markdown",
   "metadata": {},
   "source": [
    "Base PKLOT Completa"
   ]
  },
  {
   "cell_type": "code",
   "execution_count": null,
   "metadata": {},
   "outputs": [],
   "source": [
    "segmentacao_PKLot(imagens_treino=500, dias_treino=5, imagens_validacao=100, dias_validaco=1, imagens_teste=200, dias_teste=2)\n",
    "preprocessamento_dataframe(caminho_csv='CSV/PKLot_S.csv', autoencoder=False)"
   ]
  },
  {
   "cell_type": "code",
   "execution_count": null,
   "metadata": {},
   "outputs": [],
   "source": [
    "segmentacao_PKLot(imagens_treino=500, dias_treino=5, imagens_validacao=100, dias_validaco=1, imagens_teste=200, dias_teste=2)\n",
    "segmentacao_CNR(imagens_treino=500, dias_treino=5, imagens_validacao=300, dias_validaco=1, imagens_teste=1000, dias_teste=2)\n",
    "segmentacao_PKLot(imagens_treino=500, dias_treino=5, imagens_validacao=100, dias_validaco=1, imagens_teste=200, dias_teste=2, faculdades=[\"PUC\"])\n",
    "segmentacao_PKLot(imagens_treino=500, dias_treino=5, imagens_validacao=100, dias_validaco=1, imagens_teste=200, dias_teste=2, faculdades=[\"UFPR04\"])\n",
    "segmentacao_PKLot(imagens_treino=500, dias_treino=5, imagens_validacao=100, dias_validaco=1, imagens_teste=200, dias_teste=2, faculdades=[\"UFPR05\"])\n",
    "segmentacao_Kyoto()"
   ]
  },
  {
   "cell_type": "markdown",
   "metadata": {},
   "source": []
  }
 ],
 "metadata": {
  "kernelspec": {
   "display_name": ".venv",
   "language": "python",
   "name": "python3"
  },
  "language_info": {
   "codemirror_mode": {
    "name": "ipython",
    "version": 3
   },
   "file_extension": ".py",
   "mimetype": "text/x-python",
   "name": "python",
   "nbconvert_exporter": "python",
   "pygments_lexer": "ipython3",
   "version": "3.11.0"
  }
 },
 "nbformat": 4,
 "nbformat_minor": 2
}

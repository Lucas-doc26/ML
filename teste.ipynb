{
 "cells": [
  {
   "cell_type": "code",
   "execution_count": null,
   "metadata": {},
   "outputs": [],
   "source": [
    "import pandas as pd\n",
    "import numpy as np\n",
    "import os"
   ]
  },
  {
   "cell_type": "code",
   "execution_count": null,
   "metadata": {},
   "outputs": [],
   "source": [
    "df = pd.read_csv(\"CSV/PKLot/PKLot.csv\")\n",
    "df_dias_por_faculdade = df[[\"Faculdade\", \"Dia\"]].drop_duplicates().sort_values(by=[\"Faculdade\", \"Dia\"])"
   ]
  },
  {
   "cell_type": "markdown",
   "metadata": {},
   "source": [
    "Dias de cada faculdade"
   ]
  },
  {
   "cell_type": "code",
   "execution_count": null,
   "metadata": {},
   "outputs": [],
   "source": [
    "dias_faculdades = []\n",
    "for faculdade in ['PUC', 'UFPR04', 'UFPR05']:\n",
    "    dias = df[df[\"Faculdade\"] == f'{faculdade}'][\"Dia\"].unique()\n",
    "    dias_faculdades.append(len(dias))"
   ]
  },
  {
   "cell_type": "code",
   "execution_count": null,
   "metadata": {},
   "outputs": [],
   "source": [
    "dias_faculdades"
   ]
  },
  {
   "cell_type": "code",
   "execution_count": null,
   "metadata": {},
   "outputs": [],
   "source": [
    "dias_cada_facul = []\n",
    "for faculdade in ['PUC', 'UFPR04', 'UFPR05']:\n",
    "    dias = df[df[\"Faculdade\"] == f'{faculdade}'][\"Dia\"].unique()\n",
    "    dias_cada_facul.append(dias)"
   ]
  },
  {
   "cell_type": "code",
   "execution_count": null,
   "metadata": {},
   "outputs": [],
   "source": [
    "dias_cada_facul"
   ]
  },
  {
   "cell_type": "markdown",
   "metadata": {},
   "source": [
    "Separar como: \n",
    "- 2 dias cada tempo para treino\n",
    "- 1 dia cada tempo para val\n",
    "- restante dos dias para teste\n"
   ]
  },
  {
   "cell_type": "code",
   "execution_count": null,
   "metadata": {},
   "outputs": [],
   "source": [
    "faculdades = ['PUC']\n",
    "tempos = ['Cloudy']\n",
    "classes = ['Occupied', 'Empty']"
   ]
  },
  {
   "cell_type": "code",
   "execution_count": null,
   "metadata": {},
   "outputs": [],
   "source": [
    "df = pd.read_csv(\"CSV/PKLot/PKLot.csv\")\n",
    "\n",
    "\n",
    "filtro = "
   ]
  },
  {
   "cell_type": "code",
   "execution_count": null,
   "metadata": {},
   "outputs": [],
   "source": [
    "df_tempo_occ = df[(df['Faculdade'] == 'PUC') & (df['Tempo'] == 'Sunny') & (df['Classe'] == 'Occupied')]\n",
    "ocorrencias_por_dia = df_tempo_occ.groupby('Dia').size()"
   ]
  },
  {
   "cell_type": "code",
   "execution_count": null,
   "metadata": {},
   "outputs": [],
   "source": [
    "# Verificar a quantidade de ocorrências para o dia específico\n",
    "ocorrencias_2012_09_11 = ocorrencias_por_dia[ocorrencias_por_dia.index == '2012-09-11']\n",
    "\n",
    "print(int(ocorrencias_2012_09_11))\n"
   ]
  },
  {
   "cell_type": "code",
   "execution_count": null,
   "metadata": {},
   "outputs": [],
   "source": [
    "df_tempo_occ"
   ]
  },
  {
   "cell_type": "code",
   "execution_count": null,
   "metadata": {},
   "outputs": [],
   "source": [
    "dias = []\n",
    "for dia in df_dias_PUC:\n",
    "    qnt_dias = df[(df[\"Faculdade\"] == 'PUC') & (df[\"Dia\"] == f'{dia}')]['Tempo'].unique()\n",
    "    if len(qnt_dias) == 2:\n",
    "        dias.append(dia)\n",
    "dias"
   ]
  },
  {
   "cell_type": "code",
   "execution_count": null,
   "metadata": {},
   "outputs": [],
   "source": [
    "df_teste = df[(df[\"Faculdade\"] == 'PUC') & (df[\"Dia\"] == '2012-09-11')]['Tempo'].unique()\n",
    "len(df_teste)"
   ]
  }
 ],
 "metadata": {
  "kernelspec": {
   "display_name": ".venv",
   "language": "python",
   "name": "python3"
  },
  "language_info": {
   "codemirror_mode": {
    "name": "ipython",
    "version": 3
   },
   "file_extension": ".py",
   "mimetype": "text/x-python",
   "name": "python",
   "nbconvert_exporter": "python",
   "pygments_lexer": "ipython3",
   "version": "3.11.0"
  }
 },
 "nbformat": 4,
 "nbformat_minor": 2
}

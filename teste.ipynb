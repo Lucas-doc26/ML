{
 "cells": [
  {
   "cell_type": "code",
   "execution_count": null,
   "metadata": {},
   "outputs": [],
   "source": [
    "from Preprocessamento import preprocessamento_dataframe\n",
    "from segmentandoDatasets import *\n",
    "from Modelos import *"
   ]
  },
  {
   "cell_type": "code",
   "execution_count": null,
   "metadata": {},
   "outputs": [],
   "source": [
    "segmentacao_PKLot(imagens_treino=1024, dias_treino=2, imagens_validacao=64, dias_validaco=1, imagens_teste=None, dias_teste=None, faculdades=[\"PUC\"])\n",
    "val, _ = preprocessamento_dataframe(caminho_csv='CSV/PUC/PUC_Segmentado_Validacao.csv', autoencoder=False, data_algumentantation=False)\n",
    "teste_puc, teste_df_puc = preprocessamento_dataframe(caminho_csv='CSV/PUC/PUC_Segmentado_Teste.csv', autoencoder=False, data_algumentantation=False)"
   ]
  },
  {
   "cell_type": "code",
   "execution_count": null,
   "metadata": {},
   "outputs": [],
   "source": [
    "resultado = treina_modelos_em_batch('Modelo_Kyoto', 'Kyoto', 'CSV/PUC/PUC_Segmentado_Treino.csv', val, teste_puc, teste_df_puc, True, 10)"
   ]
  },
  {
   "cell_type": "markdown",
   "metadata": {},
   "source": [
    "Contra UFPR04"
   ]
  },
  {
   "cell_type": "code",
   "execution_count": null,
   "metadata": {},
   "outputs": [],
   "source": [
    "segmentacao_PKLot(imagens_treino=2, dias_treino=1, imagens_validacao=2, dias_validaco=1, imagens_teste=None, dias_teste=None, faculdades=[\"UFPR04\"])\n",
    "teste_UFPR04, teste_df_UFPR04 = preprocessamento_dataframe(caminho_csv='CSV/UFPR04/UFPR04_Segmentado_Teste.csv', autoencoder=False, data_algumentantation=False)"
   ]
  },
  {
   "cell_type": "code",
   "execution_count": null,
   "metadata": {},
   "outputs": [],
   "source": [
    "testa_modelos('Modelo_Kyoto', teste_UFPR04, teste_df_UFPR04)"
   ]
  },
  {
   "cell_type": "markdown",
   "metadata": {},
   "source": [
    "Contra UFPR05"
   ]
  },
  {
   "cell_type": "code",
   "execution_count": null,
   "metadata": {},
   "outputs": [],
   "source": [
    "segmentacao_PKLot(imagens_treino=500, dias_treino=2, imagens_validacao=64, dias_validaco=1, imagens_teste=None, dias_teste=None, faculdades=[\"UFPR05\"])\n",
    "teste_UFPR05, teste_df_UFPR05 = preprocessamento_dataframe(caminho_csv='CSV/UFPR05/UFPR05_Segmentado_Teste.csv', autoencoder=False, data_algumentantation=False)"
   ]
  },
  {
   "cell_type": "code",
   "execution_count": null,
   "metadata": {},
   "outputs": [],
   "source": [
    "testa_modelos('Modelo_Kyoto', teste_UFPR05, teste_df_UFPR05)"
   ]
  }
 ],
 "metadata": {
  "kernelspec": {
   "display_name": ".venv",
   "language": "python",
   "name": "python3"
  },
  "language_info": {
   "codemirror_mode": {
    "name": "ipython",
    "version": 3
   },
   "file_extension": ".py",
   "mimetype": "text/x-python",
   "name": "python",
   "nbconvert_exporter": "python",
   "pygments_lexer": "ipython3",
   "version": "3.11.0rc1"
  }
 },
 "nbformat": 4,
 "nbformat_minor": 4
}

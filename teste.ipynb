{
 "cells": [
  {
   "cell_type": "code",
   "execution_count": 1,
   "metadata": {},
   "outputs": [
    {
     "name": "stderr",
     "output_type": "stream",
     "text": [
      "2024-11-21 14:36:40.188646: E external/local_xla/xla/stream_executor/cuda/cuda_fft.cc:485] Unable to register cuFFT factory: Attempting to register factory for plugin cuFFT when one has already been registered\n",
      "2024-11-21 14:36:40.376916: E external/local_xla/xla/stream_executor/cuda/cuda_dnn.cc:8454] Unable to register cuDNN factory: Attempting to register factory for plugin cuDNN when one has already been registered\n",
      "2024-11-21 14:36:40.422210: E external/local_xla/xla/stream_executor/cuda/cuda_blas.cc:1452] Unable to register cuBLAS factory: Attempting to register factory for plugin cuBLAS when one has already been registered\n",
      "2024-11-21 14:36:40.774654: I tensorflow/core/platform/cpu_feature_guard.cc:210] This TensorFlow binary is optimized to use available CPU instructions in performance-critical operations.\n",
      "To enable the following instructions: AVX2 FMA, in other operations, rebuild TensorFlow with the appropriate compiler flags.\n",
      "2024-11-21 14:36:43.209540: W tensorflow/compiler/tf2tensorrt/utils/py_utils.cc:38] TF-TRT Warning: Could not find TensorRT\n"
     ]
    }
   ],
   "source": [
    "from Modelos import *\n",
    "from Preprocessamento import preprocessamento_dataframe\n",
    "from segmentandoDatasets import *"
   ]
  },
  {
   "cell_type": "code",
   "execution_count": 2,
   "metadata": {},
   "outputs": [
    {
     "name": "stdout",
     "output_type": "stream",
     "text": [
      "Começando Segmentação do PKLot\n",
      "Contagem de imagens em todo diretório: {'PUC': {'Cloudy': {'2012-11-08': {'Empty': 1632, 'Occupied': 3945}, '2012-10-14': {'Empty': 5117, 'Occupied': 52}, '2012-10-12': {'Empty': 5332}, '2012-10-28': {'Empty': 5388, 'Occupied': 22}, '2012-10-13': {'Empty': 5201, 'Occupied': 161}, '2012-09-12': {'Empty': 649, 'Occupied': 1112}, '2012-09-28': {'Empty': 1386, 'Occupied': 3165}, '2012-10-16': {'Empty': 1873, 'Occupied': 3168}, '2012-10-05': {'Empty': 33, 'Occupied': 315}, '2012-10-31': {'Empty': 1887, 'Occupied': 2712}, '2012-11-11': {'Empty': 2720, 'Occupied': 10}}, 'Rainy': {'2012-10-23': {'Empty': 29, 'Occupied': 356}, '2012-11-10': {'Empty': 1063, 'Occupied': 1024}, '2012-11-09': {'Empty': 1787, 'Occupied': 3826}, '2012-09-16': {'Empty': 811, 'Occupied': 20}, '2012-10-25': {'Empty': 1002, 'Occupied': 3687}, '2012-10-26': {'Empty': 1650, 'Occupied': 3873}, '2012-09-21': {'Empty': 1259, 'Occupied': 2006}, '2012-10-11': {'Empty': 2060, 'Occupied': 4323}}, 'Sunny': {'2012-10-29': {'Empty': 1741, 'Occupied': 3859}, '2012-09-17': {'Empty': 1668, 'Occupied': 3413}, '2012-10-15': {'Empty': 5292, 'Occupied': 162}, '2012-09-18': {'Empty': 1934, 'Occupied': 3192}, '2012-11-10': {'Empty': 2545, 'Occupied': 880}, '2012-10-17': {'Empty': 989, 'Occupied': 1369}, '2012-10-27': {'Empty': 4427, 'Occupied': 988}, '2012-09-27': {'Empty': 1, 'Occupied': 646}, '2012-09-16': {'Empty': 3983, 'Occupied': 142}, '2012-09-12': {'Empty': 1111, 'Occupied': 1981}, '2012-09-28': {'Empty': 593, 'Occupied': 17}, '2012-11-06': {'Occupied': 44}, '2012-11-07': {'Occupied': 62}, '2012-09-11': {'Empty': 324, 'Occupied': 905}, '2012-11-20': {'Empty': 350, 'Occupied': 1180}, '2012-09-19': {'Empty': 1714, 'Occupied': 3041}, '2012-09-29': {'Empty': 696}, '2012-09-20': {'Empty': 1799, 'Occupied': 3371}, '2012-09-21': {'Empty': 363, 'Occupied': 732}, '2012-10-30': {'Occupied': 57}, '2012-10-09': {'Empty': 37, 'Occupied': 471}, '2012-09-13': {'Empty': 1916, 'Occupied': 2396}, '2012-11-11': {'Empty': 2635, 'Occupied': 166}, '2012-09-14': {'Empty': 1097, 'Occupied': 2704}, '2012-09-15': {'Empty': 3466, 'Occupied': 1703}}}} \n",
      "\n",
      "\n",
      "Distribuição de imagens para : {'PUC': {'Cloudy': {'Empty': 170, 'Occupied': 172}, 'Rainy': {'Empty': 171, 'Occupied': 170}, 'Sunny': {'Empty': 171, 'Occupied': 170}}}\n",
      "Total por classe: {'Empty': 512, 'Occupied': 512} \n",
      "\n"
     ]
    },
    {
     "name": "stderr",
     "output_type": "stream",
     "text": [
      "/home/lucas/PIBIC (copy)/segmentandoDatasets.py:286: FutureWarning: Downcasting behavior in `replace` is deprecated and will be removed in a future version. To retain the old behavior, explicitly call `result.infer_objects(copy=False)`. To opt-in to the future behavior, set `pd.set_option('future.no_silent_downcasting', True)`\n",
      "  df_final['classe'] = df_final['classe'].replace({'Empty': 1, 'Occupied': 0})\n"
     ]
    },
    {
     "name": "stdout",
     "output_type": "stream",
     "text": [
      "Distribuição de imagens para : {'PUC': {'Cloudy': {'Empty': 10, 'Occupied': 12}, 'Rainy': {'Empty': 11, 'Occupied': 10}, 'Sunny': {'Empty': 11, 'Occupied': 10}}}\n",
      "Total por classe: {'Empty': 32, 'Occupied': 32} \n",
      "\n"
     ]
    },
    {
     "name": "stderr",
     "output_type": "stream",
     "text": [
      "/home/lucas/PIBIC (copy)/segmentandoDatasets.py:286: FutureWarning: Downcasting behavior in `replace` is deprecated and will be removed in a future version. To retain the old behavior, explicitly call `result.infer_objects(copy=False)`. To opt-in to the future behavior, set `pd.set_option('future.no_silent_downcasting', True)`\n",
      "  df_final['classe'] = df_final['classe'].replace({'Empty': 1, 'Occupied': 0})\n"
     ]
    },
    {
     "name": "stdout",
     "output_type": "stream",
     "text": [
      "Found 64 validated image filenames belonging to 2 classes.\n"
     ]
    },
    {
     "name": "stderr",
     "output_type": "stream",
     "text": [
      "/home/lucas/PIBIC (copy)/segmentandoDatasets.py:343: FutureWarning: Downcasting behavior in `replace` is deprecated and will be removed in a future version. To retain the old behavior, explicitly call `result.infer_objects(copy=False)`. To opt-in to the future behavior, set `pd.set_option('future.no_silent_downcasting', True)`\n",
      "  df_final['classe'] = df_final['classe'].replace({'Empty': 1, 'Occupied': 0})\n"
     ]
    },
    {
     "name": "stdout",
     "output_type": "stream",
     "text": [
      "Imagens totais: 64\n",
      "Found 121046 validated image filenames belonging to 2 classes.\n",
      "Imagens totais: 121046\n"
     ]
    }
   ],
   "source": [
    "segmentacao_PKLot(imagens_treino=1024, dias_treino=2, imagens_validacao=64, dias_validaco=1, imagens_teste=None, dias_teste=None, faculdades=[\"PUC\"])\n",
    "val, _ = preprocessamento_dataframe(caminho_csv='CSV/PUC/PUC_Segmentado_Validacao.csv', autoencoder=False, data_algumentantation=False)\n",
    "teste, teste_df = preprocessamento_dataframe(caminho_csv='CSV/PUC/PUC_Segmentado_Teste.csv', autoencoder=False, data_algumentantation=False)"
   ]
  },
  {
   "cell_type": "code",
   "execution_count": null,
   "metadata": {},
   "outputs": [],
   "source": [
    "resultado = treina_modelos_em_batch('Modelo_Kyoto', 'Kyoto', 'CSV/PUC/PUC_Segmentado_Treino.csv', val, teste, teste_df, True, 10)"
   ]
  }
 ],
 "metadata": {
  "kernelspec": {
   "display_name": ".venv",
   "language": "python",
   "name": "python3"
  },
  "language_info": {
   "codemirror_mode": {
    "name": "ipython",
    "version": 3
   },
   "file_extension": ".py",
   "mimetype": "text/x-python",
   "name": "python",
   "nbconvert_exporter": "python",
   "pygments_lexer": "ipython3",
   "version": "3.11.0rc1"
  }
 },
 "nbformat": 4,
 "nbformat_minor": 4
}

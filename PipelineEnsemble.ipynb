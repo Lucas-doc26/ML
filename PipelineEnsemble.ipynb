{
 "cells": [
  {
   "cell_type": "code",
   "execution_count": 1,
   "metadata": {},
   "outputs": [
    {
     "name": "stderr",
     "output_type": "stream",
     "text": [
      "2024-10-08 16:21:32.286070: E external/local_xla/xla/stream_executor/cuda/cuda_fft.cc:485] Unable to register cuFFT factory: Attempting to register factory for plugin cuFFT when one has already been registered\n",
      "2024-10-08 16:21:32.299657: E external/local_xla/xla/stream_executor/cuda/cuda_dnn.cc:8454] Unable to register cuDNN factory: Attempting to register factory for plugin cuDNN when one has already been registered\n",
      "2024-10-08 16:21:32.303731: E external/local_xla/xla/stream_executor/cuda/cuda_blas.cc:1452] Unable to register cuBLAS factory: Attempting to register factory for plugin cuBLAS when one has already been registered\n",
      "2024-10-08 16:21:32.313280: I tensorflow/core/platform/cpu_feature_guard.cc:210] This TensorFlow binary is optimized to use available CPU instructions in performance-critical operations.\n",
      "To enable the following instructions: AVX2 FMA, in other operations, rebuild TensorFlow with the appropriate compiler flags.\n",
      "2024-10-08 16:21:33.168411: W tensorflow/compiler/tf2tensorrt/utils/py_utils.cc:38] TF-TRT Warning: Could not find TensorRT\n"
     ]
    }
   ],
   "source": [
    "import os\n",
    "from keras import backend as K\n",
    "#os.environ['CUDA_VISIBLE_DEVICES'] = '-1'  # Força o uso da CPU"
   ]
  },
  {
   "cell_type": "code",
   "execution_count": 2,
   "metadata": {},
   "outputs": [],
   "source": [
    "from Modelos import GeradorClassificador, Gerador\n",
    "from segmentandoDatasets import segmentando_datasets\n",
    "from Preprocessamento import preprocessamento"
   ]
  },
  {
   "cell_type": "code",
   "execution_count": 3,
   "metadata": {},
   "outputs": [],
   "source": [
    "#segmentando_datasets()"
   ]
  },
  {
   "cell_type": "markdown",
   "metadata": {},
   "source": [
    "Criação dos Modelos a partir de um gerador, todos os modelos estão com a entrada de imagem (64,64,3)"
   ]
  },
  {
   "cell_type": "code",
   "execution_count": 4,
   "metadata": {},
   "outputs": [
    {
     "data": {
      "text/plain": [
       "'treinoPUC, validacaoPUC, testePUC, treino_dfPUC, validacao_dfPUC, teste_df = preprocessamento(input_shape = (64,64), caminho=\"Datasets_csv/df_PUC.csv\")\\nPUC = Gerador(input_shape=(64,64,3), max_layers=4)\\nPUC.Dataset(treinoPUC, validacaoPUC, testePUC)\\n\\nModeloPUC = PUC.construir_modelo()\\nPUC.compilar_modelo()\\nModeloPUC.summary()\\nPUC.encoder.summary()\\nPUC.decoder.summary()\\nPUC.setNome(\"Modelo PUC - Teste\")\\n\\nPUC.treinar_autoencoder(epocas=10, salvar=True, batch_size=8)\\ndel ModeloPUC\\n\\nK.clear_session()\\n'"
      ]
     },
     "execution_count": 4,
     "metadata": {},
     "output_type": "execute_result"
    }
   ],
   "source": [
    "\"\"\"treinoPUC, validacaoPUC, testePUC, treino_dfPUC, validacao_dfPUC, teste_df = preprocessamento(input_shape = (64,64), caminho=\"Datasets_csv/df_PUC.csv\")\n",
    "PUC = Gerador(input_shape=(64,64,3), max_layers=4)\n",
    "PUC.Dataset(treinoPUC, validacaoPUC, testePUC)\n",
    "\n",
    "ModeloPUC = PUC.construir_modelo()\n",
    "PUC.compilar_modelo()\n",
    "ModeloPUC.summary()\n",
    "PUC.encoder.summary()\n",
    "PUC.decoder.summary()\n",
    "PUC.setNome(\"Modelo PUC - Teste\")\n",
    "\n",
    "PUC.treinar_autoencoder(epocas=10, salvar=True, batch_size=8)\n",
    "del ModeloPUC\n",
    "\n",
    "K.clear_session()\n",
    "\"\"\""
   ]
  },
  {
   "cell_type": "code",
   "execution_count": 5,
   "metadata": {},
   "outputs": [
    {
     "data": {
      "text/plain": [
       "'treinoUFPR04, validacaoUFPR04, testeUFPR04, treino_dfUFPR04, validacao_dfUFPR04, teste_dfUFPR04 = preprocessamento(input_shape = (64,64), caminho=\"Datasets_csv/df_UFPR04.csv\")\\nUFPR04 = Gerador(input_shape=(64,64,3), max_layers=4)\\nUFPR04.Dataset(treinoUFPR04, validacaoUFPR04, testeUFPR04)\\n\\nModeloUFPR04 = UFPR04.construir_modelo()\\nUFPR04.compilar_modelo()\\nModeloUFPR04.summary()\\nUFPR04.encoder.summary()\\nUFPR04.decoder.summary()\\nUFPR04.setNome(\"Modelo UFPR04\")\\n\\nUFPR04.treinar_autoencoder(epocas=10, salvar=True, batch_size=8)\\ndel ModeloUFPR04\\n\\nK.clear_session()'"
      ]
     },
     "execution_count": 5,
     "metadata": {},
     "output_type": "execute_result"
    }
   ],
   "source": [
    "\"\"\"treinoUFPR04, validacaoUFPR04, testeUFPR04, treino_dfUFPR04, validacao_dfUFPR04, teste_dfUFPR04 = preprocessamento(input_shape = (64,64), caminho=\"Datasets_csv/df_UFPR04.csv\")\n",
    "UFPR04 = Gerador(input_shape=(64,64,3), max_layers=4)\n",
    "UFPR04.Dataset(treinoUFPR04, validacaoUFPR04, testeUFPR04)\n",
    "\n",
    "ModeloUFPR04 = UFPR04.construir_modelo()\n",
    "UFPR04.compilar_modelo()\n",
    "ModeloUFPR04.summary()\n",
    "UFPR04.encoder.summary()\n",
    "UFPR04.decoder.summary()\n",
    "UFPR04.setNome(\"Modelo UFPR04\")\n",
    "\n",
    "UFPR04.treinar_autoencoder(epocas=10, salvar=True, batch_size=8)\n",
    "del ModeloUFPR04\n",
    "\n",
    "K.clear_session()\"\"\"\n"
   ]
  },
  {
   "cell_type": "code",
   "execution_count": 6,
   "metadata": {},
   "outputs": [
    {
     "data": {
      "text/plain": [
       "'treinoUFPR05, validacaoUFPR05, testeUFPR05, treino_dfUFPR05, validacao_dfUFPR05, teste_dfUFPR05 = preprocessamento(input_shape = (64,64), caminho=\"Datasets_csv/df_UFPR05.csv\")\\nUFPR05 = Gerador(input_shape=(64,64,3), max_layers=4) \\nUFPR05.Dataset(treinoUFPR05, validacaoUFPR05, testeUFPR05)\\n\\nModeloUFPR05 = UFPR05.construir_modelo()\\nUFPR05.compilar_modelo()\\nModeloUFPR05.summary()\\nUFPR05.encoder.summary()\\nUFPR05.decoder.summary()\\n\\nUFPR05.setNome(\"Modelo UFPR05\")\\n\\nUFPR05.treinar_autoencoder(epocas=10, salvar=True, batch_size=8)\\ndel ModeloUFPR05\\n\\nK.clear_session()\\n'"
      ]
     },
     "execution_count": 6,
     "metadata": {},
     "output_type": "execute_result"
    }
   ],
   "source": [
    "\"\"\"treinoUFPR05, validacaoUFPR05, testeUFPR05, treino_dfUFPR05, validacao_dfUFPR05, teste_dfUFPR05 = preprocessamento(input_shape = (64,64), caminho=\"Datasets_csv/df_UFPR05.csv\")\n",
    "UFPR05 = Gerador(input_shape=(64,64,3), max_layers=4) \n",
    "UFPR05.Dataset(treinoUFPR05, validacaoUFPR05, testeUFPR05)\n",
    "\n",
    "ModeloUFPR05 = UFPR05.construir_modelo()\n",
    "UFPR05.compilar_modelo()\n",
    "ModeloUFPR05.summary()\n",
    "UFPR05.encoder.summary()\n",
    "UFPR05.decoder.summary()\n",
    "\n",
    "UFPR05.setNome(\"Modelo UFPR05\")\n",
    "\n",
    "UFPR05.treinar_autoencoder(epocas=10, salvar=True, batch_size=8)\n",
    "del ModeloUFPR05\n",
    "\n",
    "K.clear_session()\n",
    "\"\"\""
   ]
  },
  {
   "cell_type": "markdown",
   "metadata": {},
   "source": [
    "Forma como posso carregar os modelos"
   ]
  },
  {
   "cell_type": "code",
   "execution_count": 7,
   "metadata": {},
   "outputs": [
    {
     "name": "stderr",
     "output_type": "stream",
     "text": [
      "WARNING: All log messages before absl::InitializeLog() is called are written to STDERR\n",
      "I0000 00:00:1728415294.540498   35260 cuda_executor.cc:1015] successful NUMA node read from SysFS had negative value (-1), but there must be at least one NUMA node, so returning NUMA node zero. See more at https://github.com/torvalds/linux/blob/v6.0/Documentation/ABI/testing/sysfs-bus-pci#L344-L355\n",
      "I0000 00:00:1728415294.706867   35260 cuda_executor.cc:1015] successful NUMA node read from SysFS had negative value (-1), but there must be at least one NUMA node, so returning NUMA node zero. See more at https://github.com/torvalds/linux/blob/v6.0/Documentation/ABI/testing/sysfs-bus-pci#L344-L355\n",
      "I0000 00:00:1728415294.707392   35260 cuda_executor.cc:1015] successful NUMA node read from SysFS had negative value (-1), but there must be at least one NUMA node, so returning NUMA node zero. See more at https://github.com/torvalds/linux/blob/v6.0/Documentation/ABI/testing/sysfs-bus-pci#L344-L355\n",
      "I0000 00:00:1728415294.708418   35260 cuda_executor.cc:1015] successful NUMA node read from SysFS had negative value (-1), but there must be at least one NUMA node, so returning NUMA node zero. See more at https://github.com/torvalds/linux/blob/v6.0/Documentation/ABI/testing/sysfs-bus-pci#L344-L355\n",
      "I0000 00:00:1728415294.708543   35260 cuda_executor.cc:1015] successful NUMA node read from SysFS had negative value (-1), but there must be at least one NUMA node, so returning NUMA node zero. See more at https://github.com/torvalds/linux/blob/v6.0/Documentation/ABI/testing/sysfs-bus-pci#L344-L355\n",
      "I0000 00:00:1728415294.708654   35260 cuda_executor.cc:1015] successful NUMA node read from SysFS had negative value (-1), but there must be at least one NUMA node, so returning NUMA node zero. See more at https://github.com/torvalds/linux/blob/v6.0/Documentation/ABI/testing/sysfs-bus-pci#L344-L355\n",
      "I0000 00:00:1728415294.771659   35260 cuda_executor.cc:1015] successful NUMA node read from SysFS had negative value (-1), but there must be at least one NUMA node, so returning NUMA node zero. See more at https://github.com/torvalds/linux/blob/v6.0/Documentation/ABI/testing/sysfs-bus-pci#L344-L355\n",
      "I0000 00:00:1728415294.771819   35260 cuda_executor.cc:1015] successful NUMA node read from SysFS had negative value (-1), but there must be at least one NUMA node, so returning NUMA node zero. See more at https://github.com/torvalds/linux/blob/v6.0/Documentation/ABI/testing/sysfs-bus-pci#L344-L355\n",
      "I0000 00:00:1728415294.771933   35260 cuda_executor.cc:1015] successful NUMA node read from SysFS had negative value (-1), but there must be at least one NUMA node, so returning NUMA node zero. See more at https://github.com/torvalds/linux/blob/v6.0/Documentation/ABI/testing/sysfs-bus-pci#L344-L355\n",
      "2024-10-08 16:21:34.772013: I tensorflow/core/common_runtime/gpu/gpu_device.cc:2021] Created device /job:localhost/replica:0/task:0/device:GPU:0 with 4398 MB memory:  -> device: 0, name: NVIDIA GeForce GTX 1660, pci bus id: 0000:01:00.0, compute capability: 7.5\n"
     ]
    }
   ],
   "source": [
    "PUC = Gerador()\n",
    "UFPR04 = Gerador()\n",
    "UFPR05 = Gerador()\n",
    "\n",
    "PUC.setNome('Modelo PUC')\n",
    "UFPR04.setNome('Modelo UFPR04')\n",
    "UFPR05.setNome('Modelo UFPR05')\n",
    "\n",
    "AutoencoderPUC = PUC.carrega_modelo('Modelos_keras/Autoencoders_Gerados/Modelo PUC.keras', 'weights_finais/Autoencoders_Gerados/Modelo PUC.weights.h5')\n",
    "AutoencoderUFPR04 = UFPR04.carrega_modelo('Modelos_keras/Autoencoders_Gerados/Modelo UFPR04.keras', 'weights_finais/Autoencoders_Gerados/Modelo UFPR04.weights.h5')\n",
    "AutoencoderUFPR05 = UFPR05.carrega_modelo('Modelos_keras/Autoencoders_Gerados/Modelo UFPR05.keras', 'weights_finais/Autoencoders_Gerados/Modelo UFPR05.weights.h5')"
   ]
  },
  {
   "cell_type": "code",
   "execution_count": 8,
   "metadata": {},
   "outputs": [
    {
     "name": "stdout",
     "output_type": "stream",
     "text": [
      "DataFrame do local PUC salvo como: Datasets_csv/df_PUC.csv\n",
      "DataFrame do local PUC:\n",
      "                                      caminho_imagem    classe\n",
      "0  /home/lucas/Downloads/PKLot/PKLotSegmented/PUC...  Occupied\n",
      "1  /home/lucas/Downloads/PKLot/PKLotSegmented/PUC...     Empty\n",
      "2  /home/lucas/Downloads/PKLot/PKLotSegmented/PUC...     Empty\n",
      "3  /home/lucas/Downloads/PKLot/PKLotSegmented/PUC...  Occupied\n",
      "4  /home/lucas/Downloads/PKLot/PKLotSegmented/PUC...  Occupied\n",
      "\n",
      "\n",
      "DataFrame do local UFPR04 salvo como: Datasets_csv/df_UFPR04.csv\n",
      "DataFrame do local UFPR04:\n",
      "                                      caminho_imagem    classe\n",
      "0  /home/lucas/Downloads/PKLot/PKLotSegmented/UFP...     Empty\n",
      "1  /home/lucas/Downloads/PKLot/PKLotSegmented/UFP...  Occupied\n",
      "2  /home/lucas/Downloads/PKLot/PKLotSegmented/UFP...     Empty\n",
      "3  /home/lucas/Downloads/PKLot/PKLotSegmented/UFP...     Empty\n",
      "4  /home/lucas/Downloads/PKLot/PKLotSegmented/UFP...     Empty\n",
      "\n",
      "\n",
      "DataFrame do local UFPR05 salvo como: Datasets_csv/df_UFPR05.csv\n",
      "DataFrame do local UFPR05:\n",
      "                                      caminho_imagem    classe\n",
      "0  /home/lucas/Downloads/PKLot/PKLotSegmented/UFP...  Occupied\n",
      "1  /home/lucas/Downloads/PKLot/PKLotSegmented/UFP...  Occupied\n",
      "2  /home/lucas/Downloads/PKLot/PKLotSegmented/UFP...  Occupied\n",
      "3  /home/lucas/Downloads/PKLot/PKLotSegmented/UFP...  Occupied\n",
      "4  /home/lucas/Downloads/PKLot/PKLotSegmented/UFP...  Occupied\n",
      "\n",
      "\n"
     ]
    },
    {
     "data": {
      "text/plain": [
       "(                                         caminho_imagem    classe\n",
       " 0     /home/lucas/Downloads/PKLot/PKLotSegmented/PUC...  Occupied\n",
       " 1     /home/lucas/Downloads/PKLot/PKLotSegmented/PUC...     Empty\n",
       " 2     /home/lucas/Downloads/PKLot/PKLotSegmented/PUC...     Empty\n",
       " 3     /home/lucas/Downloads/PKLot/PKLotSegmented/PUC...  Occupied\n",
       " 4     /home/lucas/Downloads/PKLot/PKLotSegmented/PUC...  Occupied\n",
       " ...                                                 ...       ...\n",
       " 9995  /home/lucas/Downloads/PKLot/PKLotSegmented/PUC...  Occupied\n",
       " 9996  /home/lucas/Downloads/PKLot/PKLotSegmented/PUC...  Occupied\n",
       " 9997  /home/lucas/Downloads/PKLot/PKLotSegmented/PUC...     Empty\n",
       " 9998  /home/lucas/Downloads/PKLot/PKLotSegmented/PUC...  Occupied\n",
       " 9999  /home/lucas/Downloads/PKLot/PKLotSegmented/PUC...     Empty\n",
       " \n",
       " [10000 rows x 2 columns],\n",
       "                                          caminho_imagem    classe\n",
       " 0     /home/lucas/Downloads/PKLot/PKLotSegmented/UFP...     Empty\n",
       " 1     /home/lucas/Downloads/PKLot/PKLotSegmented/UFP...  Occupied\n",
       " 2     /home/lucas/Downloads/PKLot/PKLotSegmented/UFP...     Empty\n",
       " 3     /home/lucas/Downloads/PKLot/PKLotSegmented/UFP...     Empty\n",
       " 4     /home/lucas/Downloads/PKLot/PKLotSegmented/UFP...     Empty\n",
       " ...                                                 ...       ...\n",
       " 9995  /home/lucas/Downloads/PKLot/PKLotSegmented/UFP...  Occupied\n",
       " 9996  /home/lucas/Downloads/PKLot/PKLotSegmented/UFP...     Empty\n",
       " 9997  /home/lucas/Downloads/PKLot/PKLotSegmented/UFP...  Occupied\n",
       " 9998  /home/lucas/Downloads/PKLot/PKLotSegmented/UFP...  Occupied\n",
       " 9999  /home/lucas/Downloads/PKLot/PKLotSegmented/UFP...  Occupied\n",
       " \n",
       " [10000 rows x 2 columns],\n",
       "                                          caminho_imagem    classe\n",
       " 0     /home/lucas/Downloads/PKLot/PKLotSegmented/UFP...  Occupied\n",
       " 1     /home/lucas/Downloads/PKLot/PKLotSegmented/UFP...  Occupied\n",
       " 2     /home/lucas/Downloads/PKLot/PKLotSegmented/UFP...  Occupied\n",
       " 3     /home/lucas/Downloads/PKLot/PKLotSegmented/UFP...  Occupied\n",
       " 4     /home/lucas/Downloads/PKLot/PKLotSegmented/UFP...  Occupied\n",
       " ...                                                 ...       ...\n",
       " 9995  /home/lucas/Downloads/PKLot/PKLotSegmented/UFP...  Occupied\n",
       " 9996  /home/lucas/Downloads/PKLot/PKLotSegmented/UFP...  Occupied\n",
       " 9997  /home/lucas/Downloads/PKLot/PKLotSegmented/UFP...     Empty\n",
       " 9998  /home/lucas/Downloads/PKLot/PKLotSegmented/UFP...  Occupied\n",
       " 9999  /home/lucas/Downloads/PKLot/PKLotSegmented/UFP...  Occupied\n",
       " \n",
       " [10000 rows x 2 columns])"
      ]
     },
     "execution_count": 8,
     "metadata": {},
     "output_type": "execute_result"
    }
   ],
   "source": [
    "segmentando_datasets(10000,10000,10000)"
   ]
  },
  {
   "cell_type": "markdown",
   "metadata": {},
   "source": [
    "Gero meus classificadores a partir dos Encoders"
   ]
  },
  {
   "cell_type": "code",
   "execution_count": 9,
   "metadata": {},
   "outputs": [
    {
     "data": {
      "text/plain": [
       "'classificadorPUC = GeradorClassificador(PUC.encoder, PUC.getPesos(), nomeModelo=\\'PUC\\')\\ntreinoPUC, validacaoPUC, testePUC, treino_dfPUC, validacao_dfPUC, teste_dfPUC = preprocessamento(input_shape = (64,64), caminho=\"Datasets_csv/df_PUC.csv\", autoencoder=False)\\nclassificadorPUC.Dataset(treinoPUC, validacaoPUC, testePUC)\\nclassificadorPUC.treinamento(salvar=True)\\nclassificadorPUC.predicao(teste_dfPUC)'"
      ]
     },
     "execution_count": 9,
     "metadata": {},
     "output_type": "execute_result"
    }
   ],
   "source": [
    "\"\"\"classificadorPUC = GeradorClassificador(PUC.encoder, PUC.getPesos(), nomeModelo='PUC')\n",
    "treinoPUC, validacaoPUC, testePUC, treino_dfPUC, validacao_dfPUC, teste_dfPUC = preprocessamento(input_shape = (64,64), caminho=\"Datasets_csv/df_PUC.csv\", autoencoder=False)\n",
    "classificadorPUC.Dataset(treinoPUC, validacaoPUC, testePUC)\n",
    "classificadorPUC.treinamento(salvar=True)\n",
    "classificadorPUC.predicao(teste_dfPUC)\"\"\""
   ]
  },
  {
   "cell_type": "code",
   "execution_count": 10,
   "metadata": {},
   "outputs": [
    {
     "data": {
      "text/plain": [
       "'classificadorUFPR04 = GeradorClassificador(UFPR04.encoder, UFPR04.getPesos(), \\'UFPR04\\')\\ntreinoUFPR04, validacaoUFPR04, testeUFPR04, treino_dfUFPR04, validacao_dfUFPR04, teste_dfUFPR04 = preprocessamento(input_shape = (64,64), caminho=\"Datasets_csv/df_UFPR04.csv\", autoencoder=False)\\nclassificadorUFPR04.Dataset(treinoUFPR04, validacaoUFPR04, testeUFPR04)\\nclassificadorUFPR04.treinamento(salvar=True)\\nclassificadorUFPR04.predicao(teste_dfUFPR04)'"
      ]
     },
     "execution_count": 10,
     "metadata": {},
     "output_type": "execute_result"
    }
   ],
   "source": [
    "\"\"\"classificadorUFPR04 = GeradorClassificador(UFPR04.encoder, UFPR04.getPesos(), 'UFPR04')\n",
    "treinoUFPR04, validacaoUFPR04, testeUFPR04, treino_dfUFPR04, validacao_dfUFPR04, teste_dfUFPR04 = preprocessamento(input_shape = (64,64), caminho=\"Datasets_csv/df_UFPR04.csv\", autoencoder=False)\n",
    "classificadorUFPR04.Dataset(treinoUFPR04, validacaoUFPR04, testeUFPR04)\n",
    "classificadorUFPR04.treinamento(salvar=True)\n",
    "classificadorUFPR04.predicao(teste_dfUFPR04)\"\"\""
   ]
  },
  {
   "cell_type": "code",
   "execution_count": 11,
   "metadata": {},
   "outputs": [
    {
     "data": {
      "text/plain": [
       "'classificadorUFPR05 = GeradorClassificador(UFPR05.encoder, UFPR05.getPesos(), \\'UFPR05\\')\\ntreinoUFPR05, validacaoUFPR05, testeUFPR05, treino_dfUFPR05, validacao_dfUFPR05, teste_dfUFPR05 = preprocessamento(input_shape = (64,64), caminho=\"Datasets_csv/df_UFPR05.csv\", autoencoder=False)\\nclassificadorUFPR05.Dataset(treinoUFPR05, validacaoUFPR05, testeUFPR05)\\nclassificadorUFPR05.treinamento(salvar=True)\\nclassificadorUFPR05.predicao(teste_dfUFPR05)'"
      ]
     },
     "execution_count": 11,
     "metadata": {},
     "output_type": "execute_result"
    }
   ],
   "source": [
    "\"\"\"classificadorUFPR05 = GeradorClassificador(UFPR05.encoder, UFPR05.getPesos(), 'UFPR05')\n",
    "treinoUFPR05, validacaoUFPR05, testeUFPR05, treino_dfUFPR05, validacao_dfUFPR05, teste_dfUFPR05 = preprocessamento(input_shape = (64,64), caminho=\"Datasets_csv/df_UFPR05.csv\", autoencoder=False)\n",
    "classificadorUFPR05.Dataset(treinoUFPR05, validacaoUFPR05, testeUFPR05)\n",
    "classificadorUFPR05.treinamento(salvar=True)\n",
    "classificadorUFPR05.predicao(teste_dfUFPR05)\"\"\""
   ]
  },
  {
   "cell_type": "markdown",
   "metadata": {},
   "source": [
    "Como carregar os classificadores existentes"
   ]
  },
  {
   "cell_type": "code",
   "execution_count": 12,
   "metadata": {},
   "outputs": [
    {
     "name": "stdout",
     "output_type": "stream",
     "text": [
      "Pesos carregados com sucesso\n",
      "Found 6000 validated image filenames belonging to 2 classes.\n",
      "Found 2000 validated image filenames belonging to 2 classes.\n"
     ]
    },
    {
     "name": "stderr",
     "output_type": "stream",
     "text": [
      "/home/lucas/PIBIC (copy)/.venv/lib/python3.11/site-packages/keras/src/saving/saving_lib.py:713: UserWarning: Skipping variable loading for optimizer 'adam', because it has 2 variables whereas the saved optimizer has 42 variables. \n",
      "  saveable.load_own_variables(weights_store.get(inner_path))\n",
      "/home/lucas/PIBIC (copy)/.venv/lib/python3.11/site-packages/keras/src/saving/saving_lib.py:591: UserWarning: A total of 2 objects could not be loaded. Example error message for object <Dense name=dense, built=True>:\n",
      "\n",
      "Layer 'dense' expected 2 variables, but received 0 variables during loading. Expected: ['kernel', 'bias']\n",
      "\n",
      "List of objects that could not be loaded:\n",
      "[<Dense name=dense, built=True>, <Dense name=dense_1, built=True>]\n",
      "  warnings.warn(msg)\n"
     ]
    },
    {
     "name": "stdout",
     "output_type": "stream",
     "text": [
      "Found 2000 validated image filenames belonging to 2 classes.\n"
     ]
    },
    {
     "name": "stderr",
     "output_type": "stream",
     "text": [
      "/home/lucas/PIBIC (copy)/.venv/lib/python3.11/site-packages/keras/src/trainers/data_adapters/py_dataset_adapter.py:122: UserWarning: Your `PyDataset` class should call `super().__init__(**kwargs)` in its constructor. `**kwargs` can include `workers`, `use_multiprocessing`, `max_queue_size`. Do not pass these arguments to `fit()`, as they will be ignored.\n",
      "  self._warn_if_super_not_called()\n",
      "WARNING: All log messages before absl::InitializeLog() is called are written to STDERR\n",
      "I0000 00:00:1728415298.467012   35328 service.cc:146] XLA service 0x752c84004560 initialized for platform CUDA (this does not guarantee that XLA will be used). Devices:\n",
      "I0000 00:00:1728415298.467031   35328 service.cc:154]   StreamExecutor device (0): NVIDIA GeForce GTX 1660, Compute Capability 7.5\n",
      "2024-10-08 16:21:38.473551: I tensorflow/compiler/mlir/tensorflow/utils/dump_mlir_util.cc:268] disabling MLIR crash reproducer, set env var `MLIR_CRASH_REPRODUCER_DIRECTORY` to enable.\n",
      "2024-10-08 16:21:38.511365: I external/local_xla/xla/stream_executor/cuda/cuda_dnn.cc:531] Loaded cuDNN version 8907\n"
     ]
    },
    {
     "name": "stdout",
     "output_type": "stream",
     "text": [
      "\u001b[1m 5/63\u001b[0m \u001b[32m━\u001b[0m\u001b[37m━━━━━━━━━━━━━━━━━━━\u001b[0m \u001b[1m2s\u001b[0m 41ms/step"
     ]
    },
    {
     "name": "stderr",
     "output_type": "stream",
     "text": [
      "I0000 00:00:1728415299.593276   35328 device_compiler.h:188] Compiled cluster using XLA!  This line is logged at most once for the lifetime of the process.\n"
     ]
    },
    {
     "name": "stdout",
     "output_type": "stream",
     "text": [
      "\u001b[1m63/63\u001b[0m \u001b[32m━━━━━━━━━━━━━━━━━━━━\u001b[0m\u001b[37m\u001b[0m \u001b[1m8s\u001b[0m 104ms/step\n"
     ]
    },
    {
     "data": {
      "image/png": "[encoded data removed]",
      "text/plain": [
       "<Figure size 1000x700 with 2 Axes>"
      ]
     },
     "metadata": {},
     "output_type": "display_data"
    },
    {
     "data": {
      "text/plain": [
       "array([0, 1, 0, ..., 0, 1, 0])"
      ]
     },
     "execution_count": 12,
     "metadata": {},
     "output_type": "execute_result"
    }
   ],
   "source": [
    "classificadorPUC = GeradorClassificador(PUC.encoder, PUC.getPesos(), 'PUC')\n",
    "treinoPUC, validacaoPUC, testePUC, treino_dfPUC, validacao_dfPUC, teste_dfPUC = preprocessamento(input_shape = (64,64), caminho=\"Datasets_csv/df_PUC.csv\", autoencoder=False)\n",
    "classificadorPUC.carrega_modelo(\"Modelos_keras/Classificador_Gerados/Classificador-PUC.keras\", \"weights_finais/Classificador_Gerados/Classificador-PUC.weights.h5\")\n",
    "classificadorPUC.Dataset(treinoPUC, validacaoPUC, testePUC)\n",
    "classificadorPUC.predicao(teste_dfPUC)"
   ]
  },
  {
   "cell_type": "code",
   "execution_count": 13,
   "metadata": {},
   "outputs": [
    {
     "name": "stdout",
     "output_type": "stream",
     "text": [
      "Pesos carregados com sucesso\n",
      "Found 6000 validated image filenames belonging to 2 classes.\n",
      "Found 2000 validated image filenames belonging to 2 classes.\n",
      "Found 2000 validated image filenames belonging to 2 classes.\n"
     ]
    },
    {
     "name": "stderr",
     "output_type": "stream",
     "text": [
      "/home/lucas/PIBIC (copy)/.venv/lib/python3.11/site-packages/keras/src/saving/saving_lib.py:713: UserWarning: Skipping variable loading for optimizer 'adam', because it has 2 variables whereas the saved optimizer has 42 variables. \n",
      "  saveable.load_own_variables(weights_store.get(inner_path))\n",
      "/home/lucas/PIBIC (copy)/.venv/lib/python3.11/site-packages/keras/src/saving/saving_lib.py:591: UserWarning: A total of 2 objects could not be loaded. Example error message for object <Dense name=dense_2, built=True>:\n",
      "\n",
      "Layer 'dense_2' expected 2 variables, but received 0 variables during loading. Expected: ['kernel', 'bias']\n",
      "\n",
      "List of objects that could not be loaded:\n",
      "[<Dense name=dense_2, built=True>, <Dense name=dense_3, built=True>]\n",
      "  warnings.warn(msg)\n",
      "/home/lucas/PIBIC (copy)/.venv/lib/python3.11/site-packages/keras/src/trainers/data_adapters/py_dataset_adapter.py:122: UserWarning: Your `PyDataset` class should call `super().__init__(**kwargs)` in its constructor. `**kwargs` can include `workers`, `use_multiprocessing`, `max_queue_size`. Do not pass these arguments to `fit()`, as they will be ignored.\n",
      "  self._warn_if_super_not_called()\n"
     ]
    },
    {
     "name": "stdout",
     "output_type": "stream",
     "text": [
      "\u001b[1m63/63\u001b[0m \u001b[32m━━━━━━━━━━━━━━━━━━━━\u001b[0m\u001b[37m\u001b[0m \u001b[1m7s\u001b[0m 98ms/step\n"
     ]
    },
    {
     "data": {
      "image/png": "[encoded data removed]",
      "text/plain": [
       "<Figure size 1000x700 with 2 Axes>"
      ]
     },
     "metadata": {},
     "output_type": "display_data"
    },
    {
     "data": {
      "text/plain": [
       "array([1, 0, 1, ..., 1, 1, 1])"
      ]
     },
     "execution_count": 13,
     "metadata": {},
     "output_type": "execute_result"
    }
   ],
   "source": [
    "classificadorUFPR04 = GeradorClassificador(UFPR04.encoder, UFPR04.getPesos(), 'UFPR04')\n",
    "treinoUFPR04, validacaoUFPR04, testeUFPR04, treino_dfUFPR04, validacao_dfUFPR04, teste_dfUFPR04 = preprocessamento(input_shape = (64,64), caminho=\"Datasets_csv/df_UFPR04.csv\", autoencoder=False)\n",
    "classificadorUFPR04.carrega_modelo(\"Modelos_keras/Classificador_Gerados/Classificador-UFPR04.keras\", \"weights_finais/Classificador_Gerados/Classificador-UFPR04.weights.h5\")\n",
    "classificadorUFPR04.Dataset(treinoUFPR04, validacaoUFPR04, testeUFPR04)\n",
    "classificadorUFPR04.predicao(teste_dfUFPR04)"
   ]
  },
  {
   "cell_type": "code",
   "execution_count": 14,
   "metadata": {},
   "outputs": [
    {
     "name": "stdout",
     "output_type": "stream",
     "text": [
      "Pesos carregados com sucesso\n",
      "Found 6000 validated image filenames belonging to 2 classes.\n",
      "Found 2000 validated image filenames belonging to 2 classes.\n",
      "Found 2000 validated image filenames belonging to 2 classes.\n"
     ]
    },
    {
     "name": "stderr",
     "output_type": "stream",
     "text": [
      "/home/lucas/PIBIC (copy)/.venv/lib/python3.11/site-packages/keras/src/saving/saving_lib.py:713: UserWarning: Skipping variable loading for optimizer 'adam', because it has 2 variables whereas the saved optimizer has 42 variables. \n",
      "  saveable.load_own_variables(weights_store.get(inner_path))\n",
      "/home/lucas/PIBIC (copy)/.venv/lib/python3.11/site-packages/keras/src/saving/saving_lib.py:591: UserWarning: A total of 2 objects could not be loaded. Example error message for object <Dense name=dense_4, built=True>:\n",
      "\n",
      "Layer 'dense_4' expected 2 variables, but received 0 variables during loading. Expected: ['kernel', 'bias']\n",
      "\n",
      "List of objects that could not be loaded:\n",
      "[<Dense name=dense_4, built=True>, <Dense name=dense_5, built=True>]\n",
      "  warnings.warn(msg)\n",
      "/home/lucas/PIBIC (copy)/.venv/lib/python3.11/site-packages/keras/src/trainers/data_adapters/py_dataset_adapter.py:122: UserWarning: Your `PyDataset` class should call `super().__init__(**kwargs)` in its constructor. `**kwargs` can include `workers`, `use_multiprocessing`, `max_queue_size`. Do not pass these arguments to `fit()`, as they will be ignored.\n",
      "  self._warn_if_super_not_called()\n"
     ]
    },
    {
     "name": "stdout",
     "output_type": "stream",
     "text": [
      "\u001b[1m63/63\u001b[0m \u001b[32m━━━━━━━━━━━━━━━━━━━━\u001b[0m\u001b[37m\u001b[0m \u001b[1m7s\u001b[0m 98ms/step\n"
     ]
    },
    {
     "data": {
      "image/png": "[encoded data removed]",
      "text/plain": [
       "<Figure size 1000x700 with 2 Axes>"
      ]
     },
     "metadata": {},
     "output_type": "display_data"
    },
    {
     "data": {
      "text/plain": [
       "array([1, 0, 1, ..., 0, 1, 0])"
      ]
     },
     "execution_count": 14,
     "metadata": {},
     "output_type": "execute_result"
    }
   ],
   "source": [
    "classificadorUFPR05 = GeradorClassificador(UFPR05.encoder, UFPR05.getPesos(), 'UFPR05')\n",
    "treinoUFPR05, validacaoUFPR05, testeUFPR05, treino_dfUFPR05, validacao_dfUFPR05, teste_dfUFPR05 = preprocessamento(input_shape = (64,64), caminho=\"Datasets_csv/df_UFPR05.csv\", autoencoder=False)\n",
    "classificadorUFPR05.carrega_modelo(\"Modelos_keras/Classificador_Gerados/Classificador-UFPR05.keras\", \"weights_finais/Classificador_Gerados/Classificador-UFPR05.weights.h5\")\n",
    "classificadorUFPR05.Dataset(treinoUFPR05, validacaoUFPR05, testeUFPR05)\n",
    "classificadorUFPR05.predicao(teste_dfUFPR05)"
   ]
  },
  {
   "cell_type": "markdown",
   "metadata": {},
   "source": [
    "Ensemble Bagging "
   ]
  },
  {
   "cell_type": "code",
   "execution_count": null,
   "metadata": {},
   "outputs": [],
   "source": []
  },
  {
   "cell_type": "markdown",
   "metadata": {},
   "source": [
    "Ensemble Voting"
   ]
  },
  {
   "cell_type": "code",
   "execution_count": 15,
   "metadata": {},
   "outputs": [],
   "source": [
    "from scikeras.wrappers import KerasClassifier\n",
    "from sklearn.ensemble import VotingClassifier\n",
    "from tensorflow.keras.models import Sequential\n",
    "\n",
    "classificador_PUC = KerasClassifier(build_fn=classificadorPUC.model)\n",
    "classificador_UFPR04 = KerasClassifier(build_fn=classificadorUFPR04.model)\n",
    "classificador_UFPR05 = KerasClassifier(build_fn=classificadorUFPR05.model)\n",
    "\n",
    "classificadores = [(\"PUC\", classificador_PUC ), (\"UFPR04\",classificador_UFPR04 ), (\"UFPR05\", classificador_UFPR05)]\n",
    "\n",
    "vc = VotingClassifier(estimators=classificadores, voting='hard')"
   ]
  },
  {
   "cell_type": "code",
   "execution_count": 16,
   "metadata": {},
   "outputs": [],
   "source": [
    "import pandas as pd \n",
    "import numpy as np\n",
    "from PIL import Image\n",
    "\n",
    "df = pd.read_csv(\"Datasets_csv/df_PUC.csv\")\n",
    "\n",
    "img_paths = df['caminho_imagem'].values\n",
    "classes = df['classe'].values\n",
    "\n",
    "# Função para carregar imagens\n",
    "def load_images(img_paths):\n",
    "    images = []\n",
    "    for path in img_paths:\n",
    "        img = Image.open(path)  # Carregar imagem\n",
    "        img = img.resize((64, 64))  # Redimensionar (se necessário)\n",
    "        img = np.array(img)  # Converter para array NumPy\n",
    "        images.append(img)\n",
    "    return np.array(images)\n",
    "\n",
    "# Carregar as imagens (x) e as classes (y)\n",
    "x = load_images(img_paths)\n",
    "y = classes"
   ]
  },
  {
   "cell_type": "code",
   "execution_count": 17,
   "metadata": {},
   "outputs": [
    {
     "name": "stderr",
     "output_type": "stream",
     "text": [
      "/home/lucas/PIBIC (copy)/.venv/lib/python3.11/site-packages/scikeras/wrappers.py:925: UserWarning: ``build_fn`` will be renamed to ``model`` in a future release, at which point use of ``build_fn`` will raise an Error instead.\n",
      "  X, y = self._initialize(X, y)\n"
     ]
    },
    {
     "name": "stdout",
     "output_type": "stream",
     "text": [
      "\u001b[1m188/188\u001b[0m \u001b[32m━━━━━━━━━━━━━━━━━━━━\u001b[0m\u001b[37m\u001b[0m \u001b[1m4s\u001b[0m 10ms/step - accuracy: 0.9972 - loss: 0.0164\n"
     ]
    },
    {
     "name": "stderr",
     "output_type": "stream",
     "text": [
      "/home/lucas/PIBIC (copy)/.venv/lib/python3.11/site-packages/scikeras/wrappers.py:925: UserWarning: ``build_fn`` will be renamed to ``model`` in a future release, at which point use of ``build_fn`` will raise an Error instead.\n",
      "  X, y = self._initialize(X, y)\n"
     ]
    },
    {
     "name": "stdout",
     "output_type": "stream",
     "text": [
      "\u001b[1m188/188\u001b[0m \u001b[32m━━━━━━━━━━━━━━━━━━━━\u001b[0m\u001b[37m\u001b[0m \u001b[1m3s\u001b[0m 7ms/step - accuracy: 0.9866 - loss: 0.0456\n"
     ]
    },
    {
     "name": "stderr",
     "output_type": "stream",
     "text": [
      "/home/lucas/PIBIC (copy)/.venv/lib/python3.11/site-packages/scikeras/wrappers.py:925: UserWarning: ``build_fn`` will be renamed to ``model`` in a future release, at which point use of ``build_fn`` will raise an Error instead.\n",
      "  X, y = self._initialize(X, y)\n"
     ]
    },
    {
     "name": "stdout",
     "output_type": "stream",
     "text": [
      "\u001b[1m188/188\u001b[0m \u001b[32m━━━━━━━━━━━━━━━━━━━━\u001b[0m\u001b[37m\u001b[0m \u001b[1m3s\u001b[0m 6ms/step - accuracy: 0.9743 - loss: 0.0930\n"
     ]
    },
    {
     "data": {
      "text/html": [
       "<style>#sk-container-id-1 {\n",
       "  /* Definition of color scheme common for light and dark mode */\n",
       "  --sklearn-color-text: black;\n",
       "  --sklearn-color-line: gray;\n",
       "  /* Definition of color scheme for unfitted estimators */\n",
       "  --sklearn-color-unfitted-level-0: #fff5e6;\n",
       "  --sklearn-color-unfitted-level-1: #f6e4d2;\n",
       "  --sklearn-color-unfitted-level-2: #ffe0b3;\n",
       "  --sklearn-color-unfitted-level-3: chocolate;\n",
       "  /* Definition of color scheme for fitted estimators */\n",
       "  --sklearn-color-fitted-level-0: #f0f8ff;\n",
       "  --sklearn-color-fitted-level-1: #d4ebff;\n",
       "  --sklearn-color-fitted-level-2: #b3dbfd;\n",
       "  --sklearn-color-fitted-level-3: cornflowerblue;\n",
       "\n",
       "  /* Specific color for light theme */\n",
       "  --sklearn-color-text-on-default-background: var(--sg-text-color, var(--theme-code-foreground, var(--jp-content-font-color1, black)));\n",
       "  --sklearn-color-background: var(--sg-background-color, var(--theme-background, var(--jp-layout-color0, white)));\n",
       "  --sklearn-color-border-box: var(--sg-text-color, var(--theme-code-foreground, var(--jp-content-font-color1, black)));\n",
       "  --sklearn-color-icon: #696969;\n",
       "\n",
       "  @media (prefers-color-scheme: dark) {\n",
       "    /* Redefinition of color scheme for dark theme */\n",
       "    --sklearn-color-text-on-default-background: var(--sg-text-color, var(--theme-code-foreground, var(--jp-content-font-color1, white)));\n",
       "    --sklearn-color-background: var(--sg-background-color, var(--theme-background, var(--jp-layout-color0, #111)));\n",
       "    --sklearn-color-border-box: var(--sg-text-color, var(--theme-code-foreground, var(--jp-content-font-color1, white)));\n",
       "    --sklearn-color-icon: #878787;\n",
       "  }\n",
       "}\n",
       "\n",
       "#sk-container-id-1 {\n",
       "  color: var(--sklearn-color-text);\n",
       "}\n",
       "\n",
       "#sk-container-id-1 pre {\n",
       "  padding: 0;\n",
       "}\n",
       "\n",
       "#sk-container-id-1 input.sk-hidden--visually {\n",
       "  border: 0;\n",
       "  clip: rect(1px 1px 1px 1px);\n",
       "  clip: rect(1px, 1px, 1px, 1px);\n",
       "  height: 1px;\n",
       "  margin: -1px;\n",
       "  overflow: hidden;\n",
       "  padding: 0;\n",
       "  position: absolute;\n",
       "  width: 1px;\n",
       "}\n",
       "\n",
       "#sk-container-id-1 div.sk-dashed-wrapped {\n",
       "  border: 1px dashed var(--sklearn-color-line);\n",
       "  margin: 0 0.4em 0.5em 0.4em;\n",
       "  box-sizing: border-box;\n",
       "  padding-bottom: 0.4em;\n",
       "  background-color: var(--sklearn-color-background);\n",
       "}\n",
       "\n",
       "#sk-container-id-1 div.sk-container {\n",
       "  /* jupyter's `normalize.less` sets `[hidden] { display: none; }`\n",
       "     but bootstrap.min.css set `[hidden] { display: none !important; }`\n",
       "     so we also need the `!important` here to be able to override the\n",
       "     default hidden behavior on the sphinx rendered scikit-learn.org.\n",
       "     See: https://github.com/scikit-learn/scikit-learn/issues/21755 */\n",
       "  display: inline-block !important;\n",
       "  position: relative;\n",
       "}\n",
       "\n",
       "#sk-container-id-1 div.sk-text-repr-fallback {\n",
       "  display: none;\n",
       "}\n",
       "\n",
       "div.sk-parallel-item,\n",
       "div.sk-serial,\n",
       "div.sk-item {\n",
       "  /* draw centered vertical line to link estimators */\n",
       "  background-image: linear-gradient(var(--sklearn-color-text-on-default-background), var(--sklearn-color-text-on-default-background));\n",
       "  background-size: 2px 100%;\n",
       "  background-repeat: no-repeat;\n",
       "  background-position: center center;\n",
       "}\n",
       "\n",
       "/* Parallel-specific style estimator block */\n",
       "\n",
       "#sk-container-id-1 div.sk-parallel-item::after {\n",
       "  content: \"\";\n",
       "  width: 100%;\n",
       "  border-bottom: 2px solid var(--sklearn-color-text-on-default-background);\n",
       "  flex-grow: 1;\n",
       "}\n",
       "\n",
       "#sk-container-id-1 div.sk-parallel {\n",
       "  display: flex;\n",
       "  align-items: stretch;\n",
       "  justify-content: center;\n",
       "  background-color: var(--sklearn-color-background);\n",
       "  position: relative;\n",
       "}\n",
       "\n",
       "#sk-container-id-1 div.sk-parallel-item {\n",
       "  display: flex;\n",
       "  flex-direction: column;\n",
       "}\n",
       "\n",
       "#sk-container-id-1 div.sk-parallel-item:first-child::after {\n",
       "  align-self: flex-end;\n",
       "  width: 50%;\n",
       "}\n",
       "\n",
       "#sk-container-id-1 div.sk-parallel-item:last-child::after {\n",
       "  align-self: flex-start;\n",
       "  width: 50%;\n",
       "}\n",
       "\n",
       "#sk-container-id-1 div.sk-parallel-item:only-child::after {\n",
       "  width: 0;\n",
       "}\n",
       "\n",
       "/* Serial-specific style estimator block */\n",
       "\n",
       "#sk-container-id-1 div.sk-serial {\n",
       "  display: flex;\n",
       "  flex-direction: column;\n",
       "  align-items: center;\n",
       "  background-color: var(--sklearn-color-background);\n",
       "  padding-right: 1em;\n",
       "  padding-left: 1em;\n",
       "}\n",
       "\n",
       "\n",
       "/* Toggleable style: style used for estimator/Pipeline/ColumnTransformer box that is\n",
       "clickable and can be expanded/collapsed.\n",
       "- Pipeline and ColumnTransformer use this feature and define the default style\n",
       "- Estimators will overwrite some part of the style using the `sk-estimator` class\n",
       "*/\n",
       "\n",
       "/* Pipeline and ColumnTransformer style (default) */\n",
       "\n",
       "#sk-container-id-1 div.sk-toggleable {\n",
       "  /* Default theme specific background. It is overwritten whether we have a\n",
       "  specific estimator or a Pipeline/ColumnTransformer */\n",
       "  background-color: var(--sklearn-color-background);\n",
       "}\n",
       "\n",
       "/* Toggleable label */\n",
       "#sk-container-id-1 label.sk-toggleable__label {\n",
       "  cursor: pointer;\n",
       "  display: block;\n",
       "  width: 100%;\n",
       "  margin-bottom: 0;\n",
       "  padding: 0.5em;\n",
       "  box-sizing: border-box;\n",
       "  text-align: center;\n",
       "}\n",
       "\n",
       "#sk-container-id-1 label.sk-toggleable__label-arrow:before {\n",
       "  /* Arrow on the left of the label */\n",
       "  content: \"▸\";\n",
       "  float: left;\n",
       "  margin-right: 0.25em;\n",
       "  color: var(--sklearn-color-icon);\n",
       "}\n",
       "\n",
       "#sk-container-id-1 label.sk-toggleable__label-arrow:hover:before {\n",
       "  color: var(--sklearn-color-text);\n",
       "}\n",
       "\n",
       "/* Toggleable content - dropdown */\n",
       "\n",
       "#sk-container-id-1 div.sk-toggleable__content {\n",
       "  max-height: 0;\n",
       "  max-width: 0;\n",
       "  overflow: hidden;\n",
       "  text-align: left;\n",
       "  /* unfitted */\n",
       "  background-color: var(--sklearn-color-unfitted-level-0);\n",
       "}\n",
       "\n",
       "#sk-container-id-1 div.sk-toggleable__content.fitted {\n",
       "  /* fitted */\n",
       "  background-color: var(--sklearn-color-fitted-level-0);\n",
       "}\n",
       "\n",
       "#sk-container-id-1 div.sk-toggleable__content pre {\n",
       "  margin: 0.2em;\n",
       "  border-radius: 0.25em;\n",
       "  color: var(--sklearn-color-text);\n",
       "  /* unfitted */\n",
       "  background-color: var(--sklearn-color-unfitted-level-0);\n",
       "}\n",
       "\n",
       "#sk-container-id-1 div.sk-toggleable__content.fitted pre {\n",
       "  /* unfitted */\n",
       "  background-color: var(--sklearn-color-fitted-level-0);\n",
       "}\n",
       "\n",
       "#sk-container-id-1 input.sk-toggleable__control:checked~div.sk-toggleable__content {\n",
       "  /* Expand drop-down */\n",
       "  max-height: 200px;\n",
       "  max-width: 100%;\n",
       "  overflow: auto;\n",
       "}\n",
       "\n",
       "#sk-container-id-1 input.sk-toggleable__control:checked~label.sk-toggleable__label-arrow:before {\n",
       "  content: \"▾\";\n",
       "}\n",
       "\n",
       "/* Pipeline/ColumnTransformer-specific style */\n",
       "\n",
       "#sk-container-id-1 div.sk-label input.sk-toggleable__control:checked~label.sk-toggleable__label {\n",
       "  color: var(--sklearn-color-text);\n",
       "  background-color: var(--sklearn-color-unfitted-level-2);\n",
       "}\n",
       "\n",
       "#sk-container-id-1 div.sk-label.fitted input.sk-toggleable__control:checked~label.sk-toggleable__label {\n",
       "  background-color: var(--sklearn-color-fitted-level-2);\n",
       "}\n",
       "\n",
       "/* Estimator-specific style */\n",
       "\n",
       "/* Colorize estimator box */\n",
       "#sk-container-id-1 div.sk-estimator input.sk-toggleable__control:checked~label.sk-toggleable__label {\n",
       "  /* unfitted */\n",
       "  background-color: var(--sklearn-color-unfitted-level-2);\n",
       "}\n",
       "\n",
       "#sk-container-id-1 div.sk-estimator.fitted input.sk-toggleable__control:checked~label.sk-toggleable__label {\n",
       "  /* fitted */\n",
       "  background-color: var(--sklearn-color-fitted-level-2);\n",
       "}\n",
       "\n",
       "#sk-container-id-1 div.sk-label label.sk-toggleable__label,\n",
       "#sk-container-id-1 div.sk-label label {\n",
       "  /* The background is the default theme color */\n",
       "  color: var(--sklearn-color-text-on-default-background);\n",
       "}\n",
       "\n",
       "/* On hover, darken the color of the background */\n",
       "#sk-container-id-1 div.sk-label:hover label.sk-toggleable__label {\n",
       "  color: var(--sklearn-color-text);\n",
       "  background-color: var(--sklearn-color-unfitted-level-2);\n",
       "}\n",
       "\n",
       "/* Label box, darken color on hover, fitted */\n",
       "#sk-container-id-1 div.sk-label.fitted:hover label.sk-toggleable__label.fitted {\n",
       "  color: var(--sklearn-color-text);\n",
       "  background-color: var(--sklearn-color-fitted-level-2);\n",
       "}\n",
       "\n",
       "/* Estimator label */\n",
       "\n",
       "#sk-container-id-1 div.sk-label label {\n",
       "  font-family: monospace;\n",
       "  font-weight: bold;\n",
       "  display: inline-block;\n",
       "  line-height: 1.2em;\n",
       "}\n",
       "\n",
       "#sk-container-id-1 div.sk-label-container {\n",
       "  text-align: center;\n",
       "}\n",
       "\n",
       "/* Estimator-specific */\n",
       "#sk-container-id-1 div.sk-estimator {\n",
       "  font-family: monospace;\n",
       "  border: 1px dotted var(--sklearn-color-border-box);\n",
       "  border-radius: 0.25em;\n",
       "  box-sizing: border-box;\n",
       "  margin-bottom: 0.5em;\n",
       "  /* unfitted */\n",
       "  background-color: var(--sklearn-color-unfitted-level-0);\n",
       "}\n",
       "\n",
       "#sk-container-id-1 div.sk-estimator.fitted {\n",
       "  /* fitted */\n",
       "  background-color: var(--sklearn-color-fitted-level-0);\n",
       "}\n",
       "\n",
       "/* on hover */\n",
       "#sk-container-id-1 div.sk-estimator:hover {\n",
       "  /* unfitted */\n",
       "  background-color: var(--sklearn-color-unfitted-level-2);\n",
       "}\n",
       "\n",
       "#sk-container-id-1 div.sk-estimator.fitted:hover {\n",
       "  /* fitted */\n",
       "  background-color: var(--sklearn-color-fitted-level-2);\n",
       "}\n",
       "\n",
       "/* Specification for estimator info (e.g. \"i\" and \"?\") */\n",
       "\n",
       "/* Common style for \"i\" and \"?\" */\n",
       "\n",
       ".sk-estimator-doc-link,\n",
       "a:link.sk-estimator-doc-link,\n",
       "a:visited.sk-estimator-doc-link {\n",
       "  float: right;\n",
       "  font-size: smaller;\n",
       "  line-height: 1em;\n",
       "  font-family: monospace;\n",
       "  background-color: var(--sklearn-color-background);\n",
       "  border-radius: 1em;\n",
       "  height: 1em;\n",
       "  width: 1em;\n",
       "  text-decoration: none !important;\n",
       "  margin-left: 1ex;\n",
       "  /* unfitted */\n",
       "  border: var(--sklearn-color-unfitted-level-1) 1pt solid;\n",
       "  color: var(--sklearn-color-unfitted-level-1);\n",
       "}\n",
       "\n",
       ".sk-estimator-doc-link.fitted,\n",
       "a:link.sk-estimator-doc-link.fitted,\n",
       "a:visited.sk-estimator-doc-link.fitted {\n",
       "  /* fitted */\n",
       "  border: var(--sklearn-color-fitted-level-1) 1pt solid;\n",
       "  color: var(--sklearn-color-fitted-level-1);\n",
       "}\n",
       "\n",
       "/* On hover */\n",
       "div.sk-estimator:hover .sk-estimator-doc-link:hover,\n",
       ".sk-estimator-doc-link:hover,\n",
       "div.sk-label-container:hover .sk-estimator-doc-link:hover,\n",
       ".sk-estimator-doc-link:hover {\n",
       "  /* unfitted */\n",
       "  background-color: var(--sklearn-color-unfitted-level-3);\n",
       "  color: var(--sklearn-color-background);\n",
       "  text-decoration: none;\n",
       "}\n",
       "\n",
       "div.sk-estimator.fitted:hover .sk-estimator-doc-link.fitted:hover,\n",
       ".sk-estimator-doc-link.fitted:hover,\n",
       "div.sk-label-container:hover .sk-estimator-doc-link.fitted:hover,\n",
       ".sk-estimator-doc-link.fitted:hover {\n",
       "  /* fitted */\n",
       "  background-color: var(--sklearn-color-fitted-level-3);\n",
       "  color: var(--sklearn-color-background);\n",
       "  text-decoration: none;\n",
       "}\n",
       "\n",
       "/* Span, style for the box shown on hovering the info icon */\n",
       ".sk-estimator-doc-link span {\n",
       "  display: none;\n",
       "  z-index: 9999;\n",
       "  position: relative;\n",
       "  font-weight: normal;\n",
       "  right: .2ex;\n",
       "  padding: .5ex;\n",
       "  margin: .5ex;\n",
       "  width: min-content;\n",
       "  min-width: 20ex;\n",
       "  max-width: 50ex;\n",
       "  color: var(--sklearn-color-text);\n",
       "  box-shadow: 2pt 2pt 4pt #999;\n",
       "  /* unfitted */\n",
       "  background: var(--sklearn-color-unfitted-level-0);\n",
       "  border: .5pt solid var(--sklearn-color-unfitted-level-3);\n",
       "}\n",
       "\n",
       ".sk-estimator-doc-link.fitted span {\n",
       "  /* fitted */\n",
       "  background: var(--sklearn-color-fitted-level-0);\n",
       "  border: var(--sklearn-color-fitted-level-3);\n",
       "}\n",
       "\n",
       ".sk-estimator-doc-link:hover span {\n",
       "  display: block;\n",
       "}\n",
       "\n",
       "/* \"?\"-specific style due to the `<a>` HTML tag */\n",
       "\n",
       "#sk-container-id-1 a.estimator_doc_link {\n",
       "  float: right;\n",
       "  font-size: 1rem;\n",
       "  line-height: 1em;\n",
       "  font-family: monospace;\n",
       "  background-color: var(--sklearn-color-background);\n",
       "  border-radius: 1rem;\n",
       "  height: 1rem;\n",
       "  width: 1rem;\n",
       "  text-decoration: none;\n",
       "  /* unfitted */\n",
       "  color: var(--sklearn-color-unfitted-level-1);\n",
       "  border: var(--sklearn-color-unfitted-level-1) 1pt solid;\n",
       "}\n",
       "\n",
       "#sk-container-id-1 a.estimator_doc_link.fitted {\n",
       "  /* fitted */\n",
       "  border: var(--sklearn-color-fitted-level-1) 1pt solid;\n",
       "  color: var(--sklearn-color-fitted-level-1);\n",
       "}\n",
       "\n",
       "/* On hover */\n",
       "#sk-container-id-1 a.estimator_doc_link:hover {\n",
       "  /* unfitted */\n",
       "  background-color: var(--sklearn-color-unfitted-level-3);\n",
       "  color: var(--sklearn-color-background);\n",
       "  text-decoration: none;\n",
       "}\n",
       "\n",
       "#sk-container-id-1 a.estimator_doc_link.fitted:hover {\n",
       "  /* fitted */\n",
       "  background-color: var(--sklearn-color-fitted-level-3);\n",
       "}\n",
       "</style><div id=\"sk-container-id-1\" class=\"sk-top-container\"><div class=\"sk-text-repr-fallback\"><pre>VotingClassifier(estimators=[(&#x27;PUC&#x27;,\n",
       "                              KerasClassifier(build_fn=&lt;Sequential name=classificadorPUC, built=True&gt;)),\n",
       "                             (&#x27;UFPR04&#x27;,\n",
       "                              KerasClassifier(build_fn=&lt;Sequential name=classificadorUFPR04, built=True&gt;)),\n",
       "                             (&#x27;UFPR05&#x27;,\n",
       "                              KerasClassifier(build_fn=&lt;Sequential name=classificadorUFPR05, built=True&gt;))])</pre><b>In a Jupyter environment, please rerun this cell to show the HTML representation or trust the notebook. <br />On GitHub, the HTML representation is unable to render, please try loading this page with nbviewer.org.</b></div><div class=\"sk-container\" hidden><div class=\"sk-item sk-dashed-wrapped\"><div class=\"sk-label-container\"><div class=\"sk-label fitted sk-toggleable\"><input class=\"sk-toggleable__control sk-hidden--visually\" id=\"sk-estimator-id-1\" type=\"checkbox\" ><label for=\"sk-estimator-id-1\" class=\"sk-toggleable__label fitted sk-toggleable__label-arrow fitted\">&nbsp;&nbsp;VotingClassifier<a class=\"sk-estimator-doc-link fitted\" rel=\"noreferrer\" target=\"_blank\" href=\"https://scikit-learn.org/1.4/modules/generated/sklearn.ensemble.VotingClassifier.html\">?<span>Documentation for VotingClassifier</span></a><span class=\"sk-estimator-doc-link fitted\">i<span>Fitted</span></span></label><div class=\"sk-toggleable__content fitted\"><pre>VotingClassifier(estimators=[(&#x27;PUC&#x27;,\n",
       "                              KerasClassifier(build_fn=&lt;Sequential name=classificadorPUC, built=True&gt;)),\n",
       "                             (&#x27;UFPR04&#x27;,\n",
       "                              KerasClassifier(build_fn=&lt;Sequential name=classificadorUFPR04, built=True&gt;)),\n",
       "                             (&#x27;UFPR05&#x27;,\n",
       "                              KerasClassifier(build_fn=&lt;Sequential name=classificadorUFPR05, built=True&gt;))])</pre></div> </div></div><div class=\"sk-parallel\"><div class=\"sk-parallel-item\"><div class=\"sk-item\"><div class=\"sk-label-container\"><div class=\"sk-label fitted sk-toggleable\"><label>PUC</label></div></div><div class=\"sk-serial\"><div class=\"sk-item\"><div class=\"sk-estimator fitted sk-toggleable\"><input class=\"sk-toggleable__control sk-hidden--visually\" id=\"sk-estimator-id-2\" type=\"checkbox\" ><label for=\"sk-estimator-id-2\" class=\"sk-toggleable__label fitted sk-toggleable__label-arrow fitted\">KerasClassifier</label><div class=\"sk-toggleable__content fitted\"><pre>KerasClassifier(\n",
       "\tmodel=None\n",
       "\tbuild_fn=&lt;Sequential name=classificadorPUC, built=True&gt;\n",
       "\twarm_start=False\n",
       "\trandom_state=None\n",
       "\toptimizer=rmsprop\n",
       "\tloss=None\n",
       "\tmetrics=None\n",
       "\tbatch_size=None\n",
       "\tvalidation_batch_size=None\n",
       "\tverbose=1\n",
       "\tcallbacks=None\n",
       "\tvalidation_split=0.0\n",
       "\tshuffle=True\n",
       "\trun_eagerly=False\n",
       "\tepochs=1\n",
       "\tclass_weight=None\n",
       ")</pre></div> </div></div></div></div></div><div class=\"sk-parallel-item\"><div class=\"sk-item\"><div class=\"sk-label-container\"><div class=\"sk-label fitted sk-toggleable\"><label>UFPR04</label></div></div><div class=\"sk-serial\"><div class=\"sk-item\"><div class=\"sk-estimator fitted sk-toggleable\"><input class=\"sk-toggleable__control sk-hidden--visually\" id=\"sk-estimator-id-3\" type=\"checkbox\" ><label for=\"sk-estimator-id-3\" class=\"sk-toggleable__label fitted sk-toggleable__label-arrow fitted\">KerasClassifier</label><div class=\"sk-toggleable__content fitted\"><pre>KerasClassifier(\n",
       "\tmodel=None\n",
       "\tbuild_fn=&lt;Sequential name=classificadorUFPR04, built=True&gt;\n",
       "\twarm_start=False\n",
       "\trandom_state=None\n",
       "\toptimizer=rmsprop\n",
       "\tloss=None\n",
       "\tmetrics=None\n",
       "\tbatch_size=None\n",
       "\tvalidation_batch_size=None\n",
       "\tverbose=1\n",
       "\tcallbacks=None\n",
       "\tvalidation_split=0.0\n",
       "\tshuffle=True\n",
       "\trun_eagerly=False\n",
       "\tepochs=1\n",
       "\tclass_weight=None\n",
       ")</pre></div> </div></div></div></div></div><div class=\"sk-parallel-item\"><div class=\"sk-item\"><div class=\"sk-label-container\"><div class=\"sk-label fitted sk-toggleable\"><label>UFPR05</label></div></div><div class=\"sk-serial\"><div class=\"sk-item\"><div class=\"sk-estimator fitted sk-toggleable\"><input class=\"sk-toggleable__control sk-hidden--visually\" id=\"sk-estimator-id-4\" type=\"checkbox\" ><label for=\"sk-estimator-id-4\" class=\"sk-toggleable__label fitted sk-toggleable__label-arrow fitted\">KerasClassifier</label><div class=\"sk-toggleable__content fitted\"><pre>KerasClassifier(\n",
       "\tmodel=None\n",
       "\tbuild_fn=&lt;Sequential name=classificadorUFPR05, built=True&gt;\n",
       "\twarm_start=False\n",
       "\trandom_state=None\n",
       "\toptimizer=rmsprop\n",
       "\tloss=None\n",
       "\tmetrics=None\n",
       "\tbatch_size=None\n",
       "\tvalidation_batch_size=None\n",
       "\tverbose=1\n",
       "\tcallbacks=None\n",
       "\tvalidation_split=0.0\n",
       "\tshuffle=True\n",
       "\trun_eagerly=False\n",
       "\tepochs=1\n",
       "\tclass_weight=None\n",
       ")</pre></div> </div></div></div></div></div></div></div></div></div>"
      ],
      "text/plain": [
       "VotingClassifier(estimators=[('PUC',\n",
       "                              KerasClassifier(build_fn=<Sequential name=classificadorPUC, built=True>)),\n",
       "                             ('UFPR04',\n",
       "                              KerasClassifier(build_fn=<Sequential name=classificadorUFPR04, built=True>)),\n",
       "                             ('UFPR05',\n",
       "                              KerasClassifier(build_fn=<Sequential name=classificadorUFPR05, built=True>))])"
      ]
     },
     "execution_count": 17,
     "metadata": {},
     "output_type": "execute_result"
    }
   ],
   "source": [
    "x_data = []\n",
    "y_data = []\n",
    "\n",
    "for _ in range(len(treinoPUC)):\n",
    "    x, y = next(treinoPUC)\n",
    "    x_data.append(x)\n",
    "    y_data.append(y)\n",
    "\n",
    "# Concatene todos os dados em arrays numpy\n",
    "x_data = np.concatenate(x_data, axis=0)\n",
    "y_data = np.concatenate(y_data, axis=0)\n",
    "\n",
    "vc.fit(x_data, y_data)"
   ]
  },
  {
   "cell_type": "code",
   "execution_count": 18,
   "metadata": {},
   "outputs": [
    {
     "name": "stdout",
     "output_type": "stream",
     "text": [
      "\u001b[1m63/63\u001b[0m \u001b[32m━━━━━━━━━━━━━━━━━━━━\u001b[0m\u001b[37m\u001b[0m \u001b[1m1s\u001b[0m 7ms/step\n",
      "\u001b[1m63/63\u001b[0m \u001b[32m━━━━━━━━━━━━━━━━━━━━\u001b[0m\u001b[37m\u001b[0m \u001b[1m0s\u001b[0m 5ms/step\n",
      "\u001b[1m63/63\u001b[0m \u001b[32m━━━━━━━━━━━━━━━━━━━━\u001b[0m\u001b[37m\u001b[0m \u001b[1m0s\u001b[0m 4ms/step\n"
     ]
    },
    {
     "data": {
      "image/png": "[encoded data removed]",
      "text/plain": [
       "<Figure size 1000x700 with 2 Axes>"
      ]
     },
     "metadata": {},
     "output_type": "display_data"
    }
   ],
   "source": [
    "from visualizacao import plot_confusion_matrix\n",
    "\n",
    "x_data = []\n",
    "y_data = []\n",
    "\n",
    "for _ in range(len(testePUC)):\n",
    "    x, y = next(testePUC)\n",
    "    x_data.append(x)\n",
    "    y_data.append(y)\n",
    "\n",
    "# Concatene todos os dados em arrays numpy\n",
    "x_data = np.concatenate(x_data, axis=0)\n",
    "y_data = np.concatenate(y_data, axis=0)\n",
    "\n",
    "predicao = vc.predict(x_data)\n",
    "\n",
    "plot_confusion_matrix(predicao, y_data, ['Empty', 'Occupied'], 'Teste')"
   ]
  }
 ],
 "metadata": {
  "kernelspec": {
   "display_name": ".venv",
   "language": "python",
   "name": "python3"
  },
  "language_info": {
   "codemirror_mode": {
    "name": "ipython",
    "version": 3
   },
   "file_extension": ".py",
   "mimetype": "text/x-python",
   "name": "python",
   "nbconvert_exporter": "python",
   "pygments_lexer": "ipython3",
   "version": "3.11.0rc1"
  }
 },
 "nbformat": 4,
 "nbformat_minor": 2
}

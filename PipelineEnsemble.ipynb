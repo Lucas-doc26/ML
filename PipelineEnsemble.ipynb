{
 "cells": [
  {
   "cell_type": "code",
   "execution_count": 5,
   "metadata": {},
   "outputs": [],
   "source": [
    "import os\n",
    "from keras import backend as K\n",
    "#os.environ['CUDA_VISIBLE_DEVICES'] = '-1'  # Força o uso da CPU"
   ]
  },
  {
   "cell_type": "code",
   "execution_count": 6,
   "metadata": {},
   "outputs": [],
   "source": [
    "from Modelos import GeradorClassificador, Gerador\n",
    "from segmentandoDatasets import segmentando_datasets\n",
    "from Preprocessamento import preprocessamento"
   ]
  },
  {
   "cell_type": "code",
   "execution_count": null,
   "metadata": {},
   "outputs": [],
   "source": [
    "segmentando_datasets()"
   ]
  },
  {
   "cell_type": "markdown",
   "metadata": {},
   "source": [
    "Criação dos Modelos a partir de um gerador, todos os modelos estão com a entrada de imagem (64,64,3)"
   ]
  },
  {
   "cell_type": "code",
   "execution_count": null,
   "metadata": {},
   "outputs": [],
   "source": [
    "treinoPUC, validacaoPUC, testePUC, treino_dfPUC, validacao_dfPUC, teste_df = preprocessamento(input_shape = (64,64), caminho=\"Datasets_csv/df_PUC.csv\")\n",
    "PUC = Gerador(input_shape=(64,64,3), max_layers=4)\n",
    "PUC.Dataset(treinoPUC, validacaoPUC, testePUC)\n",
    "\n",
    "ModeloPUC = PUC.construir_modelo()\n",
    "PUC.compilar_modelo()\n",
    "ModeloPUC.summary()\n",
    "PUC.encoder.summary()\n",
    "PUC.decoder.summary()\n",
    "PUC.setNome(\"Modelo PUC - Teste\")\n",
    "\n",
    "PUC.treinar_autoencoder(epocas=10, salvar=True, batch_size=8)\n",
    "del ModeloPUC\n",
    "\n",
    "K.clear_session()\n"
   ]
  },
  {
   "cell_type": "code",
   "execution_count": null,
   "metadata": {},
   "outputs": [],
   "source": [
    "treinoUFPR04, validacaoUFPR04, testeUFPR04, treino_dfUFPR04, validacao_dfUFPR04, teste_dfUFPR04 = preprocessamento(input_shape = (64,64), caminho=\"Datasets_csv/df_UFPR04.csv\")\n",
    "UFPR04 = Gerador(input_shape=(64,64,3), max_layers=4)\n",
    "UFPR04.Dataset(treinoUFPR04, validacaoUFPR04, testeUFPR04)\n",
    "\n",
    "ModeloUFPR04 = UFPR04.construir_modelo()\n",
    "UFPR04.compilar_modelo()\n",
    "ModeloUFPR04.summary()\n",
    "UFPR04.encoder.summary()\n",
    "UFPR04.decoder.summary()\n",
    "UFPR04.setNome(\"Modelo UFPR04\")\n",
    "\n",
    "UFPR04.treinar_autoencoder(epocas=10, salvar=True, batch_size=8)\n",
    "del ModeloUFPR04\n",
    "\n",
    "K.clear_session()\n"
   ]
  },
  {
   "cell_type": "code",
   "execution_count": null,
   "metadata": {},
   "outputs": [],
   "source": [
    "treinoUFPR05, validacaoUFPR05, testeUFPR05, treino_dfUFPR05, validacao_dfUFPR05, teste_dfUFPR05 = preprocessamento(input_shape = (64,64), caminho=\"Datasets_csv/df_UFPR05.csv\")\n",
    "UFPR05 = Gerador(input_shape=(64,64,3), max_layers=4) \n",
    "UFPR05.Dataset(treinoUFPR05, validacaoUFPR05, testeUFPR05)\n",
    "\n",
    "ModeloUFPR05 = UFPR05.construir_modelo()\n",
    "UFPR05.compilar_modelo()\n",
    "ModeloUFPR05.summary()\n",
    "UFPR05.encoder.summary()\n",
    "UFPR05.decoder.summary()\n",
    "\n",
    "UFPR05.setNome(\"Modelo UFPR05\")\n",
    "\n",
    "UFPR05.treinar_autoencoder(epocas=10, salvar=True, batch_size=8)\n",
    "del ModeloUFPR05\n",
    "\n",
    "K.clear_session()\n"
   ]
  },
  {
   "cell_type": "markdown",
   "metadata": {},
   "source": [
    "Forma como posso carregar os modelos"
   ]
  },
  {
   "cell_type": "code",
   "execution_count": 8,
   "metadata": {},
   "outputs": [],
   "source": [
    "PUC = Gerador()\n",
    "UFPR04 = Gerador()\n",
    "UFPR05 = Gerador()\n",
    "\n",
    "PUC.setNome('Modelo PUC')\n",
    "UFPR04.setNome('Modelo UFPR04')\n",
    "UFPR05.setNome('Modelo UFPR05')\n",
    "\n",
    "AutoencoderPUC = PUC.carrega_modelo('Modelos_keras/Autoencoders_Gerados/Modelo PUC.keras', 'weights_finais/Autoencoders_Gerados/Modelo PUC.weights.h5')\n",
    "AutoencoderUFPR04 = UFPR04.carrega_modelo('Modelos_keras/Autoencoders_Gerados/Modelo UFPR04.keras', 'weights_finais/Autoencoders_Gerados/Modelo UFPR04.weights.h5')\n",
    "AutoencoderUFPR05 = UFPR05.carrega_modelo('Modelos_keras/Autoencoders_Gerados/Modelo UFPR05.keras', 'weights_finais/Autoencoders_Gerados/Modelo UFPR05.weights.h5')"
   ]
  },
  {
   "cell_type": "code",
   "execution_count": null,
   "metadata": {},
   "outputs": [],
   "source": [
    "segmentando_datasets(10000,10000,10000)"
   ]
  },
  {
   "cell_type": "markdown",
   "metadata": {},
   "source": [
    "Gero meus classificadores a partir dos Encoders"
   ]
  },
  {
   "cell_type": "code",
   "execution_count": null,
   "metadata": {},
   "outputs": [],
   "source": [
    "classificadorPUC = GeradorClassificador(PUC.encoder, PUC.getPesos())\n",
    "treinoPUC, validacaoPUC, testePUC, treino_dfPUC, validacao_dfPUC, teste_dfPUC = preprocessamento(input_shape = (64,64), caminho=\"Datasets_csv/df_PUC.csv\", autoencoder=False)\n",
    "classificadorPUC.Dataset(treinoPUC, validacaoPUC, testePUC)\n",
    "classificadorPUC.treinamento(epocas=5)\n",
    "classificadorPUC.predicao(teste_dfPUC)"
   ]
  },
  {
   "cell_type": "code",
   "execution_count": null,
   "metadata": {},
   "outputs": [],
   "source": [
    "classificadorUFPR04 = GeradorClassificador(UFPR04.encoder, UFPR04.getPesos())\n",
    "treinoUFPR04, validacaoUFPR04, testeUFPR04, treino_dfUFPR04, validacao_dfUFPR04, teste_dfUFPR04 = preprocessamento(input_shape = (64,64), caminho=\"Datasets_csv/df_UFPR04.csv\", autoencoder=False)\n",
    "classificadorUFPR04.Dataset(treinoUFPR04, validacaoUFPR04, testeUFPR04)\n",
    "classificadorUFPR04.treinamento()\n",
    "classificadorUFPR04.predicao(teste_dfUFPR04)"
   ]
  },
  {
   "cell_type": "code",
   "execution_count": null,
   "metadata": {},
   "outputs": [],
   "source": [
    "classificadorUFPR05 = GeradorClassificador(UFPR05.encoder, UFPR05.getPesos())\n",
    "treinoUFPR05, validacaoUFPR05, testeUFPR05, treino_dfUFPR05, validacao_dfUFPR05, teste_dfUFPR05 = preprocessamento(input_shape = (64,64), caminho=\"Datasets_csv/df_UFPR05.csv\", autoencoder=False)\n",
    "classificadorUFPR05.Dataset(treinoUFPR05, validacaoUFPR05, testeUFPR05)\n",
    "classificadorUFPR05.treinamento()\n",
    "classificadorUFPR05.predicao(teste_dfUFPR05)"
   ]
  },
  {
   "cell_type": "markdown",
   "metadata": {},
   "source": [
    "Ensemble"
   ]
  },
  {
   "cell_type": "code",
   "execution_count": null,
   "metadata": {},
   "outputs": [],
   "source": [
    "from sklearn.ensemble import VotingClassifier\n",
    "from sklearn.linear_model import LogisticRegression\n",
    "from sklearn.tree import DecisionTreeClassifier\n",
    "from sklearn.svm import SVC\n",
    "from sklearn.datasets import make_classification\n",
    "from sklearn.model_selection import train_test_split\n",
    "\n",
    "X = teste_dfPUC['caminho_imagem']\n",
    "y = teste_dfPUC['classe']\n",
    "\n",
    "X_train, X_test, y_train, y_test = train_test_split(X, y, test_size=0.2, random_state=42)\n",
    "\n",
    "ensemble = VotingClassifier(\n",
    "    estimators=[\n",
    "        ('PUC', classificadorPUC),\n",
    "        ('UFPR04', classificadorUFPR04),\n",
    "        ('UFPR05', classificadorUFPR05)\n",
    "    ],\n",
    "    voting='hard'\n",
    ")\n",
    "ensemble.fit(X_train, y_train)\n",
    "\n",
    "print(f\"Accuracy of the ensemble: {ensemble.score()*100} %\")"
   ]
  },
  {
   "cell_type": "markdown",
   "metadata": {},
   "source": [
    "Predizendo a mesma base para todos e criar um df para comparar seus resultados"
   ]
  },
  {
   "cell_type": "code",
   "execution_count": null,
   "metadata": {},
   "outputs": [],
   "source": [
    "predPuc = classificadorPUC.predicao(teste_dfUFPR04)\n",
    "predUfpr04 = classificadorUFPR04.predicao(teste_dfUFPR04)\n",
    "predUfpr05 = classificadorUFPR05.predicao(teste_dfUFPR04)"
   ]
  },
  {
   "cell_type": "code",
   "execution_count": null,
   "metadata": {},
   "outputs": [],
   "source": [
    "import pandas as pd\n",
    "from Preprocessamento import mapear_rotulos_binarios\n",
    "from visualizacao import exibir_primeiras_imagens\n",
    "\n",
    "comparacao = pd.DataFrame()\n",
    "comparacao['Classe real'] = mapear_rotulos_binarios(teste_dfUFPR04['classe'])\n",
    "comparacao['Classe predida PUC'] = predPuc\n",
    "comparacao['Classe predida UFPR04'] = predUfpr04\n",
    "comparacao['Classe predida UFPR05'] = predUfpr05\n",
    "\n",
    "comparacao.to_csv(\"teste.csv\", index=False)\n",
    "\n",
    "exibir_primeiras_imagens(dataframe=teste_dfUFPR04)\n"
   ]
  }
 ],
 "metadata": {
  "kernelspec": {
   "display_name": ".venv",
   "language": "python",
   "name": "python3"
  },
  "language_info": {
   "codemirror_mode": {
    "name": "ipython",
    "version": 3
   },
   "file_extension": ".py",
   "mimetype": "text/x-python",
   "name": "python",
   "nbconvert_exporter": "python",
   "pygments_lexer": "ipython3",
   "version": "3.11.0rc1"
  }
 },
 "nbformat": 4,
 "nbformat_minor": 2
}

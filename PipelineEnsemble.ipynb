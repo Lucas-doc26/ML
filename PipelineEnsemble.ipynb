{
 "cells": [
  {
   "cell_type": "code",
   "execution_count": null,
   "metadata": {},
   "outputs": [],
   "source": [
    "import os\n",
    "from keras import backend as K\n",
    "#os.environ['CUDA_VISIBLE_DEVICES'] = '-1'  # Força o uso da CPU"
   ]
  },
  {
   "cell_type": "code",
   "execution_count": 2,
   "metadata": {},
   "outputs": [],
   "source": [
    "from Modelos import GeradorClassificador, Gerador\n",
    "from segmentandoDatasets import segmentando_datasets\n",
    "from Preprocessamento import preprocessamento"
   ]
  },
  {
   "cell_type": "code",
   "execution_count": 3,
   "metadata": {},
   "outputs": [],
   "source": [
    "segmentando_datasets(10000,10000,10000)"
   ]
  },
  {
   "cell_type": "markdown",
   "metadata": {},
   "source": [
    "Criação dos Modelos a partir de um gerador, todos os modelos estão com a entrada de imagem (64,64,3)"
   ]
  },
  {
   "cell_type": "code",
   "execution_count": null,
   "metadata": {},
   "outputs": [],
   "source": [
    "treinoPUC, validacaoPUC, testePUC, treino_dfPUC, validacao_dfPUC, teste_df = preprocessamento(input_shape = (64,64), caminho=\"Datasets_csv/df_PUC.csv\")\n",
    "PUC = Gerador(input_shape=(64,64,3),min_layers=1, max_layers=6)\n",
    "PUC.Dataset(treinoPUC, validacaoPUC, testePUC)\n",
    "\n",
    "ModeloPUC = PUC.construir_modelo()\n",
    "PUC.compilar_modelo()\n",
    "ModeloPUC.summary()\n",
    "PUC.encoder.summary()\n",
    "PUC.decoder.summary()\n",
    "PUC.setNome(\"Modelo PUC - Teste\")\n",
    "\n",
    "PUC.treinar_autoencoder(epocas=10, salvar=True, batch_size=8)\n",
    "del ModeloPUC\n",
    "\n",
    "K.clear_session()"
   ]
  },
  {
   "cell_type": "code",
   "execution_count": null,
   "metadata": {},
   "outputs": [],
   "source": [
    "\"\"\"treinoUFPR04, validacaoUFPR04, testeUFPR04, treino_dfUFPR04, validacao_dfUFPR04, teste_dfUFPR04 = preprocessamento(input_shape = (64,64), caminho=\"Datasets_csv/df_UFPR04.csv\")\n",
    "UFPR04 = Gerador(input_shape=(64,64,3), max_layers=4)\n",
    "UFPR04.Dataset(treinoUFPR04, validacaoUFPR04, testeUFPR04)\n",
    "\n",
    "ModeloUFPR04 = UFPR04.construir_modelo()\n",
    "UFPR04.compilar_modelo()\n",
    "ModeloUFPR04.summary()\n",
    "UFPR04.encoder.summary()\n",
    "UFPR04.decoder.summary()\n",
    "UFPR04.setNome(\"Modelo UFPR04\")\n",
    "\n",
    "UFPR04.treinar_autoencoder(epocas=10, salvar=True, batch_size=8)\n",
    "del ModeloUFPR04\n",
    "\n",
    "K.clear_session()\"\"\"\n"
   ]
  },
  {
   "cell_type": "code",
   "execution_count": null,
   "metadata": {},
   "outputs": [],
   "source": [
    "\"\"\"treinoUFPR05, validacaoUFPR05, testeUFPR05, treino_dfUFPR05, validacao_dfUFPR05, teste_dfUFPR05 = preprocessamento(input_shape = (64,64), caminho=\"Datasets_csv/df_UFPR05.csv\")\n",
    "UFPR05 = Gerador(input_shape=(64,64,3), max_layers=4) \n",
    "UFPR05.Dataset(treinoUFPR05, validacaoUFPR05, testeUFPR05)\n",
    "\n",
    "ModeloUFPR05 = UFPR05.construir_modelo()\n",
    "UFPR05.compilar_modelo()\n",
    "ModeloUFPR05.summary()\n",
    "UFPR05.encoder.summary()\n",
    "UFPR05.decoder.summary()\n",
    "\n",
    "UFPR05.setNome(\"Modelo UFPR05\")\n",
    "\n",
    "UFPR05.treinar_autoencoder(epocas=10, salvar=True, batch_size=8)\n",
    "del ModeloUFPR05\n",
    "\n",
    "K.clear_session()\"\"\"\n"
   ]
  },
  {
   "cell_type": "markdown",
   "metadata": {},
   "source": [
    "Forma como posso carregar os modelos"
   ]
  },
  {
   "cell_type": "code",
   "execution_count": 7,
   "metadata": {},
   "outputs": [],
   "source": [
    "PUC = Gerador()\n",
    "UFPR04 = Gerador()\n",
    "UFPR05 = Gerador()\n",
    "\n",
    "PUC.setNome('Modelo PUC')\n",
    "UFPR04.setNome('Modelo UFPR04')\n",
    "UFPR05.setNome('Modelo UFPR05')\n",
    "\n",
    "AutoencoderPUC = PUC.carrega_modelo('Modelos_keras/Autoencoders_Gerados/Modelo PUC.keras', 'weights_finais/Autoencoders_Gerados/Modelo PUC.weights.h5')\n",
    "AutoencoderUFPR04 = UFPR04.carrega_modelo('Modelos_keras/Autoencoders_Gerados/Modelo UFPR04.keras', 'weights_finais/Autoencoders_Gerados/Modelo UFPR04.weights.h5')\n",
    "AutoencoderUFPR05 = UFPR05.carrega_modelo('Modelos_keras/Autoencoders_Gerados/Modelo UFPR05.keras', 'weights_finais/Autoencoders_Gerados/Modelo UFPR05.weights.h5')"
   ]
  },
  {
   "cell_type": "code",
   "execution_count": null,
   "metadata": {},
   "outputs": [],
   "source": [
    "segmentando_datasets(10000,10000,10000)"
   ]
  },
  {
   "cell_type": "markdown",
   "metadata": {},
   "source": [
    "Gero meus classificadores a partir dos Encoders"
   ]
  },
  {
   "cell_type": "code",
   "execution_count": null,
   "metadata": {},
   "outputs": [],
   "source": [
    "\"\"\"classificadorPUC = GeradorClassificador(PUC.encoder, PUC.getPesos(), nomeModelo='PUC')\n",
    "treinoPUC, validacaoPUC, testePUC, treino_dfPUC, validacao_dfPUC, teste_dfPUC = preprocessamento(input_shape = (64,64), caminho=\"Datasets_csv/df_PUC.csv\", autoencoder=False)\n",
    "classificadorPUC.Dataset(treinoPUC, validacaoPUC, testePUC)\n",
    "classificadorPUC.treinamento(salvar=True)\n",
    "classificadorPUC.predicao(teste_dfPUC)\"\"\""
   ]
  },
  {
   "cell_type": "code",
   "execution_count": null,
   "metadata": {},
   "outputs": [],
   "source": [
    "\"\"\"classificadorUFPR04 = GeradorClassificador(UFPR04.encoder, UFPR04.getPesos(), 'UFPR04')\n",
    "treinoUFPR04, validacaoUFPR04, testeUFPR04, treino_dfUFPR04, validacao_dfUFPR04, teste_dfUFPR04 = preprocessamento(input_shape = (64,64), caminho=\"Datasets_csv/df_UFPR04.csv\", autoencoder=False)\n",
    "classificadorUFPR04.Dataset(treinoUFPR04, validacaoUFPR04, testeUFPR04)\n",
    "classificadorUFPR04.treinamento(salvar=True)\n",
    "classificadorUFPR04.predicao(teste_dfUFPR04)\"\"\""
   ]
  },
  {
   "cell_type": "code",
   "execution_count": null,
   "metadata": {},
   "outputs": [],
   "source": [
    "\"\"\"classificadorUFPR05 = GeradorClassificador(UFPR05.encoder, UFPR05.getPesos(), 'UFPR05')\n",
    "treinoUFPR05, validacaoUFPR05, testeUFPR05, treino_dfUFPR05, validacao_dfUFPR05, teste_dfUFPR05 = preprocessamento(input_shape = (64,64), caminho=\"Datasets_csv/df_UFPR05.csv\", autoencoder=False)\n",
    "classificadorUFPR05.Dataset(treinoUFPR05, validacaoUFPR05, testeUFPR05)\n",
    "classificadorUFPR05.treinamento(salvar=True)\n",
    "classificadorUFPR05.predicao(teste_dfUFPR05)\"\"\""
   ]
  },
  {
   "cell_type": "markdown",
   "metadata": {},
   "source": [
    "Como carregar os classificadores existentes"
   ]
  },
  {
   "cell_type": "code",
   "execution_count": null,
   "metadata": {},
   "outputs": [],
   "source": [
    "classificadorPUC = GeradorClassificador(PUC.encoder, PUC.getPesos(), 'PUC')\n",
    "treinoPUC, validacaoPUC, testePUC, treino_dfPUC, validacao_dfPUC, teste_dfPUC = preprocessamento(input_shape = (64,64), caminho=\"Datasets_csv/df_PUC.csv\", autoencoder=False)\n",
    "classificadorPUC.carrega_modelo(\"Modelos_keras/Classificador_Gerados/Classificador-PUC.keras\", \"weights_finais/Classificador_Gerados/Classificador-PUC.weights.h5\")\n",
    "classificadorPUC.Dataset(treinoPUC, validacaoPUC, testePUC)\n",
    "classificadorPUC.predicao(teste_dfPUC)"
   ]
  },
  {
   "cell_type": "code",
   "execution_count": null,
   "metadata": {},
   "outputs": [],
   "source": [
    "classificadorUFPR04 = GeradorClassificador(UFPR04.encoder, UFPR04.getPesos(), 'UFPR04')\n",
    "treinoUFPR04, validacaoUFPR04, testeUFPR04, treino_dfUFPR04, validacao_dfUFPR04, teste_dfUFPR04 = preprocessamento(input_shape = (64,64), caminho=\"Datasets_csv/df_UFPR04.csv\", autoencoder=False)\n",
    "classificadorUFPR04.carrega_modelo(\"Modelos_keras/Classificador_Gerados/Classificador-UFPR04.keras\", \"weights_finais/Classificador_Gerados/Classificador-UFPR04.weights.h5\")\n",
    "classificadorUFPR04.Dataset(treinoUFPR04, validacaoUFPR04, testeUFPR04)\n",
    "classificadorUFPR04.predicao(teste_dfUFPR04)"
   ]
  },
  {
   "cell_type": "code",
   "execution_count": null,
   "metadata": {},
   "outputs": [],
   "source": [
    "classificadorUFPR05 = GeradorClassificador(UFPR05.encoder, UFPR05.getPesos(), 'UFPR05')\n",
    "treinoUFPR05, validacaoUFPR05, testeUFPR05, treino_dfUFPR05, validacao_dfUFPR05, teste_dfUFPR05 = preprocessamento(input_shape = (64,64), caminho=\"Datasets_csv/df_UFPR05.csv\", autoencoder=False)\n",
    "classificadorUFPR05.carrega_modelo(\"Modelos_keras/Classificador_Gerados/Classificador-UFPR05.keras\", \"weights_finais/Classificador_Gerados/Classificador-UFPR05.weights.h5\")\n",
    "classificadorUFPR05.Dataset(treinoUFPR05, validacaoUFPR05, testeUFPR05)\n",
    "classificadorUFPR05.predicao(teste_dfUFPR05)"
   ]
  },
  {
   "cell_type": "code",
   "execution_count": null,
   "metadata": {},
   "outputs": [],
   "source": []
  },
  {
   "cell_type": "code",
   "execution_count": null,
   "metadata": {},
   "outputs": [],
   "source": []
  },
  {
   "cell_type": "code",
   "execution_count": null,
   "metadata": {},
   "outputs": [],
   "source": []
  },
  {
   "cell_type": "code",
   "execution_count": 15,
   "metadata": {},
   "outputs": [],
   "source": [
    "\"\"\"import numpy as np\n",
    "\n",
    "def x_y(gerador):\n",
    "    x_data = []\n",
    "    y_data = []\n",
    "\n",
    "    for _ in range(len(gerador)):\n",
    "        x, y = next(gerador)\n",
    "        x_data.append(x)\n",
    "        y_data.append(y)\n",
    "\n",
    "    x_data = np.concatenate(x_data, axis=0)\n",
    "    y_data = np.concatenate(y_data, axis=0)\n",
    "\n",
    "    return x_data, y_data\"\"\""
   ]
  },
  {
   "cell_type": "markdown",
   "metadata": {},
   "source": [
    "Criando um classificador keras, o modelo que o sklearn aceita\n"
   ]
  },
  {
   "cell_type": "code",
   "execution_count": 16,
   "metadata": {},
   "outputs": [],
   "source": [
    "\"\"\"from scikeras.wrappers import KerasClassifier\n",
    "\n",
    "classificador_PUC = KerasClassifier(model=classificadorPUC)\n",
    "classificador_UFPR04 = KerasClassifier(model=classificadorUFPR04)\n",
    "classificador_UFPR05 = KerasClassifier(model=classificadorUFPR05)\"\"\""
   ]
  },
  {
   "cell_type": "markdown",
   "metadata": {},
   "source": [
    "Ensemble Bagging "
   ]
  },
  {
   "cell_type": "code",
   "execution_count": null,
   "metadata": {},
   "outputs": [],
   "source": [
    "\"\"\"from sklearn.ensemble import BaggingClassifier\n",
    "from sklearn.svm import SVC\n",
    "\n",
    "x_treino, y_treino = x_y(treinoPUC)\n",
    "\n",
    "bagging = BaggingClassifier(estimator=SVC(), n_estimators=10) \n",
    "#teria que mudar meu input do classificador para 12288 para poder colocar ele como estimator \n",
    "\n",
    "x_treino_flattened = x_treino.reshape(x_treino.shape[0], -1)  \n",
    "#achata as imagens para (n_samples, height * width * channels)\n",
    "\n",
    "bagging.fit(x_treino_flattened, y_treino)\n",
    "#bagging aceita apenas entradas apenas em duas dimensões \n",
    "\"\"\""
   ]
  },
  {
   "cell_type": "code",
   "execution_count": null,
   "metadata": {},
   "outputs": [],
   "source": [
    "\"\"\"from sklearn.metrics import accuracy_score\n",
    "from visualizacao import plot_confusion_matrix\n",
    "\n",
    "x_teste, y_teste = x_y(testePUC)\n",
    "\n",
    "x_teste_flattened = x_teste.reshape(x_teste.shape[0], -1)\n",
    "\n",
    "y_pred_bg=bagging.predict(x_teste_flattened)\n",
    "\n",
    "print(\"Acuracia: \",accuracy_score(y_teste,y_pred_bg))\n",
    "plot_confusion_matrix(y_teste, y_pred_bg)\n",
    "\"\"\""
   ]
  },
  {
   "cell_type": "markdown",
   "metadata": {},
   "source": [
    "Ensemble Voting"
   ]
  },
  {
   "cell_type": "code",
   "execution_count": 46,
   "metadata": {},
   "outputs": [],
   "source": [
    "\"\"\"from sklearn.ensemble import VotingClassifier\n",
    "\n",
    "classificadores = [(\"PUC\", classificador_PUC), (\"UFPR04\",classificador_UFPR04), (\"UFPR05\", classificador_UFPR05)]\n",
    "\n",
    "vc = VotingClassifier(estimators=classificadores, voting='hard', n_jobs=1)\"\"\""
   ]
  },
  {
   "cell_type": "code",
   "execution_count": null,
   "metadata": {},
   "outputs": [],
   "source": [
    "#vc.fit(x_treino, y_treino)"
   ]
  },
  {
   "cell_type": "code",
   "execution_count": null,
   "metadata": {},
   "outputs": [],
   "source": [
    "\"\"\"y_pred_vc = vc.predict(x_teste)\n",
    "\n",
    "plot_confusion_matrix(y_teste, y_pred_vc)\"\"\""
   ]
  },
  {
   "cell_type": "markdown",
   "metadata": {},
   "source": [
    "Ensemble AdaBoost"
   ]
  },
  {
   "cell_type": "code",
   "execution_count": null,
   "metadata": {},
   "outputs": [],
   "source": [
    "\"\"\"from sklearn.ensemble import AdaBoostClassifier\n",
    "from sklearn.tree import DecisionTreeClassifier\n",
    "from sklearn.metrics import accuracy_score\n",
    "\n",
    "# Use AdaBoostClassifier\n",
    "ada_class = AdaBoostClassifier(estimator=classificador_PUC, n_estimators=50, random_state=42)\n",
    "ada_class.fit(x_treino_flattened, y_treino)\n",
    "y_pred_class_ada = ada_class.predict(x_teste_flattened)\n",
    "print(\"Classification Accuracy Score:\", accuracy_score(y_teste, y_pred_class_ada))\n",
    "plot_confusion_matrix(y_teste, y_pred_class_ada)\n",
    "\"\"\""
   ]
  }
 ],
 "metadata": {
  "kernelspec": {
   "display_name": ".venv",
   "language": "python",
   "name": "python3"
  },
  "language_info": {
   "codemirror_mode": {
    "name": "ipython",
    "version": 3
   },
   "file_extension": ".py",
   "mimetype": "text/x-python",
   "name": "python",
   "nbconvert_exporter": "python",
   "pygments_lexer": "ipython3",
   "version": "3.11.0"
  }
 },
 "nbformat": 4,
 "nbformat_minor": 2
}
